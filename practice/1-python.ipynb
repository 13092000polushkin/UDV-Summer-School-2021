{
  "nbformat": 4,
  "nbformat_minor": 0,
  "metadata": {
    "kernelspec": {
      "display_name": "Python 3",
      "language": "python",
      "name": "python3"
    },
    "language_info": {
      "codemirror_mode": {
        "name": "ipython",
        "version": 3
      },
      "file_extension": ".py",
      "mimetype": "text/x-python",
      "name": "python",
      "nbconvert_exporter": "python",
      "pygments_lexer": "ipython3",
      "version": "3.7.4"
    },
    "colab": {
      "name": "100 questions Python.ipynb",
      "provenance": []
    }
  },
  "cells": [
    {
      "cell_type": "markdown",
      "metadata": {
        "id": "Z0Dr7hK0ks9X"
      },
      "source": [
        "# UDV Summer School 2021\n"
      ]
    },
    {
      "cell_type": "markdown",
      "metadata": {
        "id": "C7nErJUS5YMw"
      },
      "source": [
        "#Практика по python"
      ]
    },
    {
      "cell_type": "markdown",
      "metadata": {
        "id": "APlqAAlx5fzV"
      },
      "source": [
        "Python: основные элементы и практические примеры работы.\n",
        "\n",
        "Для выполнения заданий не обязательно устанавливать Python локально, можно воспользоваться одним из популярных открытых инструментов\n",
        "\n",
        "- https://colab.research.google.com.\n",
        "\n",
        "- https://kaggle.com"
      ]
    },
    {
      "cell_type": "markdown",
      "metadata": {
        "id": "5gBGgBvg5TXA"
      },
      "source": [
        "# Задачи для тех, кто в уже теме\n",
        "\n",
        "Вычислить площадь окружности.\n",
        "\n",
        "Перевернуть слово.\n",
        "\n",
        "Посчитать числа Фибоначчи.\n",
        "\n",
        "Посчитать количество вхождений символов в файл.\n",
        "\n",
        "...\n",
        "\n",
        "\n",
        "Курс Stepik \"50 задач Python\" https://stepik.org/course/88731/info"
      ]
    },
    {
      "cell_type": "markdown",
      "metadata": {
        "id": "a2aoX6BV3hDt"
      },
      "source": [
        "# Оглавление <a name='content'></a>"
      ]
    },
    {
      "cell_type": "markdown",
      "metadata": {
        "id": "yBzCM30Vks9a"
      },
      "source": [
        "<ol>\n",
        "<li><a href='#basic'>Переменные, типы данных</a></li>\n",
        "<li><a href='#structures'>Структурированные типы данных</a></li>\n",
        "    <ol>\n",
        "        <li><a href='#strings'>Строки</a></li>\n",
        "        <li><a href='#lists'>Списки</a></li>\n",
        "        <li><a href='#tuples'>Кортежи</a></li>\n",
        "        <li><a href='#dict'>Словари</a></li>\n",
        "        <li><a href='#sets'>Множества</a></li>\n",
        "    </ol>\n",
        "<li><a href='#fs'>Функции</a></li>\n",
        "<li><a href='#control'>Операторы</a></li>\n",
        "    <ol>\n",
        "        <li><a href='#if'>Условный оператор if</a></li>\n",
        "        <li><a href='#while'>Цикл while</a></li>\n",
        "        <li><a href='#for'>Цикл for</a></li>\n",
        "    </ol>\n",
        "<li><a href='#io'>Ввод и вывод данных</a></li>\n",
        "<li><a href='#oop'>Объектно-ориентированное программирование</a></li>\n",
        "<li><a href='#magic'>Магические команды</a></li>\n",
        "<li><a href='#10ops'>10 типовых примеров использования python</a></li>\n",
        "<li><a href='#links'>Полезные ссылки</a></li>\n",
        "</ol>\n",
        "    "
      ]
    },
    {
      "cell_type": "markdown",
      "metadata": {
        "id": "J_d8hexGks9g"
      },
      "source": [
        "# Переменные, типы данных <a name='basic'></a>"
      ]
    },
    {
      "cell_type": "markdown",
      "metadata": {
        "id": "VYIs3tTlks9g"
      },
      "source": [
        "#### Объявление переменной. Вывод на экран."
      ]
    },
    {
      "cell_type": "code",
      "metadata": {
        "colab": {
          "base_uri": "https://localhost:8080/"
        },
        "id": "9HUr4M5cks9g",
        "outputId": "d59e199a-2e13-4bd0-f8f9-620b4bb3446e"
      },
      "source": [
        "a = 1\n",
        "print(a)\n",
        "print(type(a))"
      ],
      "execution_count": 1,
      "outputs": [
        {
          "output_type": "stream",
          "text": [
            "1\n",
            "<class 'int'>\n"
          ],
          "name": "stdout"
        }
      ]
    },
    {
      "cell_type": "code",
      "metadata": {
        "colab": {
          "base_uri": "https://localhost:8080/"
        },
        "id": "yjbeco7wks9h",
        "outputId": "0e9c7ebe-8856-4e8b-ac31-efea9e89575d"
      },
      "source": [
        "s = \"Hello, world!\"\n",
        "print(s)\n",
        "print(type(s))"
      ],
      "execution_count": 2,
      "outputs": [
        {
          "output_type": "stream",
          "text": [
            "Hello, world!\n",
            "<class 'str'>\n"
          ],
          "name": "stdout"
        }
      ]
    },
    {
      "cell_type": "markdown",
      "metadata": {
        "id": "oQ-xr7gVks9h"
      },
      "source": [
        "#### Комментарии"
      ]
    },
    {
      "cell_type": "code",
      "metadata": {
        "id": "RZ16eV73ks9h"
      },
      "source": [
        "# однострочный комментарий"
      ],
      "execution_count": 3,
      "outputs": []
    },
    {
      "cell_type": "code",
      "metadata": {
        "colab": {
          "base_uri": "https://localhost:8080/",
          "height": 35
        },
        "id": "s5lU06v_ks9h",
        "outputId": "1d5c163c-5eed-4654-a531-485d2aef2bb9"
      },
      "source": [
        "'''\n",
        "это строковая переменная,\n",
        "но здесь она используется как\n",
        "комментарий из нескольких строк\n",
        "'''"
      ],
      "execution_count": 4,
      "outputs": [
        {
          "output_type": "execute_result",
          "data": {
            "application/vnd.google.colaboratory.intrinsic+json": {
              "type": "string"
            },
            "text/plain": [
              "'\\nэто строковая переменная,\\nно здесь она используется как\\nкомментарий из нескольких строк\\n'"
            ]
          },
          "metadata": {
            "tags": []
          },
          "execution_count": 4
        }
      ]
    },
    {
      "cell_type": "code",
      "metadata": {
        "id": "WamWQY1pks9h"
      },
      "source": [
        "#но лучше многострочный комментарий \n",
        "#делать так\n",
        "#asdf\n",
        "#asdf\n",
        "#asdf\n",
        "#asdf\n",
        "#asdf"
      ],
      "execution_count": 5,
      "outputs": []
    },
    {
      "cell_type": "markdown",
      "metadata": {
        "id": "F3LoG_SZks9i"
      },
      "source": [
        "#### Получение справки"
      ]
    },
    {
      "cell_type": "markdown",
      "metadata": {
        "id": "RwWa4eEpks9i"
      },
      "source": [
        "При описании функции текст заключается в тройные кавычки (\"\"\" в начале и в конце) и потом используется для docstring."
      ]
    },
    {
      "cell_type": "code",
      "metadata": {
        "id": "quZJnBTsks9i"
      },
      "source": [
        "def f():\n",
        "    \"\"\"\n",
        "    Функция f()\n",
        "    \"\"\"\n",
        "    print(\"Hello\")"
      ],
      "execution_count": 6,
      "outputs": []
    },
    {
      "cell_type": "code",
      "metadata": {
        "id": "bJ39KfsVks9i"
      },
      "source": [
        "f?"
      ],
      "execution_count": 7,
      "outputs": []
    },
    {
      "cell_type": "code",
      "metadata": {
        "id": "4AbvUqn6ks9i"
      },
      "source": [
        "min?"
      ],
      "execution_count": 8,
      "outputs": []
    },
    {
      "cell_type": "markdown",
      "metadata": {
        "id": "pF4n0qttks9i"
      },
      "source": [
        "#### Структура программы. Отступы."
      ]
    },
    {
      "cell_type": "code",
      "metadata": {
        "colab": {
          "base_uri": "https://localhost:8080/"
        },
        "id": "YDO2sIxIks9i",
        "outputId": "2503985f-42e5-4866-d1a6-f857dec769e6"
      },
      "source": [
        "for i in range(3):\n",
        "# тело цикла выделяется отступом, обычно 4 пробела.\n",
        "    print(i)"
      ],
      "execution_count": 9,
      "outputs": [
        {
          "output_type": "stream",
          "text": [
            "0\n",
            "1\n",
            "2\n"
          ],
          "name": "stdout"
        }
      ]
    },
    {
      "cell_type": "code",
      "metadata": {
        "colab": {
          "base_uri": "https://localhost:8080/",
          "height": 35
        },
        "id": "TymFmoC5ks9j",
        "outputId": "82cca094-2f10-422d-fa18-0dac44740e00"
      },
      "source": [
        "def f():\n",
        "# тело функции выделяется отступом, обычно 4 пробела.    \n",
        "    return \"Привет\"\n",
        "\n",
        "f()"
      ],
      "execution_count": 10,
      "outputs": [
        {
          "output_type": "execute_result",
          "data": {
            "application/vnd.google.colaboratory.intrinsic+json": {
              "type": "string"
            },
            "text/plain": [
              "'Привет'"
            ]
          },
          "metadata": {
            "tags": []
          },
          "execution_count": 10
        }
      ]
    },
    {
      "cell_type": "markdown",
      "metadata": {
        "id": "U7xhsdOZks9j"
      },
      "source": [
        "#### Импорт модулей"
      ]
    },
    {
      "cell_type": "code",
      "metadata": {
        "colab": {
          "base_uri": "https://localhost:8080/"
        },
        "id": "J37SSGNDks9j",
        "outputId": "08969f49-6f96-4df4-b978-bc4f2933ca5d"
      },
      "source": [
        "from math import *\n",
        "sqrt(4)\n",
        "sin(-2)"
      ],
      "execution_count": 11,
      "outputs": [
        {
          "output_type": "execute_result",
          "data": {
            "text/plain": [
              "-0.9092974268256817"
            ]
          },
          "metadata": {
            "tags": []
          },
          "execution_count": 11
        }
      ]
    },
    {
      "cell_type": "code",
      "metadata": {
        "colab": {
          "base_uri": "https://localhost:8080/",
          "height": 264
        },
        "id": "g9prQiA6ks9j",
        "outputId": "6120b547-4838-4831-813c-a6fb78040bbd"
      },
      "source": [
        "from matplotlib import pyplot as plt\n",
        "plt.plot([0,1],[0,1])\n",
        "plt.show()"
      ],
      "execution_count": 12,
      "outputs": [
        {
          "output_type": "display_data",
          "data": {
            "image/png": "[encoded data removed]",
            "text/plain": [
              "<Figure size 432x288 with 1 Axes>"
            ]
          },
          "metadata": {
            "tags": [],
            "needs_background": "light"
          }
        }
      ]
    },
    {
      "cell_type": "markdown",
      "metadata": {
        "id": "fVIm4S-Oks9k"
      },
      "source": [
        "#### Операция присваивания значения переменной"
      ]
    },
    {
      "cell_type": "code",
      "metadata": {
        "colab": {
          "base_uri": "https://localhost:8080/"
        },
        "id": "asjYbbZiks9k",
        "outputId": "f225a4cb-f696-4db5-8bf0-2ea401bd6285"
      },
      "source": [
        "a,b = 1,2\n",
        "print(\"a={}, b={}\".format(a,b))\n",
        "a,b = b,a\n",
        "print(\"a={}, b={}\".format(a,b))"
      ],
      "execution_count": 13,
      "outputs": [
        {
          "output_type": "stream",
          "text": [
            "a=1, b=2\n",
            "a=2, b=1\n"
          ],
          "name": "stdout"
        }
      ]
    },
    {
      "cell_type": "markdown",
      "metadata": {
        "id": "7lAdMp0jks9l"
      },
      "source": [
        "#### Операции сложения, вычитания, умножения"
      ]
    },
    {
      "cell_type": "code",
      "metadata": {
        "colab": {
          "base_uri": "https://localhost:8080/"
        },
        "id": "7luqP5Nsks9l",
        "outputId": "b2995a85-8a10-44a7-c64e-89a52fc1863b"
      },
      "source": [
        "a = 1\n",
        "print(a+1, a-1, a*2)"
      ],
      "execution_count": 14,
      "outputs": [
        {
          "output_type": "stream",
          "text": [
            "2 0 2\n"
          ],
          "name": "stdout"
        }
      ]
    },
    {
      "cell_type": "markdown",
      "metadata": {
        "id": "W-mfbNcDks9m"
      },
      "source": [
        "#### Операция деления. Целая часть, остаток от деления."
      ]
    },
    {
      "cell_type": "code",
      "metadata": {
        "colab": {
          "base_uri": "https://localhost:8080/"
        },
        "id": "nroJLVlhks9n",
        "outputId": "256809f2-ba2d-4277-f22c-9be046cd8685"
      },
      "source": [
        "print(10/3, 10//3, 10%3)"
      ],
      "execution_count": 15,
      "outputs": [
        {
          "output_type": "stream",
          "text": [
            "3.3333333333333335 3 1\n"
          ],
          "name": "stdout"
        }
      ]
    },
    {
      "cell_type": "code",
      "metadata": {
        "colab": {
          "base_uri": "https://localhost:8080/"
        },
        "id": "hXchop9Fks9n",
        "outputId": "48688356-8ed7-4d69-a231-fc0661308895"
      },
      "source": [
        "a,b = divmod(10,3)\n",
        "print(a,b)"
      ],
      "execution_count": 16,
      "outputs": [
        {
          "output_type": "stream",
          "text": [
            "3 1\n"
          ],
          "name": "stdout"
        }
      ]
    },
    {
      "cell_type": "markdown",
      "metadata": {
        "id": "0Vecsgvyks9o"
      },
      "source": [
        "#### Короткая запись операций"
      ]
    },
    {
      "cell_type": "code",
      "metadata": {
        "colab": {
          "base_uri": "https://localhost:8080/"
        },
        "id": "P6tftxvGks9o",
        "outputId": "32ae3de3-f078-4fd3-918c-4e564c965e74"
      },
      "source": [
        "a = 1\n",
        "print(a)\n",
        "a += 1\n",
        "print(a)\n",
        "a *= 2\n",
        "print(a)\n",
        "a /= 3\n",
        "print(a)"
      ],
      "execution_count": 17,
      "outputs": [
        {
          "output_type": "stream",
          "text": [
            "1\n",
            "2\n",
            "4\n",
            "1.3333333333333333\n"
          ],
          "name": "stdout"
        }
      ]
    },
    {
      "cell_type": "markdown",
      "metadata": {
        "id": "4vpNU5aIks9o"
      },
      "source": [
        "#### Возведение в степень, извлечение корня"
      ]
    },
    {
      "cell_type": "code",
      "metadata": {
        "colab": {
          "base_uri": "https://localhost:8080/"
        },
        "id": "uJySvduyks9p",
        "outputId": "e10d24d7-3652-4183-cf6d-a5fe7f1cf1bc"
      },
      "source": [
        "print(2**2, 4**(1/2))"
      ],
      "execution_count": 18,
      "outputs": [
        {
          "output_type": "stream",
          "text": [
            "4 2.0\n"
          ],
          "name": "stdout"
        }
      ]
    },
    {
      "cell_type": "markdown",
      "metadata": {
        "id": "AK4OIFflks9p"
      },
      "source": [
        "#### Типы переменных"
      ]
    },
    {
      "cell_type": "code",
      "metadata": {
        "colab": {
          "base_uri": "https://localhost:8080/"
        },
        "id": "q5m4a-iRks9p",
        "outputId": "3460e1e4-a585-47d4-b677-2ce113eabe4f"
      },
      "source": [
        "for elem in [1, 1., 1j, 1e-1, \"one\", True]:\n",
        "    print(type(elem))"
      ],
      "execution_count": 19,
      "outputs": [
        {
          "output_type": "stream",
          "text": [
            "<class 'int'>\n",
            "<class 'float'>\n",
            "<class 'complex'>\n",
            "<class 'float'>\n",
            "<class 'str'>\n",
            "<class 'bool'>\n"
          ],
          "name": "stdout"
        }
      ]
    },
    {
      "cell_type": "markdown",
      "metadata": {
        "id": "fptmjU1Cks9p"
      },
      "source": [
        "#### Логический тип данных"
      ]
    },
    {
      "cell_type": "code",
      "metadata": {
        "colab": {
          "base_uri": "https://localhost:8080/"
        },
        "id": "2rXyyfqEks9q",
        "outputId": "e1c296a2-deef-4c26-bc67-d9a773c2b9bc"
      },
      "source": [
        "2*2==5"
      ],
      "execution_count": 20,
      "outputs": [
        {
          "output_type": "execute_result",
          "data": {
            "text/plain": [
              "False"
            ]
          },
          "metadata": {
            "tags": []
          },
          "execution_count": 20
        }
      ]
    },
    {
      "cell_type": "code",
      "metadata": {
        "colab": {
          "base_uri": "https://localhost:8080/"
        },
        "id": "755BXKrmks9q",
        "outputId": "8a5e6b9d-cb42-424e-a61d-6ebbcabdcc24"
      },
      "source": [
        "list(range(10))\n",
        "for x in range(10):\n",
        "    if x%3:\n",
        "        print(\"Да\", end=\", \")\n",
        "    else:\n",
        "        print(\"Нет\", end=\", \")"
      ],
      "execution_count": 21,
      "outputs": [
        {
          "output_type": "stream",
          "text": [
            "Нет, Да, Да, Нет, Да, Да, Нет, Да, Да, Нет, "
          ],
          "name": "stdout"
        }
      ]
    },
    {
      "cell_type": "code",
      "metadata": {
        "colab": {
          "base_uri": "https://localhost:8080/"
        },
        "id": "kRZ49GuIks9q",
        "outputId": "b017f40d-06ee-454d-dbf5-d109ecf4b740"
      },
      "source": [
        "False == False in [False]"
      ],
      "execution_count": 22,
      "outputs": [
        {
          "output_type": "execute_result",
          "data": {
            "text/plain": [
              "True"
            ]
          },
          "metadata": {
            "tags": []
          },
          "execution_count": 22
        }
      ]
    },
    {
      "cell_type": "code",
      "metadata": {
        "colab": {
          "base_uri": "https://localhost:8080/"
        },
        "id": "kh-h_5Juks9r",
        "outputId": "fa29179c-4353-4311-a793-039685a81476"
      },
      "source": [
        "bool(0), bool(\"\"), bool([]), bool({}), bool(()), bool(set())"
      ],
      "execution_count": 23,
      "outputs": [
        {
          "output_type": "execute_result",
          "data": {
            "text/plain": [
              "(False, False, False, False, False, False)"
            ]
          },
          "metadata": {
            "tags": []
          },
          "execution_count": 23
        }
      ]
    },
    {
      "cell_type": "markdown",
      "metadata": {
        "id": "MOato-lvks9r"
      },
      "source": [
        "#### Распаковка объектов (оператор \"*\")"
      ]
    },
    {
      "cell_type": "code",
      "metadata": {
        "colab": {
          "base_uri": "https://localhost:8080/"
        },
        "id": "COsSQJzAks9r",
        "outputId": "3d207060-6466-462b-8b40-98f8db9e1fd5"
      },
      "source": [
        "a = [1, 2, 3]\n",
        "b = [*a, 4, 5]\n",
        "print(b)"
      ],
      "execution_count": 24,
      "outputs": [
        {
          "output_type": "stream",
          "text": [
            "[1, 2, 3, 4, 5]\n"
          ],
          "name": "stdout"
        }
      ]
    },
    {
      "cell_type": "code",
      "metadata": {
        "colab": {
          "base_uri": "https://localhost:8080/"
        },
        "id": "fEa61iSHks9r",
        "outputId": "ef4e4888-b2a7-4014-81ab-0186c72d9c0c"
      },
      "source": [
        "d1 = {\"первый\": 1, \"второй\": 2}\n",
        "d2 = {*d1, \"третий\"}\n",
        "print(d2, type(d2))"
      ],
      "execution_count": 25,
      "outputs": [
        {
          "output_type": "stream",
          "text": [
            "{'второй', 'первый', 'третий'} <class 'set'>\n"
          ],
          "name": "stdout"
        }
      ]
    },
    {
      "cell_type": "markdown",
      "metadata": {
        "id": "j0Y1_U7Yks9s"
      },
      "source": [
        "#### Нумерование элементов"
      ]
    },
    {
      "cell_type": "code",
      "metadata": {
        "colab": {
          "base_uri": "https://localhost:8080/"
        },
        "id": "WGzwxVtmks9s",
        "outputId": "064c92c6-919b-4b67-86e1-1d66d54752ec"
      },
      "source": [
        "for i in enumerate(['a', 'b', 'c']):\n",
        "    print(i)"
      ],
      "execution_count": 26,
      "outputs": [
        {
          "output_type": "stream",
          "text": [
            "(0, 'a')\n",
            "(1, 'b')\n",
            "(2, 'c')\n"
          ],
          "name": "stdout"
        }
      ]
    },
    {
      "cell_type": "markdown",
      "metadata": {
        "id": "-YEeKpKeks9s"
      },
      "source": [
        "#### Сортировка"
      ]
    },
    {
      "cell_type": "code",
      "metadata": {
        "id": "QjuhR6oCks9s"
      },
      "source": [
        "a = [1, -3, 2, -4, 3, -5, 4, -6, 5, -7, 6, -8]"
      ],
      "execution_count": 27,
      "outputs": []
    },
    {
      "cell_type": "code",
      "metadata": {
        "colab": {
          "base_uri": "https://localhost:8080/"
        },
        "id": "-Z8aB1Oiks9s",
        "outputId": "d11134d6-575c-49cc-b236-8cadfff6c115"
      },
      "source": [
        "sorted(a)"
      ],
      "execution_count": 28,
      "outputs": [
        {
          "output_type": "execute_result",
          "data": {
            "text/plain": [
              "[-8, -7, -6, -5, -4, -3, 1, 2, 3, 4, 5, 6]"
            ]
          },
          "metadata": {
            "tags": []
          },
          "execution_count": 28
        }
      ]
    },
    {
      "cell_type": "code",
      "metadata": {
        "colab": {
          "base_uri": "https://localhost:8080/"
        },
        "id": "yS_h7mZtks9t",
        "outputId": "6d82b208-c3dc-46eb-8386-3230a5783d0f"
      },
      "source": [
        "sorted(a, reverse=True)"
      ],
      "execution_count": 29,
      "outputs": [
        {
          "output_type": "execute_result",
          "data": {
            "text/plain": [
              "[6, 5, 4, 3, 2, 1, -3, -4, -5, -6, -7, -8]"
            ]
          },
          "metadata": {
            "tags": []
          },
          "execution_count": 29
        }
      ]
    },
    {
      "cell_type": "code",
      "metadata": {
        "colab": {
          "base_uri": "https://localhost:8080/"
        },
        "id": "wMDz8b3Yks9t",
        "outputId": "3e8cb510-8c42-4c47-b64a-0bcd09ca8e99"
      },
      "source": [
        "sorted(a, key=abs)"
      ],
      "execution_count": 30,
      "outputs": [
        {
          "output_type": "execute_result",
          "data": {
            "text/plain": [
              "[1, 2, -3, 3, -4, 4, -5, 5, -6, 6, -7, -8]"
            ]
          },
          "metadata": {
            "tags": []
          },
          "execution_count": 30
        }
      ]
    },
    {
      "cell_type": "markdown",
      "metadata": {
        "id": "2n2bX41_ks9t"
      },
      "source": [
        "#### Минимальный и максимальный элементы"
      ]
    },
    {
      "cell_type": "code",
      "metadata": {
        "colab": {
          "base_uri": "https://localhost:8080/"
        },
        "id": "0WkANsl3ks9t",
        "outputId": "e32ab977-1563-4434-a41a-1a6696f02793"
      },
      "source": [
        "a = [1, 2, 3, 4, 5]\n",
        "min(a), max(a)"
      ],
      "execution_count": 31,
      "outputs": [
        {
          "output_type": "execute_result",
          "data": {
            "text/plain": [
              "(1, 5)"
            ]
          },
          "metadata": {
            "tags": []
          },
          "execution_count": 31
        }
      ]
    },
    {
      "cell_type": "markdown",
      "metadata": {
        "id": "MtyUzFP3ks9t"
      },
      "source": [
        "#### Свойства объекта"
      ]
    },
    {
      "cell_type": "markdown",
      "metadata": {
        "id": "ciPhuyB76rn-"
      },
      "source": [
        "Даже обычное число в python является объектом."
      ]
    },
    {
      "cell_type": "code",
      "metadata": {
        "colab": {
          "base_uri": "https://localhost:8080/"
        },
        "id": "Vr_pKa2nks9t",
        "outputId": "8909ad9d-999d-4a79-f11b-e5e04801ee78"
      },
      "source": [
        "a = 1\n",
        "for s in dir(a):\n",
        "    print(s, end=\"   \")\n",
        "a.__sizeof__()"
      ],
      "execution_count": 32,
      "outputs": [
        {
          "output_type": "stream",
          "text": [
            "__abs__   __add__   __and__   __bool__   __ceil__   __class__   __delattr__   __dir__   __divmod__   __doc__   __eq__   __float__   __floor__   __floordiv__   __format__   __ge__   __getattribute__   __getnewargs__   __gt__   __hash__   __index__   __init__   __init_subclass__   __int__   __invert__   __le__   __lshift__   __lt__   __mod__   __mul__   __ne__   __neg__   __new__   __or__   __pos__   __pow__   __radd__   __rand__   __rdivmod__   __reduce__   __reduce_ex__   __repr__   __rfloordiv__   __rlshift__   __rmod__   __rmul__   __ror__   __round__   __rpow__   __rrshift__   __rshift__   __rsub__   __rtruediv__   __rxor__   __setattr__   __sizeof__   __str__   __sub__   __subclasshook__   __truediv__   __trunc__   __xor__   bit_length   conjugate   denominator   from_bytes   imag   numerator   real   to_bytes   "
          ],
          "name": "stdout"
        },
        {
          "output_type": "execute_result",
          "data": {
            "text/plain": [
              "28"
            ]
          },
          "metadata": {
            "tags": []
          },
          "execution_count": 32
        }
      ]
    },
    {
      "cell_type": "markdown",
      "metadata": {
        "id": "UU5CGnUwks9u"
      },
      "source": [
        "<a href='#content'>Назад в Оглавление</a>"
      ]
    },
    {
      "cell_type": "markdown",
      "metadata": {
        "id": "nbtvTGXtks9u"
      },
      "source": [
        "# Структурированные типы данных <a name='structures'></a>"
      ]
    },
    {
      "cell_type": "markdown",
      "metadata": {
        "id": "ffCPvlSm7BGU"
      },
      "source": [
        "Списки в python могут содержать в себе элементы различной структуры."
      ]
    },
    {
      "cell_type": "code",
      "metadata": {
        "colab": {
          "base_uri": "https://localhost:8080/"
        },
        "id": "lpWWK51v6bNf",
        "outputId": "e062f60e-14df-4815-bbf6-93e7ef8f2cce"
      },
      "source": [
        "a = []\n",
        "def f():\n",
        "    return 123\n",
        "a.append(f)\n",
        "l = lambda :'123'\n",
        "a.append(l)\n",
        "a.append([1,2,3])\n",
        "a.append((1,2,3,))\n",
        "a.append(\"123\")\n",
        "a.append({'a':1, 'b':2, 'c':3})\n",
        "a.append({1,2,3})\n",
        "a.append((i for i in range(1,4)))\n",
        "for i in a:\n",
        "    print(type(i), repr(i), i)"
      ],
      "execution_count": 33,
      "outputs": [
        {
          "output_type": "stream",
          "text": [
            "<class 'function'> <function f at 0x7efed7a20e60> <function f at 0x7efed7a20e60>\n",
            "<class 'function'> <function <lambda> at 0x7efed7a20ef0> <function <lambda> at 0x7efed7a20ef0>\n",
            "<class 'list'> [1, 2, 3] [1, 2, 3]\n",
            "<class 'tuple'> (1, 2, 3) (1, 2, 3)\n",
            "<class 'str'> '123' 123\n",
            "<class 'dict'> {'a': 1, 'b': 2, 'c': 3} {'a': 1, 'b': 2, 'c': 3}\n",
            "<class 'set'> {1, 2, 3} {1, 2, 3}\n",
            "<class 'generator'> <generator object <genexpr> at 0x7efedb4bbe50> <generator object <genexpr> at 0x7efedb4bbe50>\n"
          ],
          "name": "stdout"
        }
      ]
    },
    {
      "cell_type": "markdown",
      "metadata": {
        "id": "Zzh9TKTVks9u"
      },
      "source": [
        "## Строки <a name='strings'></a>"
      ]
    },
    {
      "cell_type": "code",
      "metadata": {
        "colab": {
          "base_uri": "https://localhost:8080/"
        },
        "id": "eMyPuZyoks9u",
        "outputId": "300449ff-ba0c-4646-a2c8-a2c6d14eeeff"
      },
      "source": [
        "\"asd\".isalpha()"
      ],
      "execution_count": 34,
      "outputs": [
        {
          "output_type": "execute_result",
          "data": {
            "text/plain": [
              "True"
            ]
          },
          "metadata": {
            "tags": []
          },
          "execution_count": 34
        }
      ]
    },
    {
      "cell_type": "code",
      "metadata": {
        "colab": {
          "base_uri": "https://localhost:8080/"
        },
        "id": "cflQ4TGRks9u",
        "outputId": "90c423b1-5a32-4eb4-b2ba-0de2f1a93865"
      },
      "source": [
        "\"5\".isdigit()"
      ],
      "execution_count": 35,
      "outputs": [
        {
          "output_type": "execute_result",
          "data": {
            "text/plain": [
              "True"
            ]
          },
          "metadata": {
            "tags": []
          },
          "execution_count": 35
        }
      ]
    },
    {
      "cell_type": "code",
      "metadata": {
        "colab": {
          "base_uri": "https://localhost:8080/",
          "height": 35
        },
        "id": "wwVaV1zGks9u",
        "outputId": "96d301a2-cda1-4b9e-864b-f56a6382cb3a"
      },
      "source": [
        "\"hello, world!\".upper()"
      ],
      "execution_count": 36,
      "outputs": [
        {
          "output_type": "execute_result",
          "data": {
            "application/vnd.google.colaboratory.intrinsic+json": {
              "type": "string"
            },
            "text/plain": [
              "'HELLO, WORLD!'"
            ]
          },
          "metadata": {
            "tags": []
          },
          "execution_count": 36
        }
      ]
    },
    {
      "cell_type": "code",
      "metadata": {
        "colab": {
          "base_uri": "https://localhost:8080/",
          "height": 35
        },
        "id": "pL5t2o8-ks9u",
        "outputId": "d039a65a-0314-45b5-f19e-c307abbdea08"
      },
      "source": [
        "\"HI!\".lower()"
      ],
      "execution_count": 37,
      "outputs": [
        {
          "output_type": "execute_result",
          "data": {
            "application/vnd.google.colaboratory.intrinsic+json": {
              "type": "string"
            },
            "text/plain": [
              "'hi!'"
            ]
          },
          "metadata": {
            "tags": []
          },
          "execution_count": 37
        }
      ]
    },
    {
      "cell_type": "code",
      "metadata": {
        "colab": {
          "base_uri": "https://localhost:8080/",
          "height": 35
        },
        "id": "4lsw3x_3ks9v",
        "outputId": "db28605b-f726-4526-a306-7e74426bdf62"
      },
      "source": [
        "\"some text is here\".capitalize()"
      ],
      "execution_count": 38,
      "outputs": [
        {
          "output_type": "execute_result",
          "data": {
            "application/vnd.google.colaboratory.intrinsic+json": {
              "type": "string"
            },
            "text/plain": [
              "'Some text is here'"
            ]
          },
          "metadata": {
            "tags": []
          },
          "execution_count": 38
        }
      ]
    },
    {
      "cell_type": "code",
      "metadata": {
        "colab": {
          "base_uri": "https://localhost:8080/"
        },
        "id": "beJ2x-1Aks9v",
        "outputId": "cebfe0df-83af-4fc1-99db-044edff5053d"
      },
      "source": [
        "\"Very interesting sentence\".split()"
      ],
      "execution_count": 39,
      "outputs": [
        {
          "output_type": "execute_result",
          "data": {
            "text/plain": [
              "['Very', 'interesting', 'sentence']"
            ]
          },
          "metadata": {
            "tags": []
          },
          "execution_count": 39
        }
      ]
    },
    {
      "cell_type": "code",
      "metadata": {
        "colab": {
          "base_uri": "https://localhost:8080/",
          "height": 35
        },
        "id": "5WvcT7TCks9v",
        "outputId": "e3edd9f8-45fa-43eb-f132-4c522d78dbf3"
      },
      "source": [
        "\"А роза упала на лапу Азора\"[::-1]"
      ],
      "execution_count": 40,
      "outputs": [
        {
          "output_type": "execute_result",
          "data": {
            "application/vnd.google.colaboratory.intrinsic+json": {
              "type": "string"
            },
            "text/plain": [
              "'арозА упал ан алапу азор А'"
            ]
          },
          "metadata": {
            "tags": []
          },
          "execution_count": 40
        }
      ]
    },
    {
      "cell_type": "code",
      "metadata": {
        "colab": {
          "base_uri": "https://localhost:8080/"
        },
        "id": "eMl6jD09ks9v",
        "outputId": "17147ab9-2c08-410b-a85c-5282f214fb22"
      },
      "source": [
        "\"words This text contains words\".find('word')"
      ],
      "execution_count": 41,
      "outputs": [
        {
          "output_type": "execute_result",
          "data": {
            "text/plain": [
              "0"
            ]
          },
          "metadata": {
            "tags": []
          },
          "execution_count": 41
        }
      ]
    },
    {
      "cell_type": "code",
      "metadata": {
        "colab": {
          "base_uri": "https://localhost:8080/"
        },
        "id": "c7qmsgPvks9v",
        "outputId": "910303ab-519e-4104-edc8-4d096d071cd3"
      },
      "source": [
        "\"words This text contains words\".rfind('s')"
      ],
      "execution_count": 42,
      "outputs": [
        {
          "output_type": "execute_result",
          "data": {
            "text/plain": [
              "29"
            ]
          },
          "metadata": {
            "tags": []
          },
          "execution_count": 42
        }
      ]
    },
    {
      "cell_type": "code",
      "metadata": {
        "colab": {
          "base_uri": "https://localhost:8080/",
          "height": 35
        },
        "id": "UBnKpVaiks9w",
        "outputId": "ac020204-be2e-493d-b6f4-41e0c76bb809"
      },
      "source": [
        "\"a, b, c\".replace(',', '')"
      ],
      "execution_count": 43,
      "outputs": [
        {
          "output_type": "execute_result",
          "data": {
            "application/vnd.google.colaboratory.intrinsic+json": {
              "type": "string"
            },
            "text/plain": [
              "'a b c'"
            ]
          },
          "metadata": {
            "tags": []
          },
          "execution_count": 43
        }
      ]
    },
    {
      "cell_type": "code",
      "metadata": {
        "colab": {
          "base_uri": "https://localhost:8080/"
        },
        "id": "nz7YQT-Uks9w",
        "outputId": "090be330-bd33-4849-9aa4-34670a07feb9"
      },
      "source": [
        "ord('a'), ord('z'), ord('A'), ord('Z')"
      ],
      "execution_count": 44,
      "outputs": [
        {
          "output_type": "execute_result",
          "data": {
            "text/plain": [
              "(97, 122, 65, 90)"
            ]
          },
          "metadata": {
            "tags": []
          },
          "execution_count": 44
        }
      ]
    },
    {
      "cell_type": "code",
      "metadata": {
        "colab": {
          "base_uri": "https://localhost:8080/"
        },
        "id": "DqUQ0i0Fks9w",
        "outputId": "ee3b9b39-dcfd-4eb4-b743-41789fec1ced"
      },
      "source": [
        "chr(5), chr(70)"
      ],
      "execution_count": 45,
      "outputs": [
        {
          "output_type": "execute_result",
          "data": {
            "text/plain": [
              "('\\x05', 'F')"
            ]
          },
          "metadata": {
            "tags": []
          },
          "execution_count": 45
        }
      ]
    },
    {
      "cell_type": "markdown",
      "metadata": {
        "id": "Cq8hjDiaks9w"
      },
      "source": [
        "#### Форматирование строк"
      ]
    },
    {
      "cell_type": "code",
      "metadata": {
        "colab": {
          "base_uri": "https://localhost:8080/"
        },
        "id": "xY05tKt5ks9w",
        "outputId": "30d15330-09de-4c8b-8a26-23598e4a4352"
      },
      "source": [
        "a, b = 1, 2\n",
        "print(\"a={}, b={}\".format(a, b))"
      ],
      "execution_count": 46,
      "outputs": [
        {
          "output_type": "stream",
          "text": [
            "a=1, b=2\n"
          ],
          "name": "stdout"
        }
      ]
    },
    {
      "cell_type": "code",
      "metadata": {
        "colab": {
          "base_uri": "https://localhost:8080/"
        },
        "id": "EPVb1d0Gks9x",
        "outputId": "b46d60ff-de01-4886-9542-3b7e932ce2d7"
      },
      "source": [
        "a, b = 1, 2\n",
        "print(\"a={:.2f}, b={:.5f}\".format(a, b))"
      ],
      "execution_count": 47,
      "outputs": [
        {
          "output_type": "stream",
          "text": [
            "a=1.00, b=2.00000\n"
          ],
          "name": "stdout"
        }
      ]
    },
    {
      "cell_type": "code",
      "metadata": {
        "colab": {
          "base_uri": "https://localhost:8080/"
        },
        "id": "ueA_3GWGks9x",
        "outputId": "cedb5584-596c-4c38-eb2e-7ab2f524c5fe"
      },
      "source": [
        "x = 1234567\n",
        "print('{0:,}'.format(x))"
      ],
      "execution_count": 48,
      "outputs": [
        {
          "output_type": "stream",
          "text": [
            "1,234,567\n"
          ],
          "name": "stdout"
        }
      ]
    },
    {
      "cell_type": "code",
      "metadata": {
        "colab": {
          "base_uri": "https://localhost:8080/"
        },
        "id": "ggSrN9u1ks9x",
        "outputId": "5055ef0a-a943-4edb-d9bf-31e178742527"
      },
      "source": [
        "x = 1234567\n",
        "print('{0:,}'.format(x).replace(',', ' '))"
      ],
      "execution_count": 49,
      "outputs": [
        {
          "output_type": "stream",
          "text": [
            "1 234 567\n"
          ],
          "name": "stdout"
        }
      ]
    },
    {
      "cell_type": "markdown",
      "metadata": {
        "id": "PdegqR8-ks9x"
      },
      "source": [
        "<a href='#content'>Назад к Оглавлению</a>"
      ]
    },
    {
      "cell_type": "markdown",
      "metadata": {
        "id": "B6sFV2caks9x"
      },
      "source": [
        "## Списки <a name='lists'></a>"
      ]
    },
    {
      "cell_type": "code",
      "metadata": {
        "colab": {
          "base_uri": "https://localhost:8080/"
        },
        "id": "fFkTQXGUks9x",
        "outputId": "3faa175a-708d-4734-f8a9-e558c1533a97"
      },
      "source": [
        "a = [1, 2, 3]\n",
        "print(a)\n",
        "print(a[0])\n",
        "print(a[-1])"
      ],
      "execution_count": 50,
      "outputs": [
        {
          "output_type": "stream",
          "text": [
            "[1, 2, 3]\n",
            "1\n",
            "3\n"
          ],
          "name": "stdout"
        }
      ]
    },
    {
      "cell_type": "code",
      "metadata": {
        "colab": {
          "base_uri": "https://localhost:8080/"
        },
        "id": "j4Xs2Jfxks9y",
        "outputId": "4bc71639-af33-48f4-8527-c92889e55a21"
      },
      "source": [
        "a = list(range(10))\n",
        "print(a)"
      ],
      "execution_count": 51,
      "outputs": [
        {
          "output_type": "stream",
          "text": [
            "[0, 1, 2, 3, 4, 5, 6, 7, 8, 9]\n"
          ],
          "name": "stdout"
        }
      ]
    },
    {
      "cell_type": "code",
      "metadata": {
        "colab": {
          "base_uri": "https://localhost:8080/"
        },
        "id": "CHPI2KDqks9z",
        "outputId": "e004e919-f198-447e-d81f-32fe94f20aa7"
      },
      "source": [
        "a = [i**2 for i in range(1,11)]\n",
        "print(a)"
      ],
      "execution_count": 52,
      "outputs": [
        {
          "output_type": "stream",
          "text": [
            "[1, 4, 9, 16, 25, 36, 49, 64, 81, 100]\n"
          ],
          "name": "stdout"
        }
      ]
    },
    {
      "cell_type": "code",
      "metadata": {
        "colab": {
          "base_uri": "https://localhost:8080/"
        },
        "id": "TBEpnE_hks9z",
        "outputId": "a649f450-23dc-42a3-acb2-3cb2cea47898"
      },
      "source": [
        "a[:2]"
      ],
      "execution_count": 53,
      "outputs": [
        {
          "output_type": "execute_result",
          "data": {
            "text/plain": [
              "[1, 4]"
            ]
          },
          "metadata": {
            "tags": []
          },
          "execution_count": 53
        }
      ]
    },
    {
      "cell_type": "code",
      "metadata": {
        "colab": {
          "base_uri": "https://localhost:8080/"
        },
        "id": "Tj16MB2kks9z",
        "outputId": "6ef86d2b-05f9-4f29-88fd-527ccda078b3"
      },
      "source": [
        "a[-2:]"
      ],
      "execution_count": 54,
      "outputs": [
        {
          "output_type": "execute_result",
          "data": {
            "text/plain": [
              "[81, 100]"
            ]
          },
          "metadata": {
            "tags": []
          },
          "execution_count": 54
        }
      ]
    },
    {
      "cell_type": "code",
      "metadata": {
        "colab": {
          "base_uri": "https://localhost:8080/"
        },
        "id": "neFIdUw9ks9z",
        "outputId": "c9bd84fc-09ff-4f92-b7d5-c54bc563dd2d"
      },
      "source": [
        "a"
      ],
      "execution_count": 55,
      "outputs": [
        {
          "output_type": "execute_result",
          "data": {
            "text/plain": [
              "[1, 4, 9, 16, 25, 36, 49, 64, 81, 100]"
            ]
          },
          "metadata": {
            "tags": []
          },
          "execution_count": 55
        }
      ]
    },
    {
      "cell_type": "code",
      "metadata": {
        "colab": {
          "base_uri": "https://localhost:8080/"
        },
        "id": "L9lIt-3oks9z",
        "outputId": "fd1a75af-b5d3-414e-81da-999160cc46fb"
      },
      "source": [
        "a[::2]"
      ],
      "execution_count": 56,
      "outputs": [
        {
          "output_type": "execute_result",
          "data": {
            "text/plain": [
              "[1, 9, 25, 49, 81]"
            ]
          },
          "metadata": {
            "tags": []
          },
          "execution_count": 56
        }
      ]
    },
    {
      "cell_type": "code",
      "metadata": {
        "colab": {
          "base_uri": "https://localhost:8080/"
        },
        "id": "pO0a9yLwks90",
        "outputId": "8113d436-6da5-4d38-a43e-1d29ee9a742c"
      },
      "source": [
        "a[::-1]"
      ],
      "execution_count": 57,
      "outputs": [
        {
          "output_type": "execute_result",
          "data": {
            "text/plain": [
              "[100, 81, 64, 49, 36, 25, 16, 9, 4, 1]"
            ]
          },
          "metadata": {
            "tags": []
          },
          "execution_count": 57
        }
      ]
    },
    {
      "cell_type": "code",
      "metadata": {
        "colab": {
          "base_uri": "https://localhost:8080/"
        },
        "id": "As_vkqrsks91",
        "outputId": "4a0ab4a7-1ad0-49a7-e973-51966200c270"
      },
      "source": [
        "print(a)\n",
        "print(*a)\n",
        "print(*a, sep=\":\")"
      ],
      "execution_count": 58,
      "outputs": [
        {
          "output_type": "stream",
          "text": [
            "[1, 4, 9, 16, 25, 36, 49, 64, 81, 100]\n",
            "1 4 9 16 25 36 49 64 81 100\n",
            "1:4:9:16:25:36:49:64:81:100\n"
          ],
          "name": "stdout"
        }
      ]
    },
    {
      "cell_type": "code",
      "metadata": {
        "colab": {
          "base_uri": "https://localhost:8080/"
        },
        "id": "tJb2D1Yyks91",
        "outputId": "26998f7d-ecbe-43fb-8771-137d291222ad"
      },
      "source": [
        "a = [1,4,2,5,3,6]\n",
        "print(sorted(a))"
      ],
      "execution_count": 59,
      "outputs": [
        {
          "output_type": "stream",
          "text": [
            "[1, 2, 3, 4, 5, 6]\n"
          ],
          "name": "stdout"
        }
      ]
    },
    {
      "cell_type": "code",
      "metadata": {
        "colab": {
          "base_uri": "https://localhost:8080/"
        },
        "id": "r-vOL_1fks91",
        "outputId": "2c2e7cde-6718-4569-ff57-2721a7b9479c"
      },
      "source": [
        "print(max(a), min(a), sum(a), len(a))"
      ],
      "execution_count": 60,
      "outputs": [
        {
          "output_type": "stream",
          "text": [
            "6 1 21 6\n"
          ],
          "name": "stdout"
        }
      ]
    },
    {
      "cell_type": "markdown",
      "metadata": {
        "id": "dcw_n3tGks91"
      },
      "source": [
        "#### Добавление элемента в список"
      ]
    },
    {
      "cell_type": "code",
      "metadata": {
        "colab": {
          "base_uri": "https://localhost:8080/"
        },
        "id": "M_EMRoFxks91",
        "outputId": "4d5fc011-34b6-4f8f-f1f9-4e900b394f4e"
      },
      "source": [
        "a = [1, 2, 3, 4, 5]\n",
        "print(a)\n",
        "a.append(6)\n",
        "print(a)"
      ],
      "execution_count": 61,
      "outputs": [
        {
          "output_type": "stream",
          "text": [
            "[1, 2, 3, 4, 5]\n",
            "[1, 2, 3, 4, 5, 6]\n"
          ],
          "name": "stdout"
        }
      ]
    },
    {
      "cell_type": "markdown",
      "metadata": {
        "id": "oVHIonHDks91"
      },
      "source": [
        "#### Удаление элемента из списка"
      ]
    },
    {
      "cell_type": "code",
      "metadata": {
        "colab": {
          "base_uri": "https://localhost:8080/"
        },
        "id": "1EIvQCjSks92",
        "outputId": "8d27274c-704f-45e6-e730-eaf44aed002f"
      },
      "source": [
        "a = [1, 2, 3, 4, 5]\n",
        "print(a)\n",
        "del(a[1])\n",
        "print(a)"
      ],
      "execution_count": 62,
      "outputs": [
        {
          "output_type": "stream",
          "text": [
            "[1, 2, 3, 4, 5]\n",
            "[1, 3, 4, 5]\n"
          ],
          "name": "stdout"
        }
      ]
    },
    {
      "cell_type": "markdown",
      "metadata": {
        "id": "QiUsz2sHks92"
      },
      "source": [
        "#### Многомерные списки"
      ]
    },
    {
      "cell_type": "code",
      "metadata": {
        "colab": {
          "base_uri": "https://localhost:8080/"
        },
        "id": "hfilnmM5ks92",
        "outputId": "1f054def-59f3-4e8b-864d-16fac6d913a1"
      },
      "source": [
        "a = [[1,2], [3,4]]\n",
        "print(a)\n",
        "print(a[0][0])"
      ],
      "execution_count": 63,
      "outputs": [
        {
          "output_type": "stream",
          "text": [
            "[[1, 2], [3, 4]]\n",
            "1\n"
          ],
          "name": "stdout"
        }
      ]
    },
    {
      "cell_type": "code",
      "metadata": {
        "colab": {
          "base_uri": "https://localhost:8080/"
        },
        "id": "8odwVdrrks92",
        "outputId": "2b8b8f23-5e52-41aa-e2ce-4865f92ed809"
      },
      "source": [
        "a = [[i+j for i in range(5)] for j in range(6)]\n",
        "print(a)"
      ],
      "execution_count": 64,
      "outputs": [
        {
          "output_type": "stream",
          "text": [
            "[[0, 1, 2, 3, 4], [1, 2, 3, 4, 5], [2, 3, 4, 5, 6], [3, 4, 5, 6, 7], [4, 5, 6, 7, 8], [5, 6, 7, 8, 9]]\n"
          ],
          "name": "stdout"
        }
      ]
    },
    {
      "cell_type": "code",
      "metadata": {
        "colab": {
          "base_uri": "https://localhost:8080/"
        },
        "id": "aUz7MKbqks93",
        "outputId": "e7dbdd66-9603-4250-f45b-40f7819ffe19"
      },
      "source": [
        "for i in range(6):\n",
        "    for j in range(5):\n",
        "        print(a[i][j], end=\" \")\n",
        "    print()"
      ],
      "execution_count": 65,
      "outputs": [
        {
          "output_type": "stream",
          "text": [
            "0 1 2 3 4 \n",
            "1 2 3 4 5 \n",
            "2 3 4 5 6 \n",
            "3 4 5 6 7 \n",
            "4 5 6 7 8 \n",
            "5 6 7 8 9 \n"
          ],
          "name": "stdout"
        }
      ]
    },
    {
      "cell_type": "code",
      "metadata": {
        "colab": {
          "base_uri": "https://localhost:8080/"
        },
        "id": "Rtd-QfsGks93",
        "outputId": "28798611-d123-4af9-8be7-1bdb16bd5692"
      },
      "source": [
        "len(a), len(a[0])"
      ],
      "execution_count": 66,
      "outputs": [
        {
          "output_type": "execute_result",
          "data": {
            "text/plain": [
              "(6, 5)"
            ]
          },
          "metadata": {
            "tags": []
          },
          "execution_count": 66
        }
      ]
    },
    {
      "cell_type": "markdown",
      "metadata": {
        "id": "jaS-v0rRks93"
      },
      "source": [
        "<a href='#content'>Назад к Оглавлению</a>"
      ]
    },
    {
      "cell_type": "markdown",
      "metadata": {
        "id": "UIcKbAi7ks94"
      },
      "source": [
        "## Кортежи (иммутабельные списки, tuples) <a name='tuples'></a>"
      ]
    },
    {
      "cell_type": "code",
      "metadata": {
        "colab": {
          "base_uri": "https://localhost:8080/"
        },
        "id": "wbOcQ6KXks94",
        "outputId": "cb92e4fa-f8e7-4841-96a9-4506353d13f1"
      },
      "source": [
        "a = (1, 2, 3)\n",
        "print(max(a))\n",
        "print(min(a))\n",
        "print(sum(a))\n",
        "print(len(a))\n",
        "print(a*2)"
      ],
      "execution_count": 67,
      "outputs": [
        {
          "output_type": "stream",
          "text": [
            "3\n",
            "1\n",
            "6\n",
            "3\n",
            "(1, 2, 3, 1, 2, 3)\n"
          ],
          "name": "stdout"
        }
      ]
    },
    {
      "cell_type": "code",
      "metadata": {
        "colab": {
          "base_uri": "https://localhost:8080/"
        },
        "id": "XTjv4JXUks95",
        "outputId": "ecac4abe-3a7b-4467-fec5-8f82d25bd054"
      },
      "source": [
        "a = (1, 3, 4)\n",
        "print(a[1])\n",
        "try:\n",
        "    a[1]=2\n",
        "except:\n",
        "    print(\"Tuple can not be changed\")"
      ],
      "execution_count": 68,
      "outputs": [
        {
          "output_type": "stream",
          "text": [
            "3\n",
            "Tuple can not be changed\n"
          ],
          "name": "stdout"
        }
      ]
    },
    {
      "cell_type": "markdown",
      "metadata": {
        "id": "jshJNFwRks96"
      },
      "source": [
        "<a href='#content'>Назад к Оглавлению</a>"
      ]
    },
    {
      "cell_type": "markdown",
      "metadata": {
        "id": "D2nNY1MAks97"
      },
      "source": [
        "## Словари <a name='dict'></a>"
      ]
    },
    {
      "cell_type": "code",
      "metadata": {
        "id": "wDD-UayYks97"
      },
      "source": [
        "s = {\n",
        "    'Alexander': 1,\n",
        "    'Daniil': 2,\n",
        "    'Yury': 3,\n",
        "}"
      ],
      "execution_count": 69,
      "outputs": []
    },
    {
      "cell_type": "code",
      "metadata": {
        "colab": {
          "base_uri": "https://localhost:8080/"
        },
        "id": "PO3LwB6Sks97",
        "outputId": "a2a9540d-bf03-40f4-937d-abdb3c348a61"
      },
      "source": [
        "print(s)\n",
        "print(s.keys())\n",
        "print(s.values())\n",
        "print(s.items())"
      ],
      "execution_count": 70,
      "outputs": [
        {
          "output_type": "stream",
          "text": [
            "{'Alexander': 1, 'Daniil': 2, 'Yury': 3}\n",
            "dict_keys(['Alexander', 'Daniil', 'Yury'])\n",
            "dict_values([1, 2, 3])\n",
            "dict_items([('Alexander', 1), ('Daniil', 2), ('Yury', 3)])\n"
          ],
          "name": "stdout"
        }
      ]
    },
    {
      "cell_type": "code",
      "metadata": {
        "colab": {
          "base_uri": "https://localhost:8080/"
        },
        "id": "kq59Kr40ks98",
        "outputId": "402020b0-88c0-4ec7-bb34-f5cbf5579153"
      },
      "source": [
        "for i in s:\n",
        "    print(i)"
      ],
      "execution_count": 71,
      "outputs": [
        {
          "output_type": "stream",
          "text": [
            "Alexander\n",
            "Daniil\n",
            "Yury\n"
          ],
          "name": "stdout"
        }
      ]
    },
    {
      "cell_type": "code",
      "metadata": {
        "id": "ZHuAXg2Cks98"
      },
      "source": [
        "s['Polina'] = 4"
      ],
      "execution_count": 72,
      "outputs": []
    },
    {
      "cell_type": "code",
      "metadata": {
        "colab": {
          "base_uri": "https://localhost:8080/"
        },
        "id": "55Eaf4iMks99",
        "outputId": "5c2ee80d-a377-40fd-adc7-12080641db77"
      },
      "source": [
        "for i in s.items():\n",
        "    print(i)"
      ],
      "execution_count": 73,
      "outputs": [
        {
          "output_type": "stream",
          "text": [
            "('Alexander', 1)\n",
            "('Daniil', 2)\n",
            "('Yury', 3)\n",
            "('Polina', 4)\n"
          ],
          "name": "stdout"
        }
      ]
    },
    {
      "cell_type": "markdown",
      "metadata": {
        "id": "aMBX4CQgks99"
      },
      "source": [
        "Сортировка словаря по значениям"
      ]
    },
    {
      "cell_type": "code",
      "metadata": {
        "colab": {
          "base_uri": "https://localhost:8080/"
        },
        "id": "x6SjYXwNks9-",
        "outputId": "cc98fc1f-491b-45a3-ad0b-5e605036133e"
      },
      "source": [
        "s1 = sorted(s.items(), key=lambda x: x[1], reverse=True)\n",
        "print(s1)"
      ],
      "execution_count": 74,
      "outputs": [
        {
          "output_type": "stream",
          "text": [
            "[('Polina', 4), ('Yury', 3), ('Daniil', 2), ('Alexander', 1)]\n"
          ],
          "name": "stdout"
        }
      ]
    },
    {
      "cell_type": "markdown",
      "metadata": {
        "id": "N-ajE5kOks9-"
      },
      "source": [
        "<a href='#content'>Назад к Оглавлению</a>"
      ]
    },
    {
      "cell_type": "markdown",
      "metadata": {
        "id": "Z2WTJvAyks-D"
      },
      "source": [
        "## Множества <a name='sets'></a>"
      ]
    },
    {
      "cell_type": "markdown",
      "metadata": {
        "id": "jjf4xZKOks-D"
      },
      "source": [
        "#### Создание множества"
      ]
    },
    {
      "cell_type": "code",
      "metadata": {
        "id": "ysj0gdkrks-D"
      },
      "source": [
        "s1 = set([1, 2, 3, 4])\n",
        "s2 = {4, 5, 6, 7}\n",
        "s3 = {i**2 for i in range(1,11)}\n",
        "text = \"word1 word2 word3 word1 word2 word4 word2\"\n",
        "s4 = {i for i in text.split()}\n",
        "s5 = {1, 'one', (1,2,3)}\n",
        "s6 = set() # создание пустого множества. s6 = {} - создает словарь (не множество)\n"
      ],
      "execution_count": 75,
      "outputs": []
    },
    {
      "cell_type": "markdown",
      "metadata": {
        "id": "41Yspb2-ks-D"
      },
      "source": [
        "#### Добавление и удаление элементов"
      ]
    },
    {
      "cell_type": "code",
      "metadata": {
        "colab": {
          "base_uri": "https://localhost:8080/"
        },
        "id": "-RDW7HSWks-E",
        "outputId": "ca34554f-ef34-4747-85b7-66ae80efd7b1"
      },
      "source": [
        "print(s1)\n",
        "s1.add(10)\n",
        "print(s1)\n",
        "s1.discard(1)\n",
        "print(s1)"
      ],
      "execution_count": 76,
      "outputs": [
        {
          "output_type": "stream",
          "text": [
            "{1, 2, 3, 4}\n",
            "{1, 2, 3, 4, 10}\n",
            "{2, 3, 4, 10}\n"
          ],
          "name": "stdout"
        }
      ]
    },
    {
      "cell_type": "code",
      "metadata": {
        "colab": {
          "base_uri": "https://localhost:8080/"
        },
        "id": "4FUewh9oks-E",
        "outputId": "f965c594-5627-48c3-dc29-8fd62dde7136"
      },
      "source": [
        "v = s1.pop()\n",
        "print(v)\n",
        "print(s1)"
      ],
      "execution_count": 77,
      "outputs": [
        {
          "output_type": "stream",
          "text": [
            "2\n",
            "{3, 4, 10}\n"
          ],
          "name": "stdout"
        }
      ]
    },
    {
      "cell_type": "code",
      "metadata": {
        "scrolled": false,
        "colab": {
          "base_uri": "https://localhost:8080/"
        },
        "id": "-f_TPhCrks-E",
        "outputId": "7e379562-ec05-406a-e66a-8c1db3d64e7d"
      },
      "source": [
        "print(s2)\n",
        "s2.clear()\n",
        "print(s2)"
      ],
      "execution_count": 78,
      "outputs": [
        {
          "output_type": "stream",
          "text": [
            "{4, 5, 6, 7}\n",
            "set()\n"
          ],
          "name": "stdout"
        }
      ]
    },
    {
      "cell_type": "markdown",
      "metadata": {
        "id": "4nh51SF1ks-F"
      },
      "source": [
        "#### Операции над множествами"
      ]
    },
    {
      "cell_type": "code",
      "metadata": {
        "colab": {
          "base_uri": "https://localhost:8080/"
        },
        "id": "VemvoDdZks-F",
        "outputId": "0b485ee1-1be9-46fe-cbcc-75e1865869c6"
      },
      "source": [
        "s1 = set(['a', 'b', 'c'])\n",
        "s2 = set(['d', 'e', 'f'])\n",
        "print(s1)\n",
        "print(s2)\n",
        "print()\n",
        "print(s1 & s2)\n",
        "print(s1 | s2)\n",
        "print(s1 - s2)\n",
        "print()\n",
        "print(type(s1), \"has methods \", end=\": \")\n",
        "for elem in dir(s1):\n",
        "    if elem.find('__')==-1:\n",
        "        print(elem, end=\", \")"
      ],
      "execution_count": 79,
      "outputs": [
        {
          "output_type": "stream",
          "text": [
            "{'c', 'b', 'a'}\n",
            "{'e', 'f', 'd'}\n",
            "\n",
            "set()\n",
            "{'c', 'e', 'f', 'd', 'b', 'a'}\n",
            "{'c', 'b', 'a'}\n",
            "\n",
            "<class 'set'> has methods : add, clear, copy, difference, difference_update, discard, intersection, intersection_update, isdisjoint, issubset, issuperset, pop, remove, symmetric_difference, symmetric_difference_update, union, update, "
          ],
          "name": "stdout"
        }
      ]
    },
    {
      "cell_type": "code",
      "metadata": {
        "colab": {
          "base_uri": "https://localhost:8080/"
        },
        "id": "leTC6o44ks-F",
        "outputId": "df90d9a2-efc5-4987-e2eb-4594c5c45ea5"
      },
      "source": [
        "s1.union(s2)"
      ],
      "execution_count": 80,
      "outputs": [
        {
          "output_type": "execute_result",
          "data": {
            "text/plain": [
              "{'a', 'b', 'c', 'd', 'e', 'f'}"
            ]
          },
          "metadata": {
            "tags": []
          },
          "execution_count": 80
        }
      ]
    },
    {
      "cell_type": "code",
      "metadata": {
        "colab": {
          "base_uri": "https://localhost:8080/"
        },
        "id": "TlX07F6wks-F",
        "outputId": "053f0b2e-5889-4bfa-cefd-9272fc137983"
      },
      "source": [
        "s1.difference(s2)"
      ],
      "execution_count": 81,
      "outputs": [
        {
          "output_type": "execute_result",
          "data": {
            "text/plain": [
              "{'a', 'b', 'c'}"
            ]
          },
          "metadata": {
            "tags": []
          },
          "execution_count": 81
        }
      ]
    },
    {
      "cell_type": "code",
      "metadata": {
        "colab": {
          "base_uri": "https://localhost:8080/"
        },
        "id": "evyP4RFjks-H",
        "outputId": "cd05e7d5-8f46-4f7a-f6bd-6544e6a82d6d"
      },
      "source": [
        "print(s3)\n",
        "print(set([1,4,9]).issubset(s3))\n",
        "print(s3.issuperset({16, 49}))"
      ],
      "execution_count": 82,
      "outputs": [
        {
          "output_type": "stream",
          "text": [
            "{64, 1, 4, 36, 100, 9, 16, 49, 81, 25}\n",
            "True\n",
            "True\n"
          ],
          "name": "stdout"
        }
      ]
    },
    {
      "cell_type": "markdown",
      "metadata": {
        "id": "3pL5SnYzks-J"
      },
      "source": [
        "#### Копирование множества"
      ]
    },
    {
      "cell_type": "code",
      "metadata": {
        "colab": {
          "base_uri": "https://localhost:8080/"
        },
        "id": "ZHmfTahMks-J",
        "outputId": "925038fc-41ec-4122-db66-d9e8ad4ce1e5"
      },
      "source": [
        "print(s5)\n",
        "s = s5.copy()\n",
        "print(s)\n",
        "s.pop()\n",
        "print(s,s5)"
      ],
      "execution_count": 83,
      "outputs": [
        {
          "output_type": "stream",
          "text": [
            "{1, 'one', (1, 2, 3)}\n",
            "{1, 'one', (1, 2, 3)}\n",
            "{'one', (1, 2, 3)} {1, 'one', (1, 2, 3)}\n"
          ],
          "name": "stdout"
        }
      ]
    },
    {
      "cell_type": "markdown",
      "metadata": {
        "id": "fDOvEOebks-K"
      },
      "source": [
        "<a href='#content'>Назад к Оглавлению</a>"
      ]
    },
    {
      "cell_type": "markdown",
      "metadata": {
        "id": "dntybEYGks-K"
      },
      "source": [
        "## Функции <a name='fs'></a>"
      ]
    },
    {
      "cell_type": "markdown",
      "metadata": {
        "id": "XfQld0iUks-L"
      },
      "source": [
        "#### Определение функции"
      ]
    },
    {
      "cell_type": "code",
      "metadata": {
        "colab": {
          "base_uri": "https://localhost:8080/"
        },
        "id": "nUOAU4tbks-L",
        "outputId": "bc372cfc-4ffc-4d1f-8d95-bab54c5c6ed0"
      },
      "source": [
        "def fSquare(x):\n",
        "    return x**2\n",
        "print(fSquare(10))\n",
        "print([fSquare(i) for i in range(11)])\n",
        "print(type(fSquare))"
      ],
      "execution_count": 84,
      "outputs": [
        {
          "output_type": "stream",
          "text": [
            "100\n",
            "[0, 1, 4, 9, 16, 25, 36, 49, 64, 81, 100]\n",
            "<class 'function'>\n"
          ],
          "name": "stdout"
        }
      ]
    },
    {
      "cell_type": "markdown",
      "metadata": {
        "id": "ARDujtJEks-L"
      },
      "source": [
        "#### Параметры функции"
      ]
    },
    {
      "cell_type": "code",
      "metadata": {
        "colab": {
          "base_uri": "https://localhost:8080/"
        },
        "id": "6yjO4Efuks-L",
        "outputId": "47133bac-e8f7-4c53-cde7-d5157e76feab"
      },
      "source": [
        "def f(a, b=0):\n",
        "    print(\"a={}, b={}\".format(a, b))\n",
        "f(1, 2)\n",
        "f(3)"
      ],
      "execution_count": 85,
      "outputs": [
        {
          "output_type": "stream",
          "text": [
            "a=1, b=2\n",
            "a=3, b=0\n"
          ],
          "name": "stdout"
        }
      ]
    },
    {
      "cell_type": "markdown",
      "metadata": {
        "id": "BnXu6v7oks-L"
      },
      "source": [
        "#### Произвольное количество параметров"
      ]
    },
    {
      "cell_type": "code",
      "metadata": {
        "colab": {
          "base_uri": "https://localhost:8080/"
        },
        "id": "2AgcNH38ks-L",
        "outputId": "b7f21533-dc67-4664-8c92-fabe26e1fd92"
      },
      "source": [
        "def fSum(*m):\n",
        "    s = 0\n",
        "    for i in m: \n",
        "        s += i\n",
        "    return s\n",
        "\n",
        "fSum(1, 2, 3, 4, 5, 6)"
      ],
      "execution_count": 86,
      "outputs": [
        {
          "output_type": "execute_result",
          "data": {
            "text/plain": [
              "21"
            ]
          },
          "metadata": {
            "tags": []
          },
          "execution_count": 86
        }
      ]
    },
    {
      "cell_type": "markdown",
      "metadata": {
        "id": "vfXIZAGhks-M"
      },
      "source": [
        "#### Позиционные и именованные параметры"
      ]
    },
    {
      "cell_type": "code",
      "metadata": {
        "colab": {
          "base_uri": "https://localhost:8080/"
        },
        "id": "Je3Ltw0bks-M",
        "outputId": "5a2b0d2d-ce85-4fce-b226-d3405e38b5a0"
      },
      "source": [
        "def f(*args, **kwargs):\n",
        "    for a in args:\n",
        "        print(a)\n",
        "    for a in kwargs.keys():\n",
        "        print(a)\n",
        "    for a in kwargs.values():\n",
        "        print(a)\n",
        "    for a in kwargs.items():\n",
        "        print(a)\n",
        "\n",
        "f(1,2, third=3, fourth=4)"
      ],
      "execution_count": 87,
      "outputs": [
        {
          "output_type": "stream",
          "text": [
            "1\n",
            "2\n",
            "third\n",
            "fourth\n",
            "3\n",
            "4\n",
            "('third', 3)\n",
            "('fourth', 4)\n"
          ],
          "name": "stdout"
        }
      ]
    },
    {
      "cell_type": "markdown",
      "metadata": {
        "id": "RtQdmgnAks-P"
      },
      "source": [
        "#### Функция main()"
      ]
    },
    {
      "cell_type": "code",
      "metadata": {
        "id": "DxPHAF-_ks-P"
      },
      "source": [
        "def f1():\n",
        "    print(\"is f1\")\n",
        "def f2():\n",
        "    print(\"is f2\")\n",
        "def main():\n",
        "    f1()\n",
        "    f2()"
      ],
      "execution_count": 88,
      "outputs": []
    },
    {
      "cell_type": "code",
      "metadata": {
        "colab": {
          "base_uri": "https://localhost:8080/"
        },
        "id": "8GlSKt9Xks-P",
        "outputId": "e3689f23-cc92-4e3c-901e-0da62738972c"
      },
      "source": [
        "if __name__=='__main__':\n",
        "    main()"
      ],
      "execution_count": 89,
      "outputs": [
        {
          "output_type": "stream",
          "text": [
            "is f1\n",
            "is f2\n"
          ],
          "name": "stdout"
        }
      ]
    },
    {
      "cell_type": "markdown",
      "metadata": {
        "id": "BeArOS5xks-Y"
      },
      "source": [
        "<a href='#content'>Назад к Оглавлению</a>"
      ]
    },
    {
      "cell_type": "markdown",
      "metadata": {
        "id": "uyUGmJBJks-Y"
      },
      "source": [
        "# Операторы <a name='control'></a>"
      ]
    },
    {
      "cell_type": "markdown",
      "metadata": {
        "id": "271txPF2ks-Z"
      },
      "source": [
        "#### Оператор присваивания"
      ]
    },
    {
      "cell_type": "code",
      "metadata": {
        "colab": {
          "base_uri": "https://localhost:8080/"
        },
        "id": "oIVKP3ZEks-Z",
        "outputId": "8244d0fa-d28c-4067-8c0b-90438c2dc52a"
      },
      "source": [
        "a = 1\n",
        "a"
      ],
      "execution_count": 90,
      "outputs": [
        {
          "output_type": "execute_result",
          "data": {
            "text/plain": [
              "1"
            ]
          },
          "metadata": {
            "tags": []
          },
          "execution_count": 90
        }
      ]
    },
    {
      "cell_type": "code",
      "metadata": {
        "colab": {
          "base_uri": "https://localhost:8080/"
        },
        "id": "FVf2c6Z_ks-a",
        "outputId": "b6e04eba-bf80-4de3-971c-b604e2b0f4c5"
      },
      "source": [
        "b = a = 2\n",
        "a, b"
      ],
      "execution_count": 91,
      "outputs": [
        {
          "output_type": "execute_result",
          "data": {
            "text/plain": [
              "(2, 2)"
            ]
          },
          "metadata": {
            "tags": []
          },
          "execution_count": 91
        }
      ]
    },
    {
      "cell_type": "code",
      "metadata": {
        "colab": {
          "base_uri": "https://localhost:8080/"
        },
        "id": "D5gHJ7mnks-a",
        "outputId": "79bc8cc4-95d4-4844-8d37-baa3c108088e"
      },
      "source": [
        "b += 10\n",
        "b"
      ],
      "execution_count": 92,
      "outputs": [
        {
          "output_type": "execute_result",
          "data": {
            "text/plain": [
              "12"
            ]
          },
          "metadata": {
            "tags": []
          },
          "execution_count": 92
        }
      ]
    },
    {
      "cell_type": "markdown",
      "metadata": {
        "id": "yBi-ypWnks-b"
      },
      "source": [
        "#### Условный оператор if <a name='if'></a>"
      ]
    },
    {
      "cell_type": "code",
      "metadata": {
        "colab": {
          "base_uri": "https://localhost:8080/"
        },
        "id": "dgZj_3tZks-b",
        "outputId": "b9512e41-51ae-4bf3-c23a-172844d1cdb7"
      },
      "source": [
        "print(\"Укажите Ваш возраст:\")\n",
        "age = int(input())\n",
        "if age < 6:\n",
        "    print(\"Здравствуй, малыш\")\n",
        "elif age < 14:\n",
        "    print(\"Привет\")\n",
        "elif age < 25:\n",
        "    print(\"Добрый день\")\n",
        "elif age < 100:    \n",
        "    print(\"Здравствуйте\")\n",
        "else:    \n",
        "    print(\"Какой необычный возраст\")    "
      ],
      "execution_count": 93,
      "outputs": [
        {
          "output_type": "stream",
          "text": [
            "Укажите Ваш возраст:\n",
            "55\n",
            "Здравствуйте\n"
          ],
          "name": "stdout"
        }
      ]
    },
    {
      "cell_type": "code",
      "metadata": {
        "colab": {
          "base_uri": "https://localhost:8080/"
        },
        "id": "C5q3c7nWks-b",
        "outputId": "23cbced4-bbe8-41ce-b498-d32bd698e7d6"
      },
      "source": [
        "print(\"yes\") if 2==2 else print(\"no\")"
      ],
      "execution_count": 94,
      "outputs": [
        {
          "output_type": "stream",
          "text": [
            "yes\n"
          ],
          "name": "stdout"
        }
      ]
    },
    {
      "cell_type": "code",
      "metadata": {
        "colab": {
          "base_uri": "https://localhost:8080/"
        },
        "id": "rY6bn1KPks-b",
        "outputId": "99d0e85e-c29a-49d7-aed7-ce7b8817c012"
      },
      "source": [
        "a = [1 if i%2 else 0 for i in range(1,11)]\n",
        "a"
      ],
      "execution_count": 95,
      "outputs": [
        {
          "output_type": "execute_result",
          "data": {
            "text/plain": [
              "[1, 0, 1, 0, 1, 0, 1, 0, 1, 0]"
            ]
          },
          "metadata": {
            "tags": []
          },
          "execution_count": 95
        }
      ]
    },
    {
      "cell_type": "code",
      "metadata": {
        "colab": {
          "base_uri": "https://localhost:8080/"
        },
        "id": "UAg3PLvpks-b",
        "outputId": "ac1aa2a4-9dc2-40dd-bfda-123a0837c114"
      },
      "source": [
        "a = 1\n",
        "print(\"Да\") if a%2 else print(\"Нет\")"
      ],
      "execution_count": 96,
      "outputs": [
        {
          "output_type": "stream",
          "text": [
            "Да\n"
          ],
          "name": "stdout"
        }
      ]
    },
    {
      "cell_type": "markdown",
      "metadata": {
        "id": "I7DdWnK1ks-c"
      },
      "source": [
        "#### Цикл while <a name='while'></a>"
      ]
    },
    {
      "cell_type": "code",
      "metadata": {
        "colab": {
          "base_uri": "https://localhost:8080/"
        },
        "id": "dR8VOC2zks-c",
        "outputId": "537a385d-1f1e-410e-ca32-5bf6ffb472ea"
      },
      "source": [
        "i, m = 0, []\n",
        "while i<5:\n",
        "    m.append(i**2)\n",
        "    i+=1\n",
        "else:\n",
        "    print(m)"
      ],
      "execution_count": 97,
      "outputs": [
        {
          "output_type": "stream",
          "text": [
            "[0, 1, 4, 9, 16]\n"
          ],
          "name": "stdout"
        }
      ]
    },
    {
      "cell_type": "markdown",
      "metadata": {
        "id": "uQW7KScBks-d"
      },
      "source": [
        "Вычислить площадь окружности с радиусом=1 методом Монте-Карло. Нарисовать окружность. Вывести количество точке внутри окружности и вне (разными цветами). Добавить в kaggle."
      ]
    },
    {
      "cell_type": "code",
      "metadata": {
        "colab": {
          "base_uri": "https://localhost:8080/",
          "height": 320
        },
        "id": "S8fEGerEks-d",
        "outputId": "82c6da17-29f5-4a79-a145-d98ce58bd612"
      },
      "source": [
        "import numpy as np\n",
        "import matplotlib.pyplot as plt\n",
        "\n",
        "plt.figure(figsize=(5,5))\n",
        "i, s = 0, 0\n",
        "while True:\n",
        "    if i >= 1000: \n",
        "        break\n",
        "    else:\n",
        "        i += 1\n",
        "    x = np.random.random()\n",
        "    y = np.random.random()\n",
        "    plt.scatter(x, y, color='b')\n",
        "    if (np.math.sqrt(x**2+y**2) < 1):\n",
        "        plt.scatter(x, y, color='r')\n",
        "        s += 1\n",
        "    else:\n",
        "        plt.scatter(x, y, color='b')\n",
        "else:\n",
        "    plt.show()"
      ],
      "execution_count": 98,
      "outputs": [
        {
          "output_type": "display_data",
          "data": {
            "image/png": "[encoded data removed]",
            "text/plain": [
              "<Figure size 360x360 with 1 Axes>"
            ]
          },
          "metadata": {
            "tags": [],
            "needs_background": "light"
          }
        }
      ]
    },
    {
      "cell_type": "code",
      "metadata": {
        "colab": {
          "base_uri": "https://localhost:8080/"
        },
        "id": "Vb1qt2N9ks-d",
        "outputId": "336055a3-8331-4590-9e1e-7ee8928cb6b8"
      },
      "source": [
        "print(s/1000*4)"
      ],
      "execution_count": 99,
      "outputs": [
        {
          "output_type": "stream",
          "text": [
            "3.2\n"
          ],
          "name": "stdout"
        }
      ]
    },
    {
      "cell_type": "markdown",
      "metadata": {
        "id": "gNibrXYnks-e"
      },
      "source": [
        "#### Цикл for <a name='for'></a>"
      ]
    },
    {
      "cell_type": "code",
      "metadata": {
        "colab": {
          "base_uri": "https://localhost:8080/"
        },
        "id": "4MvKYc2Dks-e",
        "outputId": "ba16cb46-b6f4-4353-f2f1-1cbf696154ce"
      },
      "source": [
        "for i in range(10):\n",
        "    print(i**2, end=\" \")"
      ],
      "execution_count": 100,
      "outputs": [
        {
          "output_type": "stream",
          "text": [
            "0 1 4 9 16 25 36 49 64 81 "
          ],
          "name": "stdout"
        }
      ]
    },
    {
      "cell_type": "code",
      "metadata": {
        "colab": {
          "base_uri": "https://localhost:8080/"
        },
        "id": "-e_4C7tz9WjL",
        "outputId": "b7140b9a-d87a-4c4c-fd39-c3da2b48e949"
      },
      "source": [
        "for i in [\"один\", \"два\", \"три\"]:\n",
        "  print(i)"
      ],
      "execution_count": 101,
      "outputs": [
        {
          "output_type": "stream",
          "text": [
            "один\n",
            "два\n",
            "три\n"
          ],
          "name": "stdout"
        }
      ]
    },
    {
      "cell_type": "markdown",
      "metadata": {
        "id": "A5wJr7yGks-e"
      },
      "source": [
        "#### Обработка исключений (конструкция try-except)"
      ]
    },
    {
      "cell_type": "code",
      "metadata": {
        "colab": {
          "base_uri": "https://localhost:8080/"
        },
        "id": "r7EO2Rihks-e",
        "outputId": "e41ecbbd-1615-4f33-a8de-9ee546fd2828"
      },
      "source": [
        "try:\n",
        "    print(1/0)\n",
        "except:\n",
        "    print(\"problem\")"
      ],
      "execution_count": 102,
      "outputs": [
        {
          "output_type": "stream",
          "text": [
            "problem\n"
          ],
          "name": "stdout"
        }
      ]
    },
    {
      "cell_type": "code",
      "metadata": {
        "colab": {
          "base_uri": "https://localhost:8080/"
        },
        "id": "2XsAH9thks-e",
        "outputId": "689a7ea7-f1e5-4c03-f14c-695c9253d931"
      },
      "source": [
        "a = list(range(0,11))[::-1]\n",
        "print(a)"
      ],
      "execution_count": 103,
      "outputs": [
        {
          "output_type": "stream",
          "text": [
            "[10, 9, 8, 7, 6, 5, 4, 3, 2, 1, 0]\n"
          ],
          "name": "stdout"
        }
      ]
    },
    {
      "cell_type": "code",
      "metadata": {
        "colab": {
          "base_uri": "https://localhost:8080/"
        },
        "id": "CLWmDminks-e",
        "outputId": "bc6c4508-ef75-435f-ff1e-a6bd368ecb39"
      },
      "source": [
        "for d in a:\n",
        "    try:\n",
        "        print(round(10/d,2), end=\" \")\n",
        "    except ZeroDivisionError:\n",
        "        print(\"Zero Division error\")"
      ],
      "execution_count": 104,
      "outputs": [
        {
          "output_type": "stream",
          "text": [
            "1.0 1.11 1.25 1.43 1.67 2.0 2.5 3.33 5.0 10.0 Zero Division error\n"
          ],
          "name": "stdout"
        }
      ]
    },
    {
      "cell_type": "code",
      "metadata": {
        "id": "-xhVXbSyks-f"
      },
      "source": [
        "class MyException(Exception):\n",
        "    pass"
      ],
      "execution_count": 105,
      "outputs": []
    },
    {
      "cell_type": "markdown",
      "metadata": {
        "id": "tUrfCq_Rks-f"
      },
      "source": [
        "#### Проверка выполнения условия (оператор assert) <a name='assert'></a>"
      ]
    },
    {
      "cell_type": "code",
      "metadata": {
        "colab": {
          "base_uri": "https://localhost:8080/"
        },
        "id": "zpSA5zXMks-f",
        "outputId": "8cceeb77-c68e-4f67-da82-d3481a38ffab"
      },
      "source": [
        "for i in range(10):\n",
        "    print(i)\n",
        "    try:\n",
        "        assert(i!=5)\n",
        "    except:\n",
        "        print(\"Проблема\")"
      ],
      "execution_count": 106,
      "outputs": [
        {
          "output_type": "stream",
          "text": [
            "0\n",
            "1\n",
            "2\n",
            "3\n",
            "4\n",
            "5\n",
            "Проблема\n",
            "6\n",
            "7\n",
            "8\n",
            "9\n"
          ],
          "name": "stdout"
        }
      ]
    },
    {
      "cell_type": "markdown",
      "metadata": {
        "id": "B9GaExJXks-f"
      },
      "source": [
        "<a href='#content'>Назад к Оглавлению</a>"
      ]
    },
    {
      "cell_type": "markdown",
      "metadata": {
        "id": "dXOTs4zTks-f"
      },
      "source": [
        "## Ввод и вывод данных <a name='io'></a>"
      ]
    },
    {
      "cell_type": "markdown",
      "metadata": {
        "id": "0aY2OODDks-f"
      },
      "source": [
        "#### Работа с консолью"
      ]
    },
    {
      "cell_type": "code",
      "metadata": {
        "colab": {
          "base_uri": "https://localhost:8080/"
        },
        "id": "5M1R0zxOks-f",
        "outputId": "3561e775-ca05-435a-9738-850e4280d043"
      },
      "source": [
        "print(\"{:.4f}\".format(1.111))"
      ],
      "execution_count": 107,
      "outputs": [
        {
          "output_type": "stream",
          "text": [
            "1.1110\n"
          ],
          "name": "stdout"
        }
      ]
    },
    {
      "cell_type": "code",
      "metadata": {
        "colab": {
          "base_uri": "https://localhost:8080/"
        },
        "id": "WZTwVtoxks-g",
        "outputId": "a594e026-d139-48aa-ad44-18990f9e543c"
      },
      "source": [
        "a = \"\\'text\\'\"\n",
        "print(a)\n",
        "print(\"--{}--\".format(a))\n",
        "print(\"--{!r}--\".format(a))"
      ],
      "execution_count": 108,
      "outputs": [
        {
          "output_type": "stream",
          "text": [
            "'text'\n",
            "--'text'--\n",
            "--\"'text'\"--\n"
          ],
          "name": "stdout"
        }
      ]
    },
    {
      "cell_type": "markdown",
      "metadata": {
        "id": "g0nmkiZkks-g"
      },
      "source": [
        "#### Метод join"
      ]
    },
    {
      "cell_type": "code",
      "metadata": {
        "colab": {
          "base_uri": "https://localhost:8080/"
        },
        "id": "UmFPq-yiks-g",
        "outputId": "19e597a7-dd24-4de3-a63c-b5893c3368d9"
      },
      "source": [
        "a = [[i+j for i in range(5)] for j in range(6)]\n",
        "for row in a:\n",
        "    print(\" \".join([str(element) for element in row]))"
      ],
      "execution_count": 109,
      "outputs": [
        {
          "output_type": "stream",
          "text": [
            "0 1 2 3 4\n",
            "1 2 3 4 5\n",
            "2 3 4 5 6\n",
            "3 4 5 6 7\n",
            "4 5 6 7 8\n",
            "5 6 7 8 9\n"
          ],
          "name": "stdout"
        }
      ]
    },
    {
      "cell_type": "markdown",
      "metadata": {
        "id": "kbH_AOjPks-g"
      },
      "source": [
        "#### Вывод на экран свойств объекта"
      ]
    },
    {
      "cell_type": "code",
      "metadata": {
        "colab": {
          "base_uri": "https://localhost:8080/"
        },
        "id": "5xlApd4uks-g",
        "outputId": "3c773d06-7c15-4826-923b-bca743b555bd"
      },
      "source": [
        "class person():\n",
        "    name = \"\"\n",
        "    age = 0\n",
        "    def __init__(self, n, a):\n",
        "        self.name = n\n",
        "        self.age = a\n",
        "    def str():\n",
        "        print(\"class person\")\n",
        "\n",
        "me = person(\"Yury\", 42)\n",
        "he = person(\"Ivan\", 41)\n",
        "print(\"my name: {0.name}, his age: {1.age}\".format(me, he))"
      ],
      "execution_count": 110,
      "outputs": [
        {
          "output_type": "stream",
          "text": [
            "my name: Yury, his age: 41\n"
          ],
          "name": "stdout"
        }
      ]
    },
    {
      "cell_type": "markdown",
      "metadata": {
        "id": "R5eQQ4vAks-g"
      },
      "source": [
        "#### Запись в файл"
      ]
    },
    {
      "cell_type": "code",
      "metadata": {
        "id": "NFmr1txqks-h"
      },
      "source": [
        "with open('a.out', 'w') as f:\n",
        "    f.write(\"hello\")\n",
        "f.close()"
      ],
      "execution_count": 111,
      "outputs": []
    },
    {
      "cell_type": "markdown",
      "metadata": {
        "id": "ATdwwhq7ks-h"
      },
      "source": [
        "#### Чтение из файла"
      ]
    },
    {
      "cell_type": "code",
      "metadata": {
        "colab": {
          "base_uri": "https://localhost:8080/"
        },
        "id": "Dlg3VMViks-h",
        "outputId": "68f8e986-dfaf-4730-a637-60955fc177b6"
      },
      "source": [
        "with open('a.out', 'r') as f:\n",
        "    print(f.read())\n",
        "f.close()"
      ],
      "execution_count": 112,
      "outputs": [
        {
          "output_type": "stream",
          "text": [
            "hello\n"
          ],
          "name": "stdout"
        }
      ]
    },
    {
      "cell_type": "markdown",
      "metadata": {
        "id": "6PR0GO35ks-h"
      },
      "source": [
        "#### Сериализация данных с использованием pickle"
      ]
    },
    {
      "cell_type": "code",
      "metadata": {
        "id": "lNQbEGBdks-h"
      },
      "source": [
        "import pickle"
      ],
      "execution_count": 113,
      "outputs": []
    },
    {
      "cell_type": "code",
      "metadata": {
        "id": "YNWiC8XVks-h"
      },
      "source": [
        "s = {\"name\": \"Ivan\", \"surname\": \"Ivanov\", \"age\": 20}"
      ],
      "execution_count": 114,
      "outputs": []
    },
    {
      "cell_type": "code",
      "metadata": {
        "colab": {
          "base_uri": "https://localhost:8080/"
        },
        "id": "F5N4K0Xnks-i",
        "outputId": "51980900-7451-4f83-ecd4-ef615f5454b6"
      },
      "source": [
        "b = pickle.dumps(s)\n",
        "print(type(b), b)\n",
        "s1 = pickle.loads(b)\n",
        "print(s1)"
      ],
      "execution_count": 115,
      "outputs": [
        {
          "output_type": "stream",
          "text": [
            "<class 'bytes'> b'\\x80\\x03}q\\x00(X\\x04\\x00\\x00\\x00nameq\\x01X\\x04\\x00\\x00\\x00Ivanq\\x02X\\x07\\x00\\x00\\x00surnameq\\x03X\\x06\\x00\\x00\\x00Ivanovq\\x04X\\x03\\x00\\x00\\x00ageq\\x05K\\x14u.'\n",
            "{'name': 'Ivan', 'surname': 'Ivanov', 'age': 20}\n"
          ],
          "name": "stdout"
        }
      ]
    },
    {
      "cell_type": "markdown",
      "metadata": {
        "id": "n9yDZSsFks-i"
      },
      "source": [
        "<a href='#toc'>Назад к Оглавлению</a>"
      ]
    },
    {
      "cell_type": "markdown",
      "metadata": {
        "id": "FQ4sKhzWks-i"
      },
      "source": [
        "# Объектно-ориентированное программирование <a name='oop'></a>"
      ]
    },
    {
      "cell_type": "markdown",
      "metadata": {
        "id": "DMg1_22lks-j"
      },
      "source": [
        "#### Описание классов"
      ]
    },
    {
      "cell_type": "code",
      "metadata": {
        "id": "758Juuxkks-j"
      },
      "source": [
        "class A():\n",
        "    def __init__(self, name, number):\n",
        "        self.name = name\n",
        "        self.number = number\n",
        "        self.skill = 0\n",
        "    def __str__(self):\n",
        "        return(\"I am \\\"{}\\\", my number is: {}, skill is {}\".format(self.name, self.number, self.skill))\n",
        "    def setSkill(self, skill):\n",
        "        self.skill = skill\n",
        "    def speak(self, phrase):\n",
        "        print(\"I am \\\"{}\\\", and I want to tell you \\\"{}\\\"\".format(self.name, phrase))"
      ],
      "execution_count": 116,
      "outputs": []
    },
    {
      "cell_type": "code",
      "metadata": {
        "colab": {
          "base_uri": "https://localhost:8080/"
        },
        "id": "pOeVlJ87ks-j",
        "outputId": "4fa4e03c-3287-47a7-957d-6bb03e8aa13e"
      },
      "source": [
        "a = A('Ivan',1)\n",
        "print(a)"
      ],
      "execution_count": 117,
      "outputs": [
        {
          "output_type": "stream",
          "text": [
            "I am \"Ivan\", my number is: 1, skill is 0\n"
          ],
          "name": "stdout"
        }
      ]
    },
    {
      "cell_type": "markdown",
      "metadata": {
        "id": "IluKTFktks-j"
      },
      "source": [
        "#### Наследование классов"
      ]
    },
    {
      "cell_type": "code",
      "metadata": {
        "id": "Sr9CmGO7ks-j"
      },
      "source": [
        "class B():\n",
        "    def __init__(self, name, number):\n",
        "        self.name = name\n",
        "        self.number = number\n",
        "        self.temper = 0\n",
        "    def __str__(self):\n",
        "        return(\"I am \\\"{}\\\", my number is: {}, temper is {}\".format(self.name, self.number, self.temper))\n",
        "    def setTemper(self, temper):\n",
        "        self.temper = temper\n",
        "    def sing(self, phrase):\n",
        "        print(\"I am \\\"{}\\\", and I want to sing \\\"{}\\\"\".format(self.name, phrase))\n",
        "\n",
        "class C(A, B):\n",
        "    def __init__(self, name, number, skill, temper):\n",
        "        super().__init__(name, number)\n",
        "        self.setSkill(skill)\n",
        "        self.setTemper(temper)\n",
        "    def __str__(self):\n",
        "        return(\"I am \\\"{}\\\", my number is: {}, skill: {}, temper: {}\".format(self.name, self.number, self.skill, self.temper))  "
      ],
      "execution_count": 118,
      "outputs": []
    },
    {
      "cell_type": "code",
      "metadata": {
        "colab": {
          "base_uri": "https://localhost:8080/"
        },
        "id": "v8dRb_8mks-j",
        "outputId": "ba50eeea-9815-4c88-de3e-35cc2258542e"
      },
      "source": [
        "a = A('Ivan',1)\n",
        "print(a)\n",
        "b = B('Petr',2)\n",
        "print(b)\n",
        "a.speak('Hi')\n",
        "b.sing('Hi')"
      ],
      "execution_count": 119,
      "outputs": [
        {
          "output_type": "stream",
          "text": [
            "I am \"Ivan\", my number is: 1, skill is 0\n",
            "I am \"Petr\", my number is: 2, temper is 0\n",
            "I am \"Ivan\", and I want to tell you \"Hi\"\n",
            "I am \"Petr\", and I want to sing \"Hi\"\n"
          ],
          "name": "stdout"
        }
      ]
    },
    {
      "cell_type": "code",
      "metadata": {
        "colab": {
          "base_uri": "https://localhost:8080/"
        },
        "id": "9j_BNmdWks-j",
        "outputId": "333d0626-3d42-487d-82b2-d64374dd2869"
      },
      "source": [
        "c = C('Yury', 3, 11, 111)\n",
        "for i in dir(c):\n",
        "    if not i.startswith('__'):\n",
        "        print(\"{}\".format(i))\n",
        "c.sing(\"We will rock you\")        \n",
        "c.speak(\"Thanks for listening\")   \n",
        "print(c)\n",
        "print(b)"
      ],
      "execution_count": 120,
      "outputs": [
        {
          "output_type": "stream",
          "text": [
            "name\n",
            "number\n",
            "setSkill\n",
            "setTemper\n",
            "sing\n",
            "skill\n",
            "speak\n",
            "temper\n",
            "I am \"Yury\", and I want to sing \"We will rock you\"\n",
            "I am \"Yury\", and I want to tell you \"Thanks for listening\"\n",
            "I am \"Yury\", my number is: 3, skill: 11, temper: 111\n",
            "I am \"Petr\", my number is: 2, temper is 0\n"
          ],
          "name": "stdout"
        }
      ]
    },
    {
      "cell_type": "markdown",
      "metadata": {
        "id": "6b6vJtIhks-k"
      },
      "source": [
        "#### Строковое описание объекта"
      ]
    },
    {
      "cell_type": "code",
      "metadata": {
        "id": "TFS5wSf4ks-k"
      },
      "source": [
        "class D():\n",
        "    def __init__(self, name):\n",
        "        self.name = name\n",
        "        self.surname = 'Ivanov'\n",
        "    \n",
        "    def __str__(self):\n",
        "        return(\"{}----{}\".format(self.name, self.surname))\n",
        "\n",
        "d = D('Ivan')    "
      ],
      "execution_count": 121,
      "outputs": []
    },
    {
      "cell_type": "code",
      "metadata": {
        "colab": {
          "base_uri": "https://localhost:8080/"
        },
        "id": "kghSRvktks-k",
        "outputId": "9946d10b-e135-4d29-9058-c5543a8fa14c"
      },
      "source": [
        "print(d)"
      ],
      "execution_count": 122,
      "outputs": [
        {
          "output_type": "stream",
          "text": [
            "Ivan----Ivanov\n"
          ],
          "name": "stdout"
        }
      ]
    },
    {
      "cell_type": "markdown",
      "metadata": {
        "id": "I7OuFJ1nks-l"
      },
      "source": [
        "<a href='#content'>Назад к Оглавлению</a>"
      ]
    },
    {
      "cell_type": "markdown",
      "metadata": {
        "id": "7_f_wYs4ks-5"
      },
      "source": [
        "# Магические команды <a name='magic'></a>"
      ]
    },
    {
      "cell_type": "markdown",
      "metadata": {
        "id": "Pu3w0bK2ks-6"
      },
      "source": [
        "Команды, привязанные к строке, начинаются с %. Команды, привязанные к ячейке, начинаются с %%."
      ]
    },
    {
      "cell_type": "markdown",
      "metadata": {
        "id": "fA7oQqh6ks-6"
      },
      "source": [
        "#### Список всех магических команд"
      ]
    },
    {
      "cell_type": "code",
      "metadata": {
        "colab": {
          "base_uri": "https://localhost:8080/",
          "height": 161
        },
        "id": "GvDF-yBCks-6",
        "outputId": "f96864d5-7ca3-40b3-9236-d59f56dac7b3"
      },
      "source": [
        "%lsmagic"
      ],
      "execution_count": 123,
      "outputs": [
        {
          "output_type": "execute_result",
          "data": {
            "application/json": {
              "cell": {
                "prun": "ExecutionMagics",
                "file": "Other",
                "!": "OSMagics",
                "capture": "ExecutionMagics",
                "timeit": "ExecutionMagics",
                "script": "ScriptMagics",
                "pypy": "Other",
                "system": "OSMagics",
                "perl": "Other",
                "html": "DisplayMagics",
                "bash": "Other",
                "shell": "Other",
                "HTML": "Other",
                "python": "Other",
                "SVG": "Other",
                "javascript": "DisplayMagics",
                "bigquery": "Other",
                "js": "DisplayMagics",
                "writefile": "OSMagics",
                "ruby": "Other",
                "python3": "Other",
                "python2": "Other",
                "latex": "DisplayMagics",
                "sx": "OSMagics",
                "svg": "DisplayMagics",
                "sh": "Other",
                "time": "ExecutionMagics",
                "debug": "ExecutionMagics"
              },
              "line": {
                "psource": "NamespaceMagics",
                "logstart": "LoggingMagics",
                "popd": "OSMagics",
                "tensorflow_version": "Other",
                "loadpy": "CodeMagics",
                "colors": "BasicMagics",
                "who_ls": "NamespaceMagics",
                "lf": "Other",
                "ll": "Other",
                "pprint": "BasicMagics",
                "lk": "Other",
                "ls": "Other",
                "save": "CodeMagics",
                "tb": "ExecutionMagics",
                "lx": "Other",
                "pylab": "PylabMagics",
                "killbgscripts": "ScriptMagics",
                "quickref": "BasicMagics",
                "magic": "BasicMagics",
                "dhist": "OSMagics",
                "edit": "KernelMagics",
                "logstop": "LoggingMagics",
                "gui": "BasicMagics",
                "prun": "ExecutionMagics",
                "debug": "ExecutionMagics",
                "page": "BasicMagics",
                "logstate": "LoggingMagics",
                "ed": "Other",
                "pushd": "OSMagics",
                "timeit": "ExecutionMagics",
                "set_env": "OSMagics",
                "rehashx": "OSMagics",
                "hist": "Other",
                "qtconsole": "KernelMagics",
                "rm": "Other",
                "dirs": "OSMagics",
                "run": "ExecutionMagics",
                "reset_selective": "NamespaceMagics",
                "pinfo2": "NamespaceMagics",
                "matplotlib": "PylabMagics",
                "unload_ext": "ExtensionMagics",
                "doctest_mode": "BasicMagics",
                "logoff": "LoggingMagics",
                "reload_ext": "ExtensionMagics",
                "pdb": "ExecutionMagics",
                "load": "CodeMagics",
                "lsmagic": "BasicMagics",
                "autosave": "KernelMagics",
                "cd": "OSMagics",
                "pastebin": "CodeMagics",
                "alias_magic": "BasicMagics",
                "cp": "Other",
                "autocall": "AutoMagics",
                "ldir": "Other",
                "bookmark": "OSMagics",
                "connect_info": "KernelMagics",
                "mkdir": "Other",
                "system": "OSMagics",
                "whos": "NamespaceMagics",
                "rmdir": "Other",
                "automagic": "AutoMagics",
                "store": "StoreMagics",
                "more": "KernelMagics",
                "shell": "Other",
                "pdef": "NamespaceMagics",
                "precision": "BasicMagics",
                "pinfo": "NamespaceMagics",
                "pwd": "OSMagics",
                "psearch": "NamespaceMagics",
                "reset": "NamespaceMagics",
                "recall": "HistoryMagics",
                "xdel": "NamespaceMagics",
                "xmode": "BasicMagics",
                "cat": "Other",
                "mv": "Other",
                "rerun": "HistoryMagics",
                "logon": "LoggingMagics",
                "history": "HistoryMagics",
                "pycat": "OSMagics",
                "pip": "Other",
                "unalias": "OSMagics",
                "env": "OSMagics",
                "load_ext": "ExtensionMagics",
                "config": "ConfigMagics",
                "profile": "BasicMagics",
                "pfile": "NamespaceMagics",
                "less": "KernelMagics",
                "who": "NamespaceMagics",
                "notebook": "BasicMagics",
                "man": "KernelMagics",
                "sx": "OSMagics",
                "macro": "ExecutionMagics",
                "clear": "KernelMagics",
                "alias": "OSMagics",
                "time": "ExecutionMagics",
                "sc": "OSMagics",
                "rep": "Other",
                "pdoc": "NamespaceMagics"
              }
            },
            "text/plain": [
              "Available line magics:\n",
              "%alias  %alias_magic  %autocall  %automagic  %autosave  %bookmark  %cat  %cd  %clear  %colors  %config  %connect_info  %cp  %debug  %dhist  %dirs  %doctest_mode  %ed  %edit  %env  %gui  %hist  %history  %killbgscripts  %ldir  %less  %lf  %lk  %ll  %load  %load_ext  %loadpy  %logoff  %logon  %logstart  %logstate  %logstop  %ls  %lsmagic  %lx  %macro  %magic  %man  %matplotlib  %mkdir  %more  %mv  %notebook  %page  %pastebin  %pdb  %pdef  %pdoc  %pfile  %pinfo  %pinfo2  %pip  %popd  %pprint  %precision  %profile  %prun  %psearch  %psource  %pushd  %pwd  %pycat  %pylab  %qtconsole  %quickref  %recall  %rehashx  %reload_ext  %rep  %rerun  %reset  %reset_selective  %rm  %rmdir  %run  %save  %sc  %set_env  %shell  %store  %sx  %system  %tb  %tensorflow_version  %time  %timeit  %unalias  %unload_ext  %who  %who_ls  %whos  %xdel  %xmode\n",
              "\n",
              "Available cell magics:\n",
              "%%!  %%HTML  %%SVG  %%bash  %%bigquery  %%capture  %%debug  %%file  %%html  %%javascript  %%js  %%latex  %%perl  %%prun  %%pypy  %%python  %%python2  %%python3  %%ruby  %%script  %%sh  %%shell  %%svg  %%sx  %%system  %%time  %%timeit  %%writefile\n",
              "\n",
              "Automagic is ON, % prefix IS NOT needed for line magics."
            ]
          },
          "metadata": {
            "tags": []
          },
          "execution_count": 123
        }
      ]
    },
    {
      "cell_type": "markdown",
      "metadata": {
        "id": "SK-tYo1oks-7"
      },
      "source": [
        "#### Выполнение скрипта из внешнего файла"
      ]
    },
    {
      "cell_type": "code",
      "metadata": {
        "colab": {
          "base_uri": "https://localhost:8080/",
          "height": 52
        },
        "id": "SOQbJ516ks-8",
        "outputId": "baeb34c6-446d-4ebf-d448-b85526a5bb9f"
      },
      "source": [
        "with open('script.py', 'w') as f:\n",
        "    f.write(\"print('Hello')\")\n",
        "f.close()\n",
        "%run script.py"
      ],
      "execution_count": 124,
      "outputs": [
        {
          "output_type": "stream",
          "text": [
            "Hello\n"
          ],
          "name": "stdout"
        },
        {
          "output_type": "display_data",
          "data": {
            "text/plain": [
              "<Figure size 432x288 with 0 Axes>"
            ]
          },
          "metadata": {
            "tags": []
          }
        }
      ]
    },
    {
      "cell_type": "markdown",
      "metadata": {
        "id": "AOcwWnLGks-9"
      },
      "source": [
        "#### Оценка времени выполнения строки кода"
      ]
    },
    {
      "cell_type": "code",
      "metadata": {
        "colab": {
          "base_uri": "https://localhost:8080/"
        },
        "id": "CY_RHZjwks--",
        "outputId": "f8b8765f-0b56-4611-84d3-28557ea88f78"
      },
      "source": [
        "%time sum([i**5 for i in range(100000)])"
      ],
      "execution_count": 125,
      "outputs": [
        {
          "output_type": "stream",
          "text": [
            "CPU times: user 45.1 ms, sys: 3.01 ms, total: 48.1 ms\n",
            "Wall time: 51 ms\n"
          ],
          "name": "stdout"
        },
        {
          "output_type": "execute_result",
          "data": {
            "text/plain": [
              "166661666708333333332500000000"
            ]
          },
          "metadata": {
            "tags": []
          },
          "execution_count": 125
        }
      ]
    },
    {
      "cell_type": "code",
      "metadata": {
        "colab": {
          "base_uri": "https://localhost:8080/"
        },
        "id": "CocFSPl-ks-_",
        "outputId": "946b42f6-a8bc-4cbb-9eb5-d091c4dde202"
      },
      "source": [
        "%timeit 7 in [i**5 for i in range(100000)]"
      ],
      "execution_count": 126,
      "outputs": [
        {
          "output_type": "stream",
          "text": [
            "10 loops, best of 5: 35.8 ms per loop\n"
          ],
          "name": "stdout"
        }
      ]
    },
    {
      "cell_type": "code",
      "metadata": {
        "colab": {
          "base_uri": "https://localhost:8080/"
        },
        "id": "H_0e4pMkks-_",
        "outputId": "481dd06b-8e01-437b-b3e1-fe651146f421"
      },
      "source": [
        "a = np.array([i**5 for i in range(100000)])\n",
        "%timeit 7 in a"
      ],
      "execution_count": 127,
      "outputs": [
        {
          "output_type": "stream",
          "text": [
            "1000 loops, best of 5: 1.36 ms per loop\n"
          ],
          "name": "stdout"
        }
      ]
    },
    {
      "cell_type": "markdown",
      "metadata": {
        "id": "TSip52dgks_A"
      },
      "source": [
        "#### Оценка времени выполнения кода в ячейке"
      ]
    },
    {
      "cell_type": "code",
      "metadata": {
        "colab": {
          "base_uri": "https://localhost:8080/"
        },
        "id": "YrVgcfWpks_B",
        "outputId": "a01a8915-e4ac-417d-f258-d983e20a4669"
      },
      "source": [
        "%%time\n",
        "s = 0\n",
        "a = [i for i in range(1000000)]\n",
        "b = [i for i in range(1000000)]\n",
        "for i in range(len(a)):\n",
        "    s += a[i]*b[i]\n",
        "print(s)    "
      ],
      "execution_count": 128,
      "outputs": [
        {
          "output_type": "stream",
          "text": [
            "333332833333500000\n",
            "CPU times: user 370 ms, sys: 44.2 ms, total: 414 ms\n",
            "Wall time: 415 ms\n"
          ],
          "name": "stdout"
        }
      ]
    },
    {
      "cell_type": "markdown",
      "metadata": {
        "id": "3tfW0Qkiks_B"
      },
      "source": [
        "#### Запись в файл"
      ]
    },
    {
      "cell_type": "code",
      "metadata": {
        "colab": {
          "base_uri": "https://localhost:8080/"
        },
        "id": "60WHCwZjks_B",
        "outputId": "73a8b298-30e9-4219-e244-5223f34f01ca"
      },
      "source": [
        "%%writefile script.py\n",
        "\n",
        "def f(a):\n",
        "    print(a**2)\n",
        "f(2)"
      ],
      "execution_count": 129,
      "outputs": [
        {
          "output_type": "stream",
          "text": [
            "Overwriting script.py\n"
          ],
          "name": "stdout"
        }
      ]
    },
    {
      "cell_type": "code",
      "metadata": {
        "colab": {
          "base_uri": "https://localhost:8080/"
        },
        "id": "8Sz6G1zgks_B",
        "outputId": "8dac71c1-a97a-4582-bf94-e49dbcee7784"
      },
      "source": [
        "%run script.py"
      ],
      "execution_count": 130,
      "outputs": [
        {
          "output_type": "stream",
          "text": [
            "4\n"
          ],
          "name": "stdout"
        }
      ]
    },
    {
      "cell_type": "markdown",
      "metadata": {
        "id": "e0TUkhYcks_B"
      },
      "source": [
        "#### Просмотр содержимого файла"
      ]
    },
    {
      "cell_type": "code",
      "metadata": {
        "id": "E-aFSq37ks_C"
      },
      "source": [
        "%pycat script.py"
      ],
      "execution_count": 131,
      "outputs": []
    },
    {
      "cell_type": "markdown",
      "metadata": {
        "id": "K-AUyX9Qks_C"
      },
      "source": [
        "#### Получение информации обо всех используемых глобальных переменных"
      ]
    },
    {
      "cell_type": "code",
      "metadata": {
        "colab": {
          "base_uri": "https://localhost:8080/"
        },
        "id": "uHW7RcAQks_E",
        "outputId": "ebd5560b-1f0c-4866-c903-c7bd643faf17"
      },
      "source": [
        "%who"
      ],
      "execution_count": 132,
      "outputs": [
        {
          "output_type": "stream",
          "text": [
            "A\t B\t C\t D\t MyException\t a\t acos\t acosh\t age\t \n",
            "asin\t asinh\t atan\t atan2\t atanh\t b\t c\t ceil\t copysign\t \n",
            "cos\t cosh\t d\t d1\t d2\t degrees\t e\t elem\t erf\t \n",
            "erfc\t exp\t expm1\t f\t f1\t f2\t fSquare\t fSum\t fabs\t \n",
            "factorial\t floor\t fmod\t frexp\t fsum\t gamma\t gcd\t he\t hypot\t \n",
            "i\t inf\t isclose\t isfinite\t isinf\t isnan\t j\t l\t ldexp\t \n",
            "lgamma\t log\t log10\t log1p\t log2\t m\t main\t me\t modf\t \n",
            "nan\t np\t person\t pi\t pickle\t plt\t pow\t radians\t remainder\t \n",
            "row\t s\t s1\t s2\t s3\t s4\t s5\t s6\t sin\t \n",
            "sinh\t sqrt\t tan\t tanh\t tau\t text\t trunc\t v\t x\t \n",
            "y\t \n"
          ],
          "name": "stdout"
        }
      ]
    },
    {
      "cell_type": "code",
      "metadata": {
        "colab": {
          "base_uri": "https://localhost:8080/"
        },
        "id": "SVtaFDh3ks_E",
        "outputId": "6ebb2e3c-255a-4d1a-bc35-7d6668aa2681"
      },
      "source": [
        "%who str"
      ],
      "execution_count": 133,
      "outputs": [
        {
          "output_type": "stream",
          "text": [
            "elem\t text\t \n"
          ],
          "name": "stdout"
        }
      ]
    },
    {
      "cell_type": "code",
      "metadata": {
        "colab": {
          "base_uri": "https://localhost:8080/"
        },
        "id": "-Vjau-tGks_F",
        "outputId": "110ec124-29c8-40df-9bfe-bf1fb8ac2d34"
      },
      "source": [
        "%who int"
      ],
      "execution_count": 134,
      "outputs": [
        {
          "output_type": "stream",
          "text": [
            "age\t i\t j\t s\t v\t \n"
          ],
          "name": "stdout"
        }
      ]
    },
    {
      "cell_type": "code",
      "metadata": {
        "colab": {
          "base_uri": "https://localhost:8080/"
        },
        "id": "yIqZsp20ks_F",
        "outputId": "399b6c9b-1eee-4a3d-b9db-547e4eb3c4b6"
      },
      "source": [
        "%who float"
      ],
      "execution_count": 135,
      "outputs": [
        {
          "output_type": "stream",
          "text": [
            "e\t inf\t nan\t pi\t tau\t x\t y\t \n"
          ],
          "name": "stdout"
        }
      ]
    },
    {
      "cell_type": "code",
      "metadata": {
        "colab": {
          "base_uri": "https://localhost:8080/"
        },
        "id": "DT3INgQDks_F",
        "outputId": "1fc57693-f72c-43a0-f273-5659ea998a91"
      },
      "source": [
        "%who list"
      ],
      "execution_count": 136,
      "outputs": [
        {
          "output_type": "stream",
          "text": [
            "a\t b\t m\t row\t \n"
          ],
          "name": "stdout"
        }
      ]
    },
    {
      "cell_type": "code",
      "metadata": {
        "colab": {
          "base_uri": "https://localhost:8080/"
        },
        "id": "siV_uO_Mks_F",
        "outputId": "5b10ff70-d5d8-48c5-f7f3-4d852a9cf12c"
      },
      "source": [
        "%who dict"
      ],
      "execution_count": 137,
      "outputs": [
        {
          "output_type": "stream",
          "text": [
            "d1\t s1\t \n"
          ],
          "name": "stdout"
        }
      ]
    },
    {
      "cell_type": "code",
      "metadata": {
        "colab": {
          "base_uri": "https://localhost:8080/"
        },
        "id": "_5xOWKdDks_G",
        "outputId": "1938e20f-253e-4117-ec2c-c191cd90a77b"
      },
      "source": [
        "%who function"
      ],
      "execution_count": 138,
      "outputs": [
        {
          "output_type": "stream",
          "text": [
            "f\t f1\t f2\t fSquare\t fSum\t l\t main\t \n"
          ],
          "name": "stdout"
        }
      ]
    },
    {
      "cell_type": "markdown",
      "metadata": {
        "id": "0JU5c-cAks_G"
      },
      "source": [
        "#### Использование html кода в блокноте"
      ]
    },
    {
      "cell_type": "code",
      "metadata": {
        "colab": {
          "base_uri": "https://localhost:8080/",
          "height": 114
        },
        "id": "pO9m3wIwks_G",
        "outputId": "e258ebbc-2c12-4abe-83f6-3bb3d89d55f4"
      },
      "source": [
        "%%html\n",
        "\n",
        "<h1>Таблица с информацией</h1>\n",
        "<table>\n",
        "<tr>\n",
        "    <td>A</td> <td>B</td>\n",
        "</tr>\n",
        "<tr>\n",
        "    <td>C</td> <td>D</td>\n",
        "</tr>\n",
        "</table>"
      ],
      "execution_count": 139,
      "outputs": [
        {
          "output_type": "display_data",
          "data": {
            "text/html": [
              "\n",
              "<h1>Таблица с информацией</h1>\n",
              "<table>\n",
              "<tr>\n",
              "    <td>A</td> <td>B</td>\n",
              "</tr>\n",
              "<tr>\n",
              "    <td>C</td> <td>D</td>\n",
              "</tr>\n",
              "</table>"
            ],
            "text/plain": [
              "<IPython.core.display.HTML object>"
            ]
          },
          "metadata": {
            "tags": []
          }
        }
      ]
    },
    {
      "cell_type": "markdown",
      "metadata": {
        "id": "YAGwZbWeks_I"
      },
      "source": [
        "#### Переменные среды"
      ]
    },
    {
      "cell_type": "code",
      "metadata": {
        "colab": {
          "base_uri": "https://localhost:8080/",
          "height": 35
        },
        "id": "WN48Q7DKks_I",
        "outputId": "04b19ddd-956b-473c-f827-e3e084928501"
      },
      "source": [
        "%env PATH"
      ],
      "execution_count": 140,
      "outputs": [
        {
          "output_type": "execute_result",
          "data": {
            "application/vnd.google.colaboratory.intrinsic+json": {
              "type": "string"
            },
            "text/plain": [
              "'/usr/local/nvidia/bin:/usr/local/cuda/bin:/usr/local/sbin:/usr/local/bin:/usr/sbin:/usr/bin:/sbin:/bin:/tools/node/bin:/tools/google-cloud-sdk/bin:/opt/bin'"
            ]
          },
          "metadata": {
            "tags": []
          },
          "execution_count": 140
        }
      ]
    },
    {
      "cell_type": "markdown",
      "metadata": {
        "id": "EwxRkqHsks_J"
      },
      "source": [
        "#### Получение подробной информации об объекте"
      ]
    },
    {
      "cell_type": "code",
      "metadata": {
        "id": "Vxu81HHIks_J"
      },
      "source": [
        "a = [1, 2, 3]\n",
        "%pinfo a"
      ],
      "execution_count": 141,
      "outputs": []
    },
    {
      "cell_type": "markdown",
      "metadata": {
        "id": "V3ZpLQIuks_J"
      },
      "source": [
        "<a href='#content'>Назад к Оглавлению</a>"
      ]
    },
    {
      "cell_type": "markdown",
      "metadata": {
        "id": "Kt6kaBuEks9c"
      },
      "source": [
        "# 10 типовых примеров использования python <a name='10ops'></a>"
      ]
    },
    {
      "cell_type": "markdown",
      "metadata": {
        "id": "HuMAruOgks9c"
      },
      "source": [
        "#### Создание переменной"
      ]
    },
    {
      "cell_type": "code",
      "metadata": {
        "id": "4skZ_Gt7ks9c"
      },
      "source": [
        "a = 10"
      ],
      "execution_count": 142,
      "outputs": []
    },
    {
      "cell_type": "markdown",
      "metadata": {
        "id": "RZZlbznQks9d"
      },
      "source": [
        "#### Как создать список"
      ]
    },
    {
      "cell_type": "code",
      "metadata": {
        "id": "aIoFdYjxks9d",
        "colab": {
          "base_uri": "https://localhost:8080/"
        },
        "outputId": "88fe9733-7c9c-4408-ef42-b367a3fd3ca7"
      },
      "source": [
        "[i**2 for i in range(5)]"
      ],
      "execution_count": 143,
      "outputs": [
        {
          "output_type": "execute_result",
          "data": {
            "text/plain": [
              "[0, 1, 4, 9, 16]"
            ]
          },
          "metadata": {
            "tags": []
          },
          "execution_count": 143
        }
      ]
    },
    {
      "cell_type": "markdown",
      "metadata": {
        "id": "pMrFCr7Yks9d"
      },
      "source": [
        "#### Как создать функцию"
      ]
    },
    {
      "cell_type": "code",
      "metadata": {
        "id": "pp70O4nyks9d",
        "colab": {
          "base_uri": "https://localhost:8080/"
        },
        "outputId": "bd97f940-3487-4123-b862-04e77ae7a77a"
      },
      "source": [
        "def f(x):\n",
        "  return x**2\n",
        "f(5)"
      ],
      "execution_count": 144,
      "outputs": [
        {
          "output_type": "execute_result",
          "data": {
            "text/plain": [
              "25"
            ]
          },
          "metadata": {
            "tags": []
          },
          "execution_count": 144
        }
      ]
    },
    {
      "cell_type": "markdown",
      "metadata": {
        "id": "5iOffel9ks9d"
      },
      "source": [
        "#### Как подключить библиотеку"
      ]
    },
    {
      "cell_type": "code",
      "metadata": {
        "id": "J1f2xkwCks9e",
        "colab": {
          "base_uri": "https://localhost:8080/"
        },
        "outputId": "423b629d-d49e-42a5-a290-562def5c14a6"
      },
      "source": [
        "import math\n",
        "print(math.pi)"
      ],
      "execution_count": 145,
      "outputs": [
        {
          "output_type": "stream",
          "text": [
            "3.141592653589793\n"
          ],
          "name": "stdout"
        }
      ]
    },
    {
      "cell_type": "markdown",
      "metadata": {
        "id": "doennYCOks9e"
      },
      "source": [
        "#### Hello, world"
      ]
    },
    {
      "cell_type": "code",
      "metadata": {
        "id": "iMsXqYlWks9e",
        "colab": {
          "base_uri": "https://localhost:8080/"
        },
        "outputId": "e1e155cb-498f-4e66-db05-26beb31dadac"
      },
      "source": [
        "print(\"Hello, world!\")"
      ],
      "execution_count": 146,
      "outputs": [
        {
          "output_type": "stream",
          "text": [
            "Hello, world!\n"
          ],
          "name": "stdout"
        }
      ]
    },
    {
      "cell_type": "markdown",
      "metadata": {
        "id": "Ihb3kfmZks9e"
      },
      "source": [
        "####Как развернуть строку"
      ]
    },
    {
      "cell_type": "code",
      "metadata": {
        "id": "Z1xd4sndks9e",
        "colab": {
          "base_uri": "https://localhost:8080/",
          "height": 35
        },
        "outputId": "7c1d78b8-28ad-4b66-8e54-bacb81ac7306"
      },
      "source": [
        "\"12345\"[::-1]"
      ],
      "execution_count": 147,
      "outputs": [
        {
          "output_type": "execute_result",
          "data": {
            "application/vnd.google.colaboratory.intrinsic+json": {
              "type": "string"
            },
            "text/plain": [
              "'54321'"
            ]
          },
          "metadata": {
            "tags": []
          },
          "execution_count": 147
        }
      ]
    },
    {
      "cell_type": "markdown",
      "metadata": {
        "id": "o7JcByyqks9e"
      },
      "source": [
        "####Как прочитать информацию из файла и записать в файл"
      ]
    },
    {
      "cell_type": "code",
      "metadata": {
        "id": "kVOHRi7uks9f"
      },
      "source": [
        "s = \"Текст для записи в файл\"\n",
        "with open(\"data.txt\", \"w\") as f:\n",
        "  f.write(s)\n",
        "  f.close"
      ],
      "execution_count": 148,
      "outputs": []
    },
    {
      "cell_type": "code",
      "metadata": {
        "colab": {
          "base_uri": "https://localhost:8080/"
        },
        "id": "oFQCEwao-qOe",
        "outputId": "71ef92f1-4c23-4dd7-f5b6-f4103b35dafe"
      },
      "source": [
        "!cat data.txt"
      ],
      "execution_count": 149,
      "outputs": [
        {
          "output_type": "stream",
          "text": [
            "Текст для записи в файл"
          ],
          "name": "stdout"
        }
      ]
    },
    {
      "cell_type": "code",
      "metadata": {
        "colab": {
          "base_uri": "https://localhost:8080/"
        },
        "id": "_BcHoo2j-wXy",
        "outputId": "a8be70d1-5fb4-46b9-f8df-302e787d1a46"
      },
      "source": [
        "with open(\"data.txt\", \"r\") as f:\n",
        "  s = f.read()\n",
        "  f.close\n",
        "print(s)"
      ],
      "execution_count": 150,
      "outputs": [
        {
          "output_type": "stream",
          "text": [
            "Текст для записи в файл\n"
          ],
          "name": "stdout"
        }
      ]
    },
    {
      "cell_type": "markdown",
      "metadata": {
        "id": "p92FyxB6ks9f"
      },
      "source": [
        "####Как посчитать частотность букв в тексте"
      ]
    },
    {
      "cell_type": "code",
      "metadata": {
        "id": "QnupNy2xks9f",
        "colab": {
          "base_uri": "https://localhost:8080/"
        },
        "outputId": "198a258b-fb4b-4b8d-eb42-5e8066f4be75"
      },
      "source": [
        "d = dict()\n",
        "s = \"съешь ещё этих мягких французских булок, да выпей же чаю\"\n",
        "for letter in s:\n",
        "  if letter in d.keys():\n",
        "    d[letter] += 1\n",
        "  else:\n",
        "    d[letter] = 1\n",
        "print(sorted(d), end=\" \")"
      ],
      "execution_count": 151,
      "outputs": [
        {
          "output_type": "stream",
          "text": [
            "[' ', ',', 'а', 'б', 'в', 'г', 'д', 'е', 'ж', 'з', 'и', 'й', 'к', 'л', 'м', 'н', 'о', 'п', 'р', 'с', 'т', 'у', 'ф', 'х', 'ц', 'ч', 'ш', 'щ', 'ъ', 'ы', 'ь', 'э', 'ю', 'я', 'ё'] "
          ],
          "name": "stdout"
        }
      ]
    },
    {
      "cell_type": "markdown",
      "metadata": {
        "id": "RNVZYTSPks9f"
      },
      "source": [
        "#### "
      ]
    },
    {
      "cell_type": "code",
      "metadata": {
        "id": "_D0SLmg0ks9f"
      },
      "source": [
        ""
      ],
      "execution_count": 151,
      "outputs": []
    },
    {
      "cell_type": "markdown",
      "metadata": {
        "id": "0-v4y-hFks9f"
      },
      "source": [
        "####Как нарисовать график функции $y(x)=x^2$"
      ]
    },
    {
      "cell_type": "code",
      "metadata": {
        "id": "n3e11tFvks9f",
        "colab": {
          "base_uri": "https://localhost:8080/",
          "height": 264
        },
        "outputId": "77c4c617-96d3-4989-ac28-5a35eae96cff"
      },
      "source": [
        "import matplotlib.pyplot as plt\n",
        "plt.plot([1,2,3,4], [1,4,9,16])\n",
        "plt.show()"
      ],
      "execution_count": 152,
      "outputs": [
        {
          "output_type": "display_data",
          "data": {
            "image/png": "[encoded data removed]",
            "text/plain": [
              "<Figure size 432x288 with 1 Axes>"
            ]
          },
          "metadata": {
            "tags": [],
            "needs_background": "light"
          }
        }
      ]
    },
    {
      "cell_type": "markdown",
      "metadata": {
        "id": "TjCBcnhZks9g"
      },
      "source": [
        "<a href='#content'>Назад к Оглавлению</a>"
      ]
    },
    {
      "cell_type": "markdown",
      "metadata": {
        "id": "Pe0XSIQpks_V"
      },
      "source": [
        "# Полезные ссылки <a name='links'></a>"
      ]
    },
    {
      "cell_type": "markdown",
      "metadata": {
        "id": "45Ao4DURks_V"
      },
      "source": [
        "- python.org\n",
        "\n",
        "- colab.research.google.com"
      ]
    },
    {
      "cell_type": "markdown",
      "metadata": {
        "id": "BM9cksAaks_V"
      },
      "source": [
        "<a href='#content'>Назад к Оглавлению</a>"
      ]
    },
    {
      "cell_type": "markdown",
      "metadata": {
        "id": "qPoiVg_ynRmj"
      },
      "source": [
        "#Практические задания\n",
        "\n"
      ]
    },
    {
      "cell_type": "markdown",
      "metadata": {
        "id": "t7wFZnFRAUiL"
      },
      "source": [
        "Посчитать какой символ чаще всего встречается в файле hosts"
      ]
    },
    {
      "cell_type": "code",
      "metadata": {
        "colab": {
          "base_uri": "https://localhost:8080/"
        },
        "id": "Gn3mWtzanUSf",
        "outputId": "435d1d44-ff3c-478d-f6f4-f707721aa7a2"
      },
      "source": [
        "!cat /etc/hosts"
      ],
      "execution_count": 153,
      "outputs": [
        {
          "output_type": "stream",
          "text": [
            "127.0.0.1\tlocalhost\n",
            "::1\tlocalhost ip6-localhost ip6-loopback\n",
            "fe00::0\tip6-localnet\n",
            "ff00::0\tip6-mcastprefix\n",
            "ff02::1\tip6-allnodes\n",
            "ff02::2\tip6-allrouters\n",
            "172.28.0.2\t6c139cfc54ff\n"
          ],
          "name": "stdout"
        }
      ]
    },
    {
      "cell_type": "markdown",
      "metadata": {
        "id": "DlKzuFLjAaPQ"
      },
      "source": [
        "Посчитать какое слово встречается чаще всего в тексте."
      ]
    },
    {
      "cell_type": "markdown",
      "metadata": {
        "id": "XYLcsIUGAmAy"
      },
      "source": [
        "<a href='#content'>Назад к Оглавлению</a>"
      ]
    }
  ]
}