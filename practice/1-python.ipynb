{
  "nbformat": 4,
  "nbformat_minor": 0,
  "metadata": {
    "kernelspec": {
      "display_name": "Python 3",
      "language": "python",
      "name": "python3"
    },
    "language_info": {
      "codemirror_mode": {
        "name": "ipython",
        "version": 3
      },
      "file_extension": ".py",
      "mimetype": "text/x-python",
      "name": "python",
      "nbconvert_exporter": "python",
      "pygments_lexer": "ipython3",
      "version": "3.7.4"
    },
    "colab": {
      "name": "1-python.ipynb",
      "provenance": [],
      "toc_visible": true
    }
  },
  "cells": [
    {
      "cell_type": "markdown",
      "metadata": {
        "id": "Z0Dr7hK0ks9X"
      },
      "source": [
        "# UDV Summer School 2021\n"
      ]
    },
    {
      "cell_type": "markdown",
      "metadata": {
        "id": "C7nErJUS5YMw"
      },
      "source": [
        "#Практика по python"
      ]
    },
    {
      "cell_type": "markdown",
      "metadata": {
        "id": "APlqAAlx5fzV"
      },
      "source": [
        "Python: основные элементы и практические примеры работы.\n",
        "\n",
        "Для выполнения заданий не обязательно устанавливать Python локально, можно воспользоваться одним из популярных открытых инструментов\n",
        "\n",
        "- https://colab.research.google.com.\n",
        "\n",
        "- https://kaggle.com"
      ]
    },
    {
      "cell_type": "markdown",
      "metadata": {
        "id": "5gBGgBvg5TXA"
      },
      "source": [
        "# Задачи для тех, кто в уже теме\n",
        "\n",
        "Посчитать числа Фибоначчи.\n",
        "\n",
        "Посчитать количество вхождений символов в файл.\n",
        "\n",
        "Задача о Ханойских башнях (wiki).\n",
        "\n",
        "Вычислить площадь окружности (по формуле окружности и методом Монте-Карло).\n",
        "\n",
        "...\n",
        "\n",
        "\n",
        "Курс Stepik \"50 задач Python\" https://stepik.org/course/88731/info"
      ]
    },
    {
      "cell_type": "markdown",
      "metadata": {
        "id": "a2aoX6BV3hDt"
      },
      "source": [
        "# Оглавление <a name='content'></a>"
      ]
    },
    {
      "cell_type": "markdown",
      "metadata": {
        "id": "yBzCM30Vks9a"
      },
      "source": [
        "<ol>\n",
        "<li><a href='#basic'>Переменные, типы данных</a></li>\n",
        "<li><a href='#structures'>Структурированные типы данных</a></li>\n",
        "    <ol>\n",
        "        <li><a href='#strings'>Строки</a></li>\n",
        "        <li><a href='#lists'>Списки</a></li>\n",
        "        <li><a href='#tuples'>Кортежи</a></li>\n",
        "        <li><a href='#dict'>Словари</a></li>\n",
        "        <li><a href='#sets'>Множества</a></li>\n",
        "    </ol>\n",
        "<li><a href='#fs'>Функции</a></li>\n",
        "<li><a href='#control'>Операторы</a></li>\n",
        "    <ol>\n",
        "        <li><a href='#if'>Условный оператор if</a></li>\n",
        "        <li><a href='#while'>Цикл while</a></li>\n",
        "        <li><a href='#for'>Цикл for</a></li>\n",
        "    </ol>\n",
        "<li><a href='#io'>Ввод и вывод данных</a></li>\n",
        "<li><a href='#oop'>Объектно-ориентированное программирование</a></li>\n",
        "<li><a href='#magic'>Магические команды</a></li>\n",
        "<li><a href='#10ops'>10 типовых примеров использования python</a></li>\n",
        "<li><a href='#links'>Полезные ссылки</a></li>\n",
        "</ol>\n",
        "    "
      ]
    },
    {
      "cell_type": "markdown",
      "metadata": {
        "id": "J_d8hexGks9g"
      },
      "source": [
        "# Переменные, типы данных <a name='basic'></a>"
      ]
    },
    {
      "cell_type": "markdown",
      "metadata": {
        "id": "VYIs3tTlks9g"
      },
      "source": [
        "#### Объявление переменной. Вывод на экран."
      ]
    },
    {
      "cell_type": "code",
      "metadata": {
        "colab": {
          "base_uri": "https://localhost:8080/"
        },
        "id": "9HUr4M5cks9g",
        "outputId": "bfd69d2e-2614-4b13-da3f-13203ff6a2da"
      },
      "source": [
        "a = 1\n",
        "print(a)\n",
        "print(type(a))"
      ],
      "execution_count": 1,
      "outputs": [
        {
          "output_type": "stream",
          "text": [
            "1\n",
            "<class 'int'>\n"
          ],
          "name": "stdout"
        }
      ]
    },
    {
      "cell_type": "code",
      "metadata": {
        "colab": {
          "base_uri": "https://localhost:8080/"
        },
        "id": "yjbeco7wks9h",
        "outputId": "f02baf5d-da0d-4739-e20d-9129373b7e0b"
      },
      "source": [
        "s = \"Hello, world!\"\n",
        "print(s)\n",
        "print(type(s))"
      ],
      "execution_count": 2,
      "outputs": [
        {
          "output_type": "stream",
          "text": [
            "Hello, world!\n",
            "<class 'str'>\n"
          ],
          "name": "stdout"
        }
      ]
    },
    {
      "cell_type": "markdown",
      "metadata": {
        "id": "oQ-xr7gVks9h"
      },
      "source": [
        "#### Комментарии"
      ]
    },
    {
      "cell_type": "code",
      "metadata": {
        "id": "RZ16eV73ks9h"
      },
      "source": [
        "# однострочный комментарий"
      ],
      "execution_count": 3,
      "outputs": []
    },
    {
      "cell_type": "code",
      "metadata": {
        "colab": {
          "base_uri": "https://localhost:8080/",
          "height": 35
        },
        "id": "s5lU06v_ks9h",
        "outputId": "9efbd995-acbe-4982-c8c2-5cf4200572c5"
      },
      "source": [
        "'''\n",
        "это строковая переменная,\n",
        "но здесь она используется как\n",
        "комментарий из нескольких строк\n",
        "'''"
      ],
      "execution_count": 4,
      "outputs": [
        {
          "output_type": "execute_result",
          "data": {
            "application/vnd.google.colaboratory.intrinsic+json": {
              "type": "string"
            },
            "text/plain": [
              "'\\nэто строковая переменная,\\nно здесь она используется как\\nкомментарий из нескольких строк\\n'"
            ]
          },
          "metadata": {
            "tags": []
          },
          "execution_count": 4
        }
      ]
    },
    {
      "cell_type": "code",
      "metadata": {
        "id": "WamWQY1pks9h"
      },
      "source": [
        "#но лучше многострочный комментарий \n",
        "#делать так\n",
        "#asdf\n",
        "#asdf\n",
        "#asdf\n",
        "#asdf\n",
        "#asdf"
      ],
      "execution_count": 5,
      "outputs": []
    },
    {
      "cell_type": "markdown",
      "metadata": {
        "id": "F3LoG_SZks9i"
      },
      "source": [
        "#### Получение справки"
      ]
    },
    {
      "cell_type": "markdown",
      "metadata": {
        "id": "RwWa4eEpks9i"
      },
      "source": [
        "При описании функции текст заключается в тройные кавычки (\"\"\" в начале и в конце) и потом используется для docstring."
      ]
    },
    {
      "cell_type": "code",
      "metadata": {
        "id": "quZJnBTsks9i"
      },
      "source": [
        "def f():\n",
        "    \"\"\"\n",
        "    Функция f()\n",
        "    \"\"\"\n",
        "    print(\"Hello\")"
      ],
      "execution_count": 6,
      "outputs": []
    },
    {
      "cell_type": "code",
      "metadata": {
        "id": "bJ39KfsVks9i"
      },
      "source": [
        "f?"
      ],
      "execution_count": 7,
      "outputs": []
    },
    {
      "cell_type": "code",
      "metadata": {
        "id": "4AbvUqn6ks9i"
      },
      "source": [
        "min?"
      ],
      "execution_count": 8,
      "outputs": []
    },
    {
      "cell_type": "markdown",
      "metadata": {
        "id": "pF4n0qttks9i"
      },
      "source": [
        "#### Структура программы. Отступы."
      ]
    },
    {
      "cell_type": "code",
      "metadata": {
        "colab": {
          "base_uri": "https://localhost:8080/"
        },
        "id": "YDO2sIxIks9i",
        "outputId": "e1a6e07a-3f95-4406-aaaa-0abfbeda38aa"
      },
      "source": [
        "for i in range(3):\n",
        "# тело цикла выделяется отступом, обычно 4 пробела.\n",
        "    print(i)"
      ],
      "execution_count": 9,
      "outputs": [
        {
          "output_type": "stream",
          "text": [
            "0\n",
            "1\n",
            "2\n"
          ],
          "name": "stdout"
        }
      ]
    },
    {
      "cell_type": "code",
      "metadata": {
        "colab": {
          "base_uri": "https://localhost:8080/",
          "height": 35
        },
        "id": "TymFmoC5ks9j",
        "outputId": "c8190e3e-3fec-4652-e41d-2c131e9cb7ad"
      },
      "source": [
        "def f():\n",
        "# тело функции выделяется отступом, обычно 4 пробела.    \n",
        "    return \"Привет\"\n",
        "\n",
        "f()"
      ],
      "execution_count": 10,
      "outputs": [
        {
          "output_type": "execute_result",
          "data": {
            "application/vnd.google.colaboratory.intrinsic+json": {
              "type": "string"
            },
            "text/plain": [
              "'Привет'"
            ]
          },
          "metadata": {
            "tags": []
          },
          "execution_count": 10
        }
      ]
    },
    {
      "cell_type": "markdown",
      "metadata": {
        "id": "U7xhsdOZks9j"
      },
      "source": [
        "#### Импорт модулей"
      ]
    },
    {
      "cell_type": "code",
      "metadata": {
        "colab": {
          "base_uri": "https://localhost:8080/"
        },
        "id": "J37SSGNDks9j",
        "outputId": "3c313c8c-fc87-4b74-e01e-0a631b83d999"
      },
      "source": [
        "from math import *\n",
        "sqrt(4)\n",
        "sin(-2)"
      ],
      "execution_count": 11,
      "outputs": [
        {
          "output_type": "execute_result",
          "data": {
            "text/plain": [
              "-0.9092974268256817"
            ]
          },
          "metadata": {
            "tags": []
          },
          "execution_count": 11
        }
      ]
    },
    {
      "cell_type": "code",
      "metadata": {
        "colab": {
          "base_uri": "https://localhost:8080/",
          "height": 264
        },
        "id": "g9prQiA6ks9j",
        "outputId": "fa8ff597-80fa-4f0e-ff2e-906082e3ce0e"
      },
      "source": [
        "from matplotlib import pyplot as plt\n",
        "plt.plot([0,1],[0,1])\n",
        "plt.show()"
      ],
      "execution_count": 12,
      "outputs": [
        {
          "output_type": "display_data",
          "data": {
            "image/png": "[encoded data removed]",
            "text/plain": [
              "<Figure size 432x288 with 1 Axes>"
            ]
          },
          "metadata": {
            "tags": [],
            "needs_background": "light"
          }
        }
      ]
    },
    {
      "cell_type": "markdown",
      "metadata": {
        "id": "fVIm4S-Oks9k"
      },
      "source": [
        "#### Операция присваивания значения переменной"
      ]
    },
    {
      "cell_type": "code",
      "metadata": {
        "colab": {
          "base_uri": "https://localhost:8080/"
        },
        "id": "asjYbbZiks9k",
        "outputId": "d35514c6-5b13-4ef0-cdfc-7135a31085dd"
      },
      "source": [
        "a,b = 1,2\n",
        "print(\"a={}, b={}\".format(a,b))\n",
        "a,b = b,a\n",
        "print(\"a={}, b={}\".format(a,b))"
      ],
      "execution_count": 13,
      "outputs": [
        {
          "output_type": "stream",
          "text": [
            "a=1, b=2\n",
            "a=2, b=1\n"
          ],
          "name": "stdout"
        }
      ]
    },
    {
      "cell_type": "markdown",
      "metadata": {
        "id": "7lAdMp0jks9l"
      },
      "source": [
        "#### Операции сложения, вычитания, умножения"
      ]
    },
    {
      "cell_type": "code",
      "metadata": {
        "colab": {
          "base_uri": "https://localhost:8080/"
        },
        "id": "7luqP5Nsks9l",
        "outputId": "b9509810-8f4e-4054-e044-e891456ef79c"
      },
      "source": [
        "a = 1\n",
        "print(a+1, a-1, a*2)"
      ],
      "execution_count": 14,
      "outputs": [
        {
          "output_type": "stream",
          "text": [
            "2 0 2\n"
          ],
          "name": "stdout"
        }
      ]
    },
    {
      "cell_type": "markdown",
      "metadata": {
        "id": "W-mfbNcDks9m"
      },
      "source": [
        "#### Операция деления. Целая часть, остаток от деления."
      ]
    },
    {
      "cell_type": "code",
      "metadata": {
        "colab": {
          "base_uri": "https://localhost:8080/"
        },
        "id": "nroJLVlhks9n",
        "outputId": "ed0590dd-9ca2-47ac-f8bc-eb65009cb09d"
      },
      "source": [
        "print(10/3, 10//3, 10%3)"
      ],
      "execution_count": 15,
      "outputs": [
        {
          "output_type": "stream",
          "text": [
            "3.3333333333333335 3 1\n"
          ],
          "name": "stdout"
        }
      ]
    },
    {
      "cell_type": "code",
      "metadata": {
        "colab": {
          "base_uri": "https://localhost:8080/"
        },
        "id": "hXchop9Fks9n",
        "outputId": "24b95f00-9248-4943-debc-ad3ee47b2a51"
      },
      "source": [
        "a,b = divmod(10,3)\n",
        "print(a,b)"
      ],
      "execution_count": 16,
      "outputs": [
        {
          "output_type": "stream",
          "text": [
            "3 1\n"
          ],
          "name": "stdout"
        }
      ]
    },
    {
      "cell_type": "markdown",
      "metadata": {
        "id": "0Vecsgvyks9o"
      },
      "source": [
        "#### Короткая запись операций"
      ]
    },
    {
      "cell_type": "code",
      "metadata": {
        "colab": {
          "base_uri": "https://localhost:8080/"
        },
        "id": "P6tftxvGks9o",
        "outputId": "5b99363a-3650-4f1c-cd55-507692adeb0f"
      },
      "source": [
        "a = 1\n",
        "print(a)\n",
        "a += 1\n",
        "print(a)\n",
        "a *= 2\n",
        "print(a)\n",
        "a /= 3\n",
        "print(a)"
      ],
      "execution_count": 17,
      "outputs": [
        {
          "output_type": "stream",
          "text": [
            "1\n",
            "2\n",
            "4\n",
            "1.3333333333333333\n"
          ],
          "name": "stdout"
        }
      ]
    },
    {
      "cell_type": "markdown",
      "metadata": {
        "id": "4vpNU5aIks9o"
      },
      "source": [
        "#### Возведение в степень, извлечение корня"
      ]
    },
    {
      "cell_type": "code",
      "metadata": {
        "colab": {
          "base_uri": "https://localhost:8080/"
        },
        "id": "uJySvduyks9p",
        "outputId": "f7284237-7c1d-49f4-c70e-55f18fe84af3"
      },
      "source": [
        "print(2**2, 4**(1/2))"
      ],
      "execution_count": 18,
      "outputs": [
        {
          "output_type": "stream",
          "text": [
            "4 2.0\n"
          ],
          "name": "stdout"
        }
      ]
    },
    {
      "cell_type": "markdown",
      "metadata": {
        "id": "AK4OIFflks9p"
      },
      "source": [
        "#### Типы переменных"
      ]
    },
    {
      "cell_type": "code",
      "metadata": {
        "colab": {
          "base_uri": "https://localhost:8080/"
        },
        "id": "q5m4a-iRks9p",
        "outputId": "1bd8214f-f172-4958-e1e9-83a12e837f14"
      },
      "source": [
        "for elem in [1, 1., 1j, 1e-1, \"one\", True]:\n",
        "    print(type(elem))"
      ],
      "execution_count": 19,
      "outputs": [
        {
          "output_type": "stream",
          "text": [
            "<class 'int'>\n",
            "<class 'float'>\n",
            "<class 'complex'>\n",
            "<class 'float'>\n",
            "<class 'str'>\n",
            "<class 'bool'>\n"
          ],
          "name": "stdout"
        }
      ]
    },
    {
      "cell_type": "markdown",
      "metadata": {
        "id": "fptmjU1Cks9p"
      },
      "source": [
        "#### Логический тип данных"
      ]
    },
    {
      "cell_type": "code",
      "metadata": {
        "colab": {
          "base_uri": "https://localhost:8080/"
        },
        "id": "2rXyyfqEks9q",
        "outputId": "624acfb0-6ae8-4b0c-e5bb-fe5e50771dee"
      },
      "source": [
        "2*2==5"
      ],
      "execution_count": 20,
      "outputs": [
        {
          "output_type": "execute_result",
          "data": {
            "text/plain": [
              "False"
            ]
          },
          "metadata": {
            "tags": []
          },
          "execution_count": 20
        }
      ]
    },
    {
      "cell_type": "code",
      "metadata": {
        "colab": {
          "base_uri": "https://localhost:8080/"
        },
        "id": "755BXKrmks9q",
        "outputId": "fa0d1566-80ca-4d58-a85a-296646305230"
      },
      "source": [
        "list(range(10))\n",
        "for x in range(10):\n",
        "    if x%3:\n",
        "        print(\"Да\", end=\", \")\n",
        "    else:\n",
        "        print(\"Нет\", end=\", \")"
      ],
      "execution_count": 21,
      "outputs": [
        {
          "output_type": "stream",
          "text": [
            "Нет, Да, Да, Нет, Да, Да, Нет, Да, Да, Нет, "
          ],
          "name": "stdout"
        }
      ]
    },
    {
      "cell_type": "code",
      "metadata": {
        "colab": {
          "base_uri": "https://localhost:8080/"
        },
        "id": "kh-h_5Juks9r",
        "outputId": "d3be83aa-9851-41aa-b32e-1f153c005ee8"
      },
      "source": [
        "bool(0), bool(\"\"), bool([]), bool({}), bool(()), bool(set())"
      ],
      "execution_count": 22,
      "outputs": [
        {
          "output_type": "execute_result",
          "data": {
            "text/plain": [
              "(False, False, False, False, False, False)"
            ]
          },
          "metadata": {
            "tags": []
          },
          "execution_count": 22
        }
      ]
    },
    {
      "cell_type": "markdown",
      "metadata": {
        "id": "j0Y1_U7Yks9s"
      },
      "source": [
        "#### Нумерование элементов"
      ]
    },
    {
      "cell_type": "code",
      "metadata": {
        "colab": {
          "base_uri": "https://localhost:8080/"
        },
        "id": "WGzwxVtmks9s",
        "outputId": "1d0cb02f-23f9-483c-d97e-2ae8ac22676f"
      },
      "source": [
        "for i in enumerate(['a', 'b', 'c']):\n",
        "    print(i)"
      ],
      "execution_count": 23,
      "outputs": [
        {
          "output_type": "stream",
          "text": [
            "(0, 'a')\n",
            "(1, 'b')\n",
            "(2, 'c')\n"
          ],
          "name": "stdout"
        }
      ]
    },
    {
      "cell_type": "markdown",
      "metadata": {
        "id": "-YEeKpKeks9s"
      },
      "source": [
        "#### Сортировка"
      ]
    },
    {
      "cell_type": "code",
      "metadata": {
        "id": "QjuhR6oCks9s"
      },
      "source": [
        "a = [1, -3, 2, -4, 3, -5, 4, -6, 5, -7, 6, -8]"
      ],
      "execution_count": 24,
      "outputs": []
    },
    {
      "cell_type": "code",
      "metadata": {
        "colab": {
          "base_uri": "https://localhost:8080/"
        },
        "id": "-Z8aB1Oiks9s",
        "outputId": "4be69ef9-cf67-4c58-cfcc-c1865f1d7b46"
      },
      "source": [
        "sorted(a)"
      ],
      "execution_count": 25,
      "outputs": [
        {
          "output_type": "execute_result",
          "data": {
            "text/plain": [
              "[-8, -7, -6, -5, -4, -3, 1, 2, 3, 4, 5, 6]"
            ]
          },
          "metadata": {
            "tags": []
          },
          "execution_count": 25
        }
      ]
    },
    {
      "cell_type": "code",
      "metadata": {
        "colab": {
          "base_uri": "https://localhost:8080/"
        },
        "id": "yS_h7mZtks9t",
        "outputId": "bc19d137-6271-419f-ab58-8ef75986ccca"
      },
      "source": [
        "sorted(a, reverse=True)"
      ],
      "execution_count": 26,
      "outputs": [
        {
          "output_type": "execute_result",
          "data": {
            "text/plain": [
              "[6, 5, 4, 3, 2, 1, -3, -4, -5, -6, -7, -8]"
            ]
          },
          "metadata": {
            "tags": []
          },
          "execution_count": 26
        }
      ]
    },
    {
      "cell_type": "code",
      "metadata": {
        "colab": {
          "base_uri": "https://localhost:8080/"
        },
        "id": "wMDz8b3Yks9t",
        "outputId": "e4b92647-029f-40e9-b985-5b2a545ab747"
      },
      "source": [
        "sorted(a, key=abs)"
      ],
      "execution_count": 27,
      "outputs": [
        {
          "output_type": "execute_result",
          "data": {
            "text/plain": [
              "[1, 2, -3, 3, -4, 4, -5, 5, -6, 6, -7, -8]"
            ]
          },
          "metadata": {
            "tags": []
          },
          "execution_count": 27
        }
      ]
    },
    {
      "cell_type": "markdown",
      "metadata": {
        "id": "2n2bX41_ks9t"
      },
      "source": [
        "#### Минимальный и максимальный элементы"
      ]
    },
    {
      "cell_type": "code",
      "metadata": {
        "colab": {
          "base_uri": "https://localhost:8080/"
        },
        "id": "0WkANsl3ks9t",
        "outputId": "651bce54-4095-49e2-f5c8-04761fd41427"
      },
      "source": [
        "a = [1, 2, 3, 4, 5]\n",
        "min(a), max(a)"
      ],
      "execution_count": 28,
      "outputs": [
        {
          "output_type": "execute_result",
          "data": {
            "text/plain": [
              "(1, 5)"
            ]
          },
          "metadata": {
            "tags": []
          },
          "execution_count": 28
        }
      ]
    },
    {
      "cell_type": "markdown",
      "metadata": {
        "id": "MtyUzFP3ks9t"
      },
      "source": [
        "#### Свойства объекта"
      ]
    },
    {
      "cell_type": "markdown",
      "metadata": {
        "id": "ciPhuyB76rn-"
      },
      "source": [
        "Даже обычное число в python является объектом."
      ]
    },
    {
      "cell_type": "code",
      "metadata": {
        "colab": {
          "base_uri": "https://localhost:8080/"
        },
        "id": "Vr_pKa2nks9t",
        "outputId": "ff637476-615c-48df-ffb2-4ec69ba177af"
      },
      "source": [
        "a = 1\n",
        "for s in dir(a):\n",
        "    print(s, end=\"   \")\n",
        "a.__sizeof__()"
      ],
      "execution_count": 29,
      "outputs": [
        {
          "output_type": "stream",
          "text": [
            "__abs__   __add__   __and__   __bool__   __ceil__   __class__   __delattr__   __dir__   __divmod__   __doc__   __eq__   __float__   __floor__   __floordiv__   __format__   __ge__   __getattribute__   __getnewargs__   __gt__   __hash__   __index__   __init__   __init_subclass__   __int__   __invert__   __le__   __lshift__   __lt__   __mod__   __mul__   __ne__   __neg__   __new__   __or__   __pos__   __pow__   __radd__   __rand__   __rdivmod__   __reduce__   __reduce_ex__   __repr__   __rfloordiv__   __rlshift__   __rmod__   __rmul__   __ror__   __round__   __rpow__   __rrshift__   __rshift__   __rsub__   __rtruediv__   __rxor__   __setattr__   __sizeof__   __str__   __sub__   __subclasshook__   __truediv__   __trunc__   __xor__   bit_length   conjugate   denominator   from_bytes   imag   numerator   real   to_bytes   "
          ],
          "name": "stdout"
        },
        {
          "output_type": "execute_result",
          "data": {
            "text/plain": [
              "28"
            ]
          },
          "metadata": {
            "tags": []
          },
          "execution_count": 29
        }
      ]
    },
    {
      "cell_type": "markdown",
      "metadata": {
        "id": "UU5CGnUwks9u"
      },
      "source": [
        "<a href='#content'>Назад в Оглавление</a>"
      ]
    },
    {
      "cell_type": "markdown",
      "metadata": {
        "id": "nbtvTGXtks9u"
      },
      "source": [
        "# Структурированные типы данных <a name='structures'></a>"
      ]
    },
    {
      "cell_type": "markdown",
      "metadata": {
        "id": "ffCPvlSm7BGU"
      },
      "source": [
        "Списки в python могут содержать в себе элементы различной структуры."
      ]
    },
    {
      "cell_type": "code",
      "metadata": {
        "colab": {
          "base_uri": "https://localhost:8080/"
        },
        "id": "lpWWK51v6bNf",
        "outputId": "230cf4ea-0618-4aaa-cc24-b63b9b69246c"
      },
      "source": [
        "a = []\n",
        "def f():\n",
        "    return 123\n",
        "a.append(f)\n",
        "l = lambda :'123'\n",
        "a.append(l)\n",
        "a.append([1,2,3])\n",
        "a.append((1,2,3,))\n",
        "a.append(\"123\")\n",
        "a.append({'a':1, 'b':2, 'c':3})\n",
        "a.append({1,2,3})\n",
        "a.append((i for i in range(1,4)))\n",
        "for i in a:\n",
        "    print(type(i), repr(i), i)"
      ],
      "execution_count": 30,
      "outputs": [
        {
          "output_type": "stream",
          "text": [
            "<class 'function'> <function f at 0x7f6ee7a9ca70> <function f at 0x7f6ee7a9ca70>\n",
            "<class 'function'> <function <lambda> at 0x7f6ee7a3c290> <function <lambda> at 0x7f6ee7a3c290>\n",
            "<class 'list'> [1, 2, 3] [1, 2, 3]\n",
            "<class 'tuple'> (1, 2, 3) (1, 2, 3)\n",
            "<class 'str'> '123' 123\n",
            "<class 'dict'> {'a': 1, 'b': 2, 'c': 3} {'a': 1, 'b': 2, 'c': 3}\n",
            "<class 'set'> {1, 2, 3} {1, 2, 3}\n",
            "<class 'generator'> <generator object <genexpr> at 0x7f6eebcf50d0> <generator object <genexpr> at 0x7f6eebcf50d0>\n"
          ],
          "name": "stdout"
        }
      ]
    },
    {
      "cell_type": "markdown",
      "metadata": {
        "id": "Zzh9TKTVks9u"
      },
      "source": [
        "## Строки <a name='strings'></a>"
      ]
    },
    {
      "cell_type": "code",
      "metadata": {
        "colab": {
          "base_uri": "https://localhost:8080/"
        },
        "id": "eMyPuZyoks9u",
        "outputId": "f791b1a0-1d0b-493a-c19b-665a8645fc72"
      },
      "source": [
        "\"asd\".isalpha()"
      ],
      "execution_count": 31,
      "outputs": [
        {
          "output_type": "execute_result",
          "data": {
            "text/plain": [
              "True"
            ]
          },
          "metadata": {
            "tags": []
          },
          "execution_count": 31
        }
      ]
    },
    {
      "cell_type": "code",
      "metadata": {
        "colab": {
          "base_uri": "https://localhost:8080/"
        },
        "id": "cflQ4TGRks9u",
        "outputId": "1f211dcf-2fbc-4319-f9f6-6ff1dc87aebf"
      },
      "source": [
        "\"5\".isdigit()"
      ],
      "execution_count": 32,
      "outputs": [
        {
          "output_type": "execute_result",
          "data": {
            "text/plain": [
              "True"
            ]
          },
          "metadata": {
            "tags": []
          },
          "execution_count": 32
        }
      ]
    },
    {
      "cell_type": "code",
      "metadata": {
        "colab": {
          "base_uri": "https://localhost:8080/",
          "height": 35
        },
        "id": "wwVaV1zGks9u",
        "outputId": "1255a5a3-87d7-47d9-86bb-b8f80f318aad"
      },
      "source": [
        "\"hello, world!\".upper()"
      ],
      "execution_count": 33,
      "outputs": [
        {
          "output_type": "execute_result",
          "data": {
            "application/vnd.google.colaboratory.intrinsic+json": {
              "type": "string"
            },
            "text/plain": [
              "'HELLO, WORLD!'"
            ]
          },
          "metadata": {
            "tags": []
          },
          "execution_count": 33
        }
      ]
    },
    {
      "cell_type": "code",
      "metadata": {
        "colab": {
          "base_uri": "https://localhost:8080/",
          "height": 35
        },
        "id": "pL5t2o8-ks9u",
        "outputId": "cc98c013-9385-41dc-c1e7-0ca11fecb13e"
      },
      "source": [
        "\"HI!\".lower()"
      ],
      "execution_count": 34,
      "outputs": [
        {
          "output_type": "execute_result",
          "data": {
            "application/vnd.google.colaboratory.intrinsic+json": {
              "type": "string"
            },
            "text/plain": [
              "'hi!'"
            ]
          },
          "metadata": {
            "tags": []
          },
          "execution_count": 34
        }
      ]
    },
    {
      "cell_type": "code",
      "metadata": {
        "colab": {
          "base_uri": "https://localhost:8080/",
          "height": 35
        },
        "id": "4lsw3x_3ks9v",
        "outputId": "4f933f03-9596-4cf0-afeb-d5067e97eaa3"
      },
      "source": [
        "\"some text is here\".capitalize()"
      ],
      "execution_count": 35,
      "outputs": [
        {
          "output_type": "execute_result",
          "data": {
            "application/vnd.google.colaboratory.intrinsic+json": {
              "type": "string"
            },
            "text/plain": [
              "'Some text is here'"
            ]
          },
          "metadata": {
            "tags": []
          },
          "execution_count": 35
        }
      ]
    },
    {
      "cell_type": "code",
      "metadata": {
        "colab": {
          "base_uri": "https://localhost:8080/"
        },
        "id": "beJ2x-1Aks9v",
        "outputId": "6f53ad46-e087-4935-d6ed-5919ffcb9580"
      },
      "source": [
        "\"Very interesting sentence\".split()"
      ],
      "execution_count": 36,
      "outputs": [
        {
          "output_type": "execute_result",
          "data": {
            "text/plain": [
              "['Very', 'interesting', 'sentence']"
            ]
          },
          "metadata": {
            "tags": []
          },
          "execution_count": 36
        }
      ]
    },
    {
      "cell_type": "code",
      "metadata": {
        "colab": {
          "base_uri": "https://localhost:8080/",
          "height": 35
        },
        "id": "5WvcT7TCks9v",
        "outputId": "ae1057eb-bd5e-4229-d4a5-8596e057cd18"
      },
      "source": [
        "\"А роза упала на лапу Азора\"[::-1]"
      ],
      "execution_count": 37,
      "outputs": [
        {
          "output_type": "execute_result",
          "data": {
            "application/vnd.google.colaboratory.intrinsic+json": {
              "type": "string"
            },
            "text/plain": [
              "'арозА упал ан алапу азор А'"
            ]
          },
          "metadata": {
            "tags": []
          },
          "execution_count": 37
        }
      ]
    },
    {
      "cell_type": "code",
      "metadata": {
        "colab": {
          "base_uri": "https://localhost:8080/"
        },
        "id": "eMl6jD09ks9v",
        "outputId": "661f43f7-99e5-458c-b209-031a89a42a47"
      },
      "source": [
        "\"words This text contains words\".find('word')"
      ],
      "execution_count": 38,
      "outputs": [
        {
          "output_type": "execute_result",
          "data": {
            "text/plain": [
              "0"
            ]
          },
          "metadata": {
            "tags": []
          },
          "execution_count": 38
        }
      ]
    },
    {
      "cell_type": "code",
      "metadata": {
        "colab": {
          "base_uri": "https://localhost:8080/"
        },
        "id": "c7qmsgPvks9v",
        "outputId": "bba35358-a1ca-4e6f-edfb-2f08ceb6ebe3"
      },
      "source": [
        "\"words This text contains words\".rfind('s')"
      ],
      "execution_count": 39,
      "outputs": [
        {
          "output_type": "execute_result",
          "data": {
            "text/plain": [
              "29"
            ]
          },
          "metadata": {
            "tags": []
          },
          "execution_count": 39
        }
      ]
    },
    {
      "cell_type": "code",
      "metadata": {
        "colab": {
          "base_uri": "https://localhost:8080/",
          "height": 35
        },
        "id": "UBnKpVaiks9w",
        "outputId": "54ef4e84-4ba3-4bb7-d28c-ad27903de7e2"
      },
      "source": [
        "\"a, b, c\".replace(',', '')"
      ],
      "execution_count": 40,
      "outputs": [
        {
          "output_type": "execute_result",
          "data": {
            "application/vnd.google.colaboratory.intrinsic+json": {
              "type": "string"
            },
            "text/plain": [
              "'a b c'"
            ]
          },
          "metadata": {
            "tags": []
          },
          "execution_count": 40
        }
      ]
    },
    {
      "cell_type": "code",
      "metadata": {
        "colab": {
          "base_uri": "https://localhost:8080/"
        },
        "id": "nz7YQT-Uks9w",
        "outputId": "4857f2c3-e14e-4b09-cde0-4279263c41bd"
      },
      "source": [
        "ord('a'), ord('z'), ord('A'), ord('Z')"
      ],
      "execution_count": 41,
      "outputs": [
        {
          "output_type": "execute_result",
          "data": {
            "text/plain": [
              "(97, 122, 65, 90)"
            ]
          },
          "metadata": {
            "tags": []
          },
          "execution_count": 41
        }
      ]
    },
    {
      "cell_type": "code",
      "metadata": {
        "colab": {
          "base_uri": "https://localhost:8080/"
        },
        "id": "DqUQ0i0Fks9w",
        "outputId": "d8e1c38c-47fb-429d-de64-130121f8dd01"
      },
      "source": [
        "chr(5), chr(70)"
      ],
      "execution_count": 42,
      "outputs": [
        {
          "output_type": "execute_result",
          "data": {
            "text/plain": [
              "('\\x05', 'F')"
            ]
          },
          "metadata": {
            "tags": []
          },
          "execution_count": 42
        }
      ]
    },
    {
      "cell_type": "markdown",
      "metadata": {
        "id": "Cq8hjDiaks9w"
      },
      "source": [
        "#### Форматирование строк"
      ]
    },
    {
      "cell_type": "code",
      "metadata": {
        "colab": {
          "base_uri": "https://localhost:8080/"
        },
        "id": "xY05tKt5ks9w",
        "outputId": "1ab14bc4-4723-4eb3-c058-8442c36f533a"
      },
      "source": [
        "a, b = 1, 2\n",
        "print(\"a={}, b={}\".format(a, b))"
      ],
      "execution_count": 43,
      "outputs": [
        {
          "output_type": "stream",
          "text": [
            "a=1, b=2\n"
          ],
          "name": "stdout"
        }
      ]
    },
    {
      "cell_type": "code",
      "metadata": {
        "colab": {
          "base_uri": "https://localhost:8080/"
        },
        "id": "EPVb1d0Gks9x",
        "outputId": "a2f24714-f052-4cc8-a45d-80d827cf4c2b"
      },
      "source": [
        "a, b = 1, 2\n",
        "print(\"a={:.2f}, b={:.5f}\".format(a, b))"
      ],
      "execution_count": 44,
      "outputs": [
        {
          "output_type": "stream",
          "text": [
            "a=1.00, b=2.00000\n"
          ],
          "name": "stdout"
        }
      ]
    },
    {
      "cell_type": "code",
      "metadata": {
        "colab": {
          "base_uri": "https://localhost:8080/"
        },
        "id": "ueA_3GWGks9x",
        "outputId": "feec25d8-d4e0-4dfc-da3d-6485609d6f1f"
      },
      "source": [
        "x = 1234567\n",
        "print('{0:,}'.format(x))"
      ],
      "execution_count": 45,
      "outputs": [
        {
          "output_type": "stream",
          "text": [
            "1,234,567\n"
          ],
          "name": "stdout"
        }
      ]
    },
    {
      "cell_type": "code",
      "metadata": {
        "colab": {
          "base_uri": "https://localhost:8080/"
        },
        "id": "ggSrN9u1ks9x",
        "outputId": "709d7d3d-d360-4146-87cf-ee9409fe9ef5"
      },
      "source": [
        "x = 1234567\n",
        "print('{0:,}'.format(x).replace(',', ' '))"
      ],
      "execution_count": 46,
      "outputs": [
        {
          "output_type": "stream",
          "text": [
            "1 234 567\n"
          ],
          "name": "stdout"
        }
      ]
    },
    {
      "cell_type": "markdown",
      "metadata": {
        "id": "PdegqR8-ks9x"
      },
      "source": [
        "<a href='#content'>Назад к Оглавлению</a>"
      ]
    },
    {
      "cell_type": "markdown",
      "metadata": {
        "id": "B6sFV2caks9x"
      },
      "source": [
        "## Списки <a name='lists'></a>"
      ]
    },
    {
      "cell_type": "code",
      "metadata": {
        "colab": {
          "base_uri": "https://localhost:8080/"
        },
        "id": "fFkTQXGUks9x",
        "outputId": "06c68e3a-e129-4791-fd07-594be3eb53a9"
      },
      "source": [
        "a = [1, 2, 3]\n",
        "print(a)\n",
        "print(a[0])\n",
        "print(a[-1])"
      ],
      "execution_count": 47,
      "outputs": [
        {
          "output_type": "stream",
          "text": [
            "[1, 2, 3]\n",
            "1\n",
            "3\n"
          ],
          "name": "stdout"
        }
      ]
    },
    {
      "cell_type": "code",
      "metadata": {
        "colab": {
          "base_uri": "https://localhost:8080/"
        },
        "id": "j4Xs2Jfxks9y",
        "outputId": "aed0cb3b-026b-45a3-8eaa-5923b9998013"
      },
      "source": [
        "a = list(range(10))\n",
        "print(a)"
      ],
      "execution_count": 48,
      "outputs": [
        {
          "output_type": "stream",
          "text": [
            "[0, 1, 2, 3, 4, 5, 6, 7, 8, 9]\n"
          ],
          "name": "stdout"
        }
      ]
    },
    {
      "cell_type": "code",
      "metadata": {
        "colab": {
          "base_uri": "https://localhost:8080/"
        },
        "id": "CHPI2KDqks9z",
        "outputId": "c39718b4-4b03-48da-c3ac-237ba7e456f8"
      },
      "source": [
        "a = [i**2 for i in range(1,11)]\n",
        "print(a)"
      ],
      "execution_count": 49,
      "outputs": [
        {
          "output_type": "stream",
          "text": [
            "[1, 4, 9, 16, 25, 36, 49, 64, 81, 100]\n"
          ],
          "name": "stdout"
        }
      ]
    },
    {
      "cell_type": "code",
      "metadata": {
        "colab": {
          "base_uri": "https://localhost:8080/"
        },
        "id": "TBEpnE_hks9z",
        "outputId": "51192379-cb30-4903-afb1-e85deae4f9eb"
      },
      "source": [
        "a[:2]"
      ],
      "execution_count": 50,
      "outputs": [
        {
          "output_type": "execute_result",
          "data": {
            "text/plain": [
              "[1, 4]"
            ]
          },
          "metadata": {
            "tags": []
          },
          "execution_count": 50
        }
      ]
    },
    {
      "cell_type": "code",
      "metadata": {
        "colab": {
          "base_uri": "https://localhost:8080/"
        },
        "id": "Tj16MB2kks9z",
        "outputId": "9d5e3d5d-91ba-4dd7-f176-f9f8f16db0fe"
      },
      "source": [
        "a[-2:]"
      ],
      "execution_count": 51,
      "outputs": [
        {
          "output_type": "execute_result",
          "data": {
            "text/plain": [
              "[81, 100]"
            ]
          },
          "metadata": {
            "tags": []
          },
          "execution_count": 51
        }
      ]
    },
    {
      "cell_type": "code",
      "metadata": {
        "colab": {
          "base_uri": "https://localhost:8080/"
        },
        "id": "neFIdUw9ks9z",
        "outputId": "2d98858b-a5e3-4932-a03a-c49196c68195"
      },
      "source": [
        "a"
      ],
      "execution_count": 52,
      "outputs": [
        {
          "output_type": "execute_result",
          "data": {
            "text/plain": [
              "[1, 4, 9, 16, 25, 36, 49, 64, 81, 100]"
            ]
          },
          "metadata": {
            "tags": []
          },
          "execution_count": 52
        }
      ]
    },
    {
      "cell_type": "code",
      "metadata": {
        "colab": {
          "base_uri": "https://localhost:8080/"
        },
        "id": "L9lIt-3oks9z",
        "outputId": "cba2fcb1-643f-4391-dae7-adb2019976be"
      },
      "source": [
        "a[::2]"
      ],
      "execution_count": 53,
      "outputs": [
        {
          "output_type": "execute_result",
          "data": {
            "text/plain": [
              "[1, 9, 25, 49, 81]"
            ]
          },
          "metadata": {
            "tags": []
          },
          "execution_count": 53
        }
      ]
    },
    {
      "cell_type": "code",
      "metadata": {
        "colab": {
          "base_uri": "https://localhost:8080/"
        },
        "id": "pO0a9yLwks90",
        "outputId": "5413e39e-4cd2-47cf-cb5f-370d70769949"
      },
      "source": [
        "a[::-1]"
      ],
      "execution_count": 54,
      "outputs": [
        {
          "output_type": "execute_result",
          "data": {
            "text/plain": [
              "[100, 81, 64, 49, 36, 25, 16, 9, 4, 1]"
            ]
          },
          "metadata": {
            "tags": []
          },
          "execution_count": 54
        }
      ]
    },
    {
      "cell_type": "code",
      "metadata": {
        "colab": {
          "base_uri": "https://localhost:8080/"
        },
        "id": "As_vkqrsks91",
        "outputId": "ec3307c5-4208-4c4f-fae9-5757dfbb7ec5"
      },
      "source": [
        "print(a)\n",
        "print(*a)\n",
        "print(*a, sep=\":\")"
      ],
      "execution_count": 55,
      "outputs": [
        {
          "output_type": "stream",
          "text": [
            "[1, 4, 9, 16, 25, 36, 49, 64, 81, 100]\n",
            "1 4 9 16 25 36 49 64 81 100\n",
            "1:4:9:16:25:36:49:64:81:100\n"
          ],
          "name": "stdout"
        }
      ]
    },
    {
      "cell_type": "code",
      "metadata": {
        "colab": {
          "base_uri": "https://localhost:8080/"
        },
        "id": "tJb2D1Yyks91",
        "outputId": "15f86995-811f-4fac-e8b9-749212114efe"
      },
      "source": [
        "a = [1,4,2,5,3,6]\n",
        "print(sorted(a))"
      ],
      "execution_count": 56,
      "outputs": [
        {
          "output_type": "stream",
          "text": [
            "[1, 2, 3, 4, 5, 6]\n"
          ],
          "name": "stdout"
        }
      ]
    },
    {
      "cell_type": "code",
      "metadata": {
        "colab": {
          "base_uri": "https://localhost:8080/"
        },
        "id": "r-vOL_1fks91",
        "outputId": "beae9fcb-25a6-473c-ef18-512e980e202a"
      },
      "source": [
        "print(max(a), min(a), sum(a), len(a))"
      ],
      "execution_count": 57,
      "outputs": [
        {
          "output_type": "stream",
          "text": [
            "6 1 21 6\n"
          ],
          "name": "stdout"
        }
      ]
    },
    {
      "cell_type": "markdown",
      "metadata": {
        "id": "dcw_n3tGks91"
      },
      "source": [
        "#### Добавление элемента в список"
      ]
    },
    {
      "cell_type": "code",
      "metadata": {
        "colab": {
          "base_uri": "https://localhost:8080/"
        },
        "id": "M_EMRoFxks91",
        "outputId": "36e9a41e-4073-445d-d789-ea1a51879483"
      },
      "source": [
        "a = [1, 2, 3, 4, 5]\n",
        "print(a)\n",
        "a.append(6)\n",
        "print(a)"
      ],
      "execution_count": 58,
      "outputs": [
        {
          "output_type": "stream",
          "text": [
            "[1, 2, 3, 4, 5]\n",
            "[1, 2, 3, 4, 5, 6]\n"
          ],
          "name": "stdout"
        }
      ]
    },
    {
      "cell_type": "markdown",
      "metadata": {
        "id": "oVHIonHDks91"
      },
      "source": [
        "#### Удаление элемента из списка"
      ]
    },
    {
      "cell_type": "code",
      "metadata": {
        "colab": {
          "base_uri": "https://localhost:8080/"
        },
        "id": "1EIvQCjSks92",
        "outputId": "b0f17f71-4c2e-47a6-9237-8bcf9af799b6"
      },
      "source": [
        "a = [1, 2, 3, 4, 5]\n",
        "print(a)\n",
        "del(a[1])\n",
        "print(a)"
      ],
      "execution_count": 59,
      "outputs": [
        {
          "output_type": "stream",
          "text": [
            "[1, 2, 3, 4, 5]\n",
            "[1, 3, 4, 5]\n"
          ],
          "name": "stdout"
        }
      ]
    },
    {
      "cell_type": "markdown",
      "metadata": {
        "id": "QiUsz2sHks92"
      },
      "source": [
        "#### Многомерные списки"
      ]
    },
    {
      "cell_type": "code",
      "metadata": {
        "colab": {
          "base_uri": "https://localhost:8080/"
        },
        "id": "hfilnmM5ks92",
        "outputId": "f04258b5-da6a-4807-a7b0-54d9ed3472ce"
      },
      "source": [
        "a = [[1,2], [3,4]]\n",
        "print(a)\n",
        "print(a[0][0])"
      ],
      "execution_count": 60,
      "outputs": [
        {
          "output_type": "stream",
          "text": [
            "[[1, 2], [3, 4]]\n",
            "1\n"
          ],
          "name": "stdout"
        }
      ]
    },
    {
      "cell_type": "code",
      "metadata": {
        "colab": {
          "base_uri": "https://localhost:8080/"
        },
        "id": "8odwVdrrks92",
        "outputId": "b0723ad9-e8bc-4db7-c6a7-a1c9112408a4"
      },
      "source": [
        "a = [[i+j for i in range(5)] for j in range(6)]\n",
        "print(a)"
      ],
      "execution_count": 61,
      "outputs": [
        {
          "output_type": "stream",
          "text": [
            "[[0, 1, 2, 3, 4], [1, 2, 3, 4, 5], [2, 3, 4, 5, 6], [3, 4, 5, 6, 7], [4, 5, 6, 7, 8], [5, 6, 7, 8, 9]]\n"
          ],
          "name": "stdout"
        }
      ]
    },
    {
      "cell_type": "code",
      "metadata": {
        "colab": {
          "base_uri": "https://localhost:8080/"
        },
        "id": "aUz7MKbqks93",
        "outputId": "ef30d6f0-5c9c-41a8-ef68-01423e1ce976"
      },
      "source": [
        "for i in range(6):\n",
        "    for j in range(5):\n",
        "        print(a[i][j], end=\" \")\n",
        "    print()"
      ],
      "execution_count": 62,
      "outputs": [
        {
          "output_type": "stream",
          "text": [
            "0 1 2 3 4 \n",
            "1 2 3 4 5 \n",
            "2 3 4 5 6 \n",
            "3 4 5 6 7 \n",
            "4 5 6 7 8 \n",
            "5 6 7 8 9 \n"
          ],
          "name": "stdout"
        }
      ]
    },
    {
      "cell_type": "code",
      "metadata": {
        "colab": {
          "base_uri": "https://localhost:8080/"
        },
        "id": "Rtd-QfsGks93",
        "outputId": "80b4c937-634f-4924-bf9b-d0e8d3e7ab00"
      },
      "source": [
        "len(a), len(a[0])"
      ],
      "execution_count": 63,
      "outputs": [
        {
          "output_type": "execute_result",
          "data": {
            "text/plain": [
              "(6, 5)"
            ]
          },
          "metadata": {
            "tags": []
          },
          "execution_count": 63
        }
      ]
    },
    {
      "cell_type": "markdown",
      "metadata": {
        "id": "jaS-v0rRks93"
      },
      "source": [
        "<a href='#content'>Назад к Оглавлению</a>"
      ]
    },
    {
      "cell_type": "markdown",
      "metadata": {
        "id": "UIcKbAi7ks94"
      },
      "source": [
        "## Кортежи (иммутабельные списки, tuples) <a name='tuples'></a>"
      ]
    },
    {
      "cell_type": "code",
      "metadata": {
        "colab": {
          "base_uri": "https://localhost:8080/"
        },
        "id": "wbOcQ6KXks94",
        "outputId": "fcf62ee1-ad91-49e4-c3c9-395f5d0657c7"
      },
      "source": [
        "a = (1, 2, 3)\n",
        "print(max(a))\n",
        "print(min(a))\n",
        "print(sum(a))\n",
        "print(len(a))\n",
        "print(a*2)"
      ],
      "execution_count": 64,
      "outputs": [
        {
          "output_type": "stream",
          "text": [
            "3\n",
            "1\n",
            "6\n",
            "3\n",
            "(1, 2, 3, 1, 2, 3)\n"
          ],
          "name": "stdout"
        }
      ]
    },
    {
      "cell_type": "code",
      "metadata": {
        "colab": {
          "base_uri": "https://localhost:8080/"
        },
        "id": "XTjv4JXUks95",
        "outputId": "1b0af4a2-bfe5-482f-9c5d-80cd0dd73b12"
      },
      "source": [
        "a = (1, 3, 4)\n",
        "print(a[1])\n",
        "try:\n",
        "    a[1]=2\n",
        "except:\n",
        "    print(\"Tuple can not be changed\")"
      ],
      "execution_count": 65,
      "outputs": [
        {
          "output_type": "stream",
          "text": [
            "3\n",
            "Tuple can not be changed\n"
          ],
          "name": "stdout"
        }
      ]
    },
    {
      "cell_type": "markdown",
      "metadata": {
        "id": "jshJNFwRks96"
      },
      "source": [
        "<a href='#content'>Назад к Оглавлению</a>"
      ]
    },
    {
      "cell_type": "markdown",
      "metadata": {
        "id": "D2nNY1MAks97"
      },
      "source": [
        "## Словари <a name='dict'></a>"
      ]
    },
    {
      "cell_type": "code",
      "metadata": {
        "id": "wDD-UayYks97"
      },
      "source": [
        "s = {\n",
        "    'Alexander': 1,\n",
        "    'Daniil': 2,\n",
        "    'Yury': 3,\n",
        "}"
      ],
      "execution_count": 66,
      "outputs": []
    },
    {
      "cell_type": "code",
      "metadata": {
        "colab": {
          "base_uri": "https://localhost:8080/"
        },
        "id": "YYuU4z3vpRQW",
        "outputId": "69123195-650d-4fc7-8094-49d6ee6cf6b5"
      },
      "source": [
        "s['Yury']"
      ],
      "execution_count": 67,
      "outputs": [
        {
          "output_type": "execute_result",
          "data": {
            "text/plain": [
              "3"
            ]
          },
          "metadata": {
            "tags": []
          },
          "execution_count": 67
        }
      ]
    },
    {
      "cell_type": "code",
      "metadata": {
        "colab": {
          "base_uri": "https://localhost:8080/"
        },
        "id": "PO3LwB6Sks97",
        "outputId": "c6ea3ed7-d98c-411c-9806-3cffc0c64b93"
      },
      "source": [
        "print(s)\n",
        "print(s.keys())\n",
        "print(s.values())\n",
        "print(s.items())"
      ],
      "execution_count": 68,
      "outputs": [
        {
          "output_type": "stream",
          "text": [
            "{'Alexander': 1, 'Daniil': 2, 'Yury': 3}\n",
            "dict_keys(['Alexander', 'Daniil', 'Yury'])\n",
            "dict_values([1, 2, 3])\n",
            "dict_items([('Alexander', 1), ('Daniil', 2), ('Yury', 3)])\n"
          ],
          "name": "stdout"
        }
      ]
    },
    {
      "cell_type": "code",
      "metadata": {
        "colab": {
          "base_uri": "https://localhost:8080/"
        },
        "id": "kq59Kr40ks98",
        "outputId": "f6b68fcc-5b57-4a5b-dd74-8066acfe302c"
      },
      "source": [
        "for i in s:\n",
        "    print(i)"
      ],
      "execution_count": 69,
      "outputs": [
        {
          "output_type": "stream",
          "text": [
            "Alexander\n",
            "Daniil\n",
            "Yury\n"
          ],
          "name": "stdout"
        }
      ]
    },
    {
      "cell_type": "code",
      "metadata": {
        "id": "ZHuAXg2Cks98"
      },
      "source": [
        "s['Polina'] = 4"
      ],
      "execution_count": 70,
      "outputs": []
    },
    {
      "cell_type": "code",
      "metadata": {
        "colab": {
          "base_uri": "https://localhost:8080/"
        },
        "id": "55Eaf4iMks99",
        "outputId": "794092ca-b193-44d2-fcdd-5a93dbfe5279"
      },
      "source": [
        "for i in s.items():\n",
        "    print(i)"
      ],
      "execution_count": 71,
      "outputs": [
        {
          "output_type": "stream",
          "text": [
            "('Alexander', 1)\n",
            "('Daniil', 2)\n",
            "('Yury', 3)\n",
            "('Polina', 4)\n"
          ],
          "name": "stdout"
        }
      ]
    },
    {
      "cell_type": "markdown",
      "metadata": {
        "id": "aMBX4CQgks99"
      },
      "source": [
        "Сортировка словаря по значениям"
      ]
    },
    {
      "cell_type": "code",
      "metadata": {
        "colab": {
          "base_uri": "https://localhost:8080/"
        },
        "id": "x6SjYXwNks9-",
        "outputId": "e02953e1-494c-4d4b-f7e7-5d57ee135f92"
      },
      "source": [
        "s1 = sorted(s.items(), key=lambda x: x[1], reverse=True)\n",
        "print(s1)"
      ],
      "execution_count": 72,
      "outputs": [
        {
          "output_type": "stream",
          "text": [
            "[('Polina', 4), ('Yury', 3), ('Daniil', 2), ('Alexander', 1)]\n"
          ],
          "name": "stdout"
        }
      ]
    },
    {
      "cell_type": "markdown",
      "metadata": {
        "id": "N-ajE5kOks9-"
      },
      "source": [
        "<a href='#content'>Назад к Оглавлению</a>"
      ]
    },
    {
      "cell_type": "markdown",
      "metadata": {
        "id": "Z2WTJvAyks-D"
      },
      "source": [
        "## Множества <a name='sets'></a>"
      ]
    },
    {
      "cell_type": "markdown",
      "metadata": {
        "id": "jjf4xZKOks-D"
      },
      "source": [
        "#### Создание множества"
      ]
    },
    {
      "cell_type": "code",
      "metadata": {
        "id": "ysj0gdkrks-D"
      },
      "source": [
        "s1 = set([1, 2, 3, 4])\n",
        "s2 = {4, 5, 6, 7}\n",
        "s3 = {i**2 for i in range(1,11)}\n",
        "text = \"word1 word2 word3 word1 word2 word4 word2\"\n",
        "s4 = {i for i in text.split()}\n",
        "s5 = {1, 'one', (1,2,3)}\n",
        "s6 = set() # создание пустого множества. s6 = {} - создает словарь (не множество)\n"
      ],
      "execution_count": 73,
      "outputs": []
    },
    {
      "cell_type": "markdown",
      "metadata": {
        "id": "41Yspb2-ks-D"
      },
      "source": [
        "#### Добавление и удаление элементов"
      ]
    },
    {
      "cell_type": "code",
      "metadata": {
        "colab": {
          "base_uri": "https://localhost:8080/"
        },
        "id": "-RDW7HSWks-E",
        "outputId": "2dacc8b8-c5ec-445c-ad92-f386c7b6d3ea"
      },
      "source": [
        "print(s1)\n",
        "s1.add(10)\n",
        "print(s1)\n",
        "s1.discard(1)\n",
        "print(s1)"
      ],
      "execution_count": 74,
      "outputs": [
        {
          "output_type": "stream",
          "text": [
            "{1, 2, 3, 4}\n",
            "{1, 2, 3, 4, 10}\n",
            "{2, 3, 4, 10}\n"
          ],
          "name": "stdout"
        }
      ]
    },
    {
      "cell_type": "code",
      "metadata": {
        "colab": {
          "base_uri": "https://localhost:8080/"
        },
        "id": "4FUewh9oks-E",
        "outputId": "731a76e5-a25f-438c-f587-45aa12f4734d"
      },
      "source": [
        "v = s1.pop()\n",
        "print(v)\n",
        "print(s1)"
      ],
      "execution_count": 75,
      "outputs": [
        {
          "output_type": "stream",
          "text": [
            "2\n",
            "{3, 4, 10}\n"
          ],
          "name": "stdout"
        }
      ]
    },
    {
      "cell_type": "code",
      "metadata": {
        "scrolled": false,
        "colab": {
          "base_uri": "https://localhost:8080/"
        },
        "id": "-f_TPhCrks-E",
        "outputId": "4016e95d-2cfd-4217-99e3-f14c29bc736f"
      },
      "source": [
        "print(s2)\n",
        "s2.clear()\n",
        "print(s2)"
      ],
      "execution_count": 76,
      "outputs": [
        {
          "output_type": "stream",
          "text": [
            "{4, 5, 6, 7}\n",
            "set()\n"
          ],
          "name": "stdout"
        }
      ]
    },
    {
      "cell_type": "markdown",
      "metadata": {
        "id": "4nh51SF1ks-F"
      },
      "source": [
        "#### Операции над множествами"
      ]
    },
    {
      "cell_type": "code",
      "metadata": {
        "colab": {
          "base_uri": "https://localhost:8080/"
        },
        "id": "VemvoDdZks-F",
        "outputId": "23cbe825-b9dd-4cce-cf26-c739c158598b"
      },
      "source": [
        "s1 = set(['a', 'b', 'c'])\n",
        "s2 = set(['d', 'e', 'f'])\n",
        "print(s1)\n",
        "print(s2)\n",
        "print()\n",
        "print(s1 & s2)\n",
        "print(s1 | s2)\n",
        "print(s1 - s2)\n",
        "print()\n",
        "print(type(s1), \"has methods \", end=\": \")\n",
        "for elem in dir(s1):\n",
        "    if elem.find('__')==-1:\n",
        "        print(elem, end=\", \")"
      ],
      "execution_count": 77,
      "outputs": [
        {
          "output_type": "stream",
          "text": [
            "{'c', 'b', 'a'}\n",
            "{'e', 'f', 'd'}\n",
            "\n",
            "set()\n",
            "{'b', 'e', 'c', 'a', 'f', 'd'}\n",
            "{'c', 'b', 'a'}\n",
            "\n",
            "<class 'set'> has methods : add, clear, copy, difference, difference_update, discard, intersection, intersection_update, isdisjoint, issubset, issuperset, pop, remove, symmetric_difference, symmetric_difference_update, union, update, "
          ],
          "name": "stdout"
        }
      ]
    },
    {
      "cell_type": "code",
      "metadata": {
        "colab": {
          "base_uri": "https://localhost:8080/"
        },
        "id": "leTC6o44ks-F",
        "outputId": "45db6e14-a335-4781-eafe-6fa7203e7dc9"
      },
      "source": [
        "s1.union(s2)"
      ],
      "execution_count": 78,
      "outputs": [
        {
          "output_type": "execute_result",
          "data": {
            "text/plain": [
              "{'a', 'b', 'c', 'd', 'e', 'f'}"
            ]
          },
          "metadata": {
            "tags": []
          },
          "execution_count": 78
        }
      ]
    },
    {
      "cell_type": "code",
      "metadata": {
        "colab": {
          "base_uri": "https://localhost:8080/"
        },
        "id": "TlX07F6wks-F",
        "outputId": "764d0a3d-9e8c-4fb8-81e7-4cdd5e9fbc39"
      },
      "source": [
        "s1.difference(s2)"
      ],
      "execution_count": 79,
      "outputs": [
        {
          "output_type": "execute_result",
          "data": {
            "text/plain": [
              "{'a', 'b', 'c'}"
            ]
          },
          "metadata": {
            "tags": []
          },
          "execution_count": 79
        }
      ]
    },
    {
      "cell_type": "code",
      "metadata": {
        "colab": {
          "base_uri": "https://localhost:8080/"
        },
        "id": "evyP4RFjks-H",
        "outputId": "cd7f42cb-5a4f-411f-ae7f-1cb34139616f"
      },
      "source": [
        "print(s3)\n",
        "print(set([1,4,9]).issubset(s3))\n",
        "print(s3.issuperset({16, 49}))"
      ],
      "execution_count": 80,
      "outputs": [
        {
          "output_type": "stream",
          "text": [
            "{64, 1, 4, 36, 100, 9, 16, 49, 81, 25}\n",
            "True\n",
            "True\n"
          ],
          "name": "stdout"
        }
      ]
    },
    {
      "cell_type": "markdown",
      "metadata": {
        "id": "3pL5SnYzks-J"
      },
      "source": [
        "#### Копирование множества"
      ]
    },
    {
      "cell_type": "code",
      "metadata": {
        "colab": {
          "base_uri": "https://localhost:8080/"
        },
        "id": "ZHmfTahMks-J",
        "outputId": "6fe45bc0-3f2c-41f1-a17b-14717046e1b5"
      },
      "source": [
        "print(s5)\n",
        "s = s5.copy()\n",
        "print(s)\n",
        "s.pop()\n",
        "print(s,s5)"
      ],
      "execution_count": 81,
      "outputs": [
        {
          "output_type": "stream",
          "text": [
            "{1, 'one', (1, 2, 3)}\n",
            "{1, 'one', (1, 2, 3)}\n",
            "{'one', (1, 2, 3)} {1, 'one', (1, 2, 3)}\n"
          ],
          "name": "stdout"
        }
      ]
    },
    {
      "cell_type": "markdown",
      "metadata": {
        "id": "fDOvEOebks-K"
      },
      "source": [
        "<a href='#content'>Назад к Оглавлению</a>"
      ]
    },
    {
      "cell_type": "markdown",
      "metadata": {
        "id": "dntybEYGks-K"
      },
      "source": [
        "## Функции <a name='fs'></a>"
      ]
    },
    {
      "cell_type": "markdown",
      "metadata": {
        "id": "XfQld0iUks-L"
      },
      "source": [
        "#### Определение функции"
      ]
    },
    {
      "cell_type": "code",
      "metadata": {
        "colab": {
          "base_uri": "https://localhost:8080/"
        },
        "id": "nUOAU4tbks-L",
        "outputId": "cccb1a3b-8e25-42a8-faea-a422e260a62b"
      },
      "source": [
        "def fSquare(x):\n",
        "    return x**2\n",
        "print(fSquare(10))\n",
        "print([fSquare(i) for i in range(11)])\n",
        "print(type(fSquare))"
      ],
      "execution_count": 82,
      "outputs": [
        {
          "output_type": "stream",
          "text": [
            "100\n",
            "[0, 1, 4, 9, 16, 25, 36, 49, 64, 81, 100]\n",
            "<class 'function'>\n"
          ],
          "name": "stdout"
        }
      ]
    },
    {
      "cell_type": "markdown",
      "metadata": {
        "id": "ARDujtJEks-L"
      },
      "source": [
        "#### Параметры функции"
      ]
    },
    {
      "cell_type": "code",
      "metadata": {
        "colab": {
          "base_uri": "https://localhost:8080/"
        },
        "id": "6yjO4Efuks-L",
        "outputId": "f3d875ce-08b2-4be7-c924-8bf4ba83f199"
      },
      "source": [
        "def f(a, b=0):\n",
        "    print(\"a={}, b={}\".format(a, b))\n",
        "f(1, 2)\n",
        "f(3)"
      ],
      "execution_count": 83,
      "outputs": [
        {
          "output_type": "stream",
          "text": [
            "a=1, b=2\n",
            "a=3, b=0\n"
          ],
          "name": "stdout"
        }
      ]
    },
    {
      "cell_type": "markdown",
      "metadata": {
        "id": "vfXIZAGhks-M"
      },
      "source": [
        "#### Позиционные и именованные параметры"
      ]
    },
    {
      "cell_type": "code",
      "metadata": {
        "colab": {
          "base_uri": "https://localhost:8080/"
        },
        "id": "Je3Ltw0bks-M",
        "outputId": "ef74f03b-8acc-40b4-de99-584df2d946fe"
      },
      "source": [
        "def f(*args, **kwargs):\n",
        "    for a in args:\n",
        "        print(a)\n",
        "    for a in kwargs.keys():\n",
        "        print(a)\n",
        "    for a in kwargs.values():\n",
        "        print(a)\n",
        "    for a in kwargs.items():\n",
        "        print(a)\n",
        "\n",
        "f(1,2, third=3, fourth=4)"
      ],
      "execution_count": 84,
      "outputs": [
        {
          "output_type": "stream",
          "text": [
            "1\n",
            "2\n",
            "third\n",
            "fourth\n",
            "3\n",
            "4\n",
            "('third', 3)\n",
            "('fourth', 4)\n"
          ],
          "name": "stdout"
        }
      ]
    },
    {
      "cell_type": "markdown",
      "metadata": {
        "id": "RtQdmgnAks-P"
      },
      "source": [
        "#### Функция main()"
      ]
    },
    {
      "cell_type": "code",
      "metadata": {
        "id": "DxPHAF-_ks-P"
      },
      "source": [
        "def f1():\n",
        "    print(\"is f1\")\n",
        "def f2():\n",
        "    print(\"is f2\")\n",
        "def main():\n",
        "    f1()\n",
        "    f2()"
      ],
      "execution_count": 85,
      "outputs": []
    },
    {
      "cell_type": "code",
      "metadata": {
        "colab": {
          "base_uri": "https://localhost:8080/"
        },
        "id": "8GlSKt9Xks-P",
        "outputId": "5f0e9818-6217-41a4-9059-45cb33dbf634"
      },
      "source": [
        "if __name__=='__main__':\n",
        "    main()"
      ],
      "execution_count": 86,
      "outputs": [
        {
          "output_type": "stream",
          "text": [
            "is f1\n",
            "is f2\n"
          ],
          "name": "stdout"
        }
      ]
    },
    {
      "cell_type": "markdown",
      "metadata": {
        "id": "BeArOS5xks-Y"
      },
      "source": [
        "<a href='#content'>Назад к Оглавлению</a>"
      ]
    },
    {
      "cell_type": "markdown",
      "metadata": {
        "id": "uyUGmJBJks-Y"
      },
      "source": [
        "# Операторы <a name='control'></a>"
      ]
    },
    {
      "cell_type": "markdown",
      "metadata": {
        "id": "271txPF2ks-Z"
      },
      "source": [
        "#### Оператор присваивания"
      ]
    },
    {
      "cell_type": "code",
      "metadata": {
        "colab": {
          "base_uri": "https://localhost:8080/"
        },
        "id": "oIVKP3ZEks-Z",
        "outputId": "07c02910-921c-4061-ceef-399fab461feb"
      },
      "source": [
        "a = 1\n",
        "a"
      ],
      "execution_count": 87,
      "outputs": [
        {
          "output_type": "execute_result",
          "data": {
            "text/plain": [
              "1"
            ]
          },
          "metadata": {
            "tags": []
          },
          "execution_count": 87
        }
      ]
    },
    {
      "cell_type": "code",
      "metadata": {
        "colab": {
          "base_uri": "https://localhost:8080/"
        },
        "id": "FVf2c6Z_ks-a",
        "outputId": "b37408f3-eda0-4f30-d3fd-c5b03614de9e"
      },
      "source": [
        "b = a = 2\n",
        "a, b"
      ],
      "execution_count": 88,
      "outputs": [
        {
          "output_type": "execute_result",
          "data": {
            "text/plain": [
              "(2, 2)"
            ]
          },
          "metadata": {
            "tags": []
          },
          "execution_count": 88
        }
      ]
    },
    {
      "cell_type": "code",
      "metadata": {
        "colab": {
          "base_uri": "https://localhost:8080/"
        },
        "id": "D5gHJ7mnks-a",
        "outputId": "1143c19a-45cf-449f-a148-70cf6b14cb48"
      },
      "source": [
        "b += 10\n",
        "b"
      ],
      "execution_count": 89,
      "outputs": [
        {
          "output_type": "execute_result",
          "data": {
            "text/plain": [
              "12"
            ]
          },
          "metadata": {
            "tags": []
          },
          "execution_count": 89
        }
      ]
    },
    {
      "cell_type": "markdown",
      "metadata": {
        "id": "yBi-ypWnks-b"
      },
      "source": [
        "#### Условный оператор if <a name='if'></a>"
      ]
    },
    {
      "cell_type": "code",
      "metadata": {
        "colab": {
          "base_uri": "https://localhost:8080/"
        },
        "id": "dgZj_3tZks-b",
        "outputId": "21fa218d-5b4d-4e9f-bd0e-1418117b5078"
      },
      "source": [
        "print(\"Укажите Ваш возраст:\")\n",
        "age = int(input())\n",
        "if age < 6:\n",
        "    print(\"Здравствуй, малыш\")\n",
        "elif age < 14:\n",
        "    print(\"Привет\")\n",
        "elif age < 25:\n",
        "    print(\"Добрый день\")\n",
        "elif age < 100:    \n",
        "    print(\"Здравствуйте\")\n",
        "else:    \n",
        "    print(\"Какой необычный возраст\")    "
      ],
      "execution_count": 90,
      "outputs": [
        {
          "output_type": "stream",
          "text": [
            "Укажите Ваш возраст:\n",
            "5\n",
            "Здравствуй, малыш\n"
          ],
          "name": "stdout"
        }
      ]
    },
    {
      "cell_type": "code",
      "metadata": {
        "colab": {
          "base_uri": "https://localhost:8080/"
        },
        "id": "C5q3c7nWks-b",
        "outputId": "821771da-e79f-45f3-b840-984bba3fd512"
      },
      "source": [
        "print(\"yes\") if 2==2 else print(\"no\")"
      ],
      "execution_count": 91,
      "outputs": [
        {
          "output_type": "stream",
          "text": [
            "yes\n"
          ],
          "name": "stdout"
        }
      ]
    },
    {
      "cell_type": "markdown",
      "metadata": {
        "id": "I7DdWnK1ks-c"
      },
      "source": [
        "#### Цикл while <a name='while'></a>"
      ]
    },
    {
      "cell_type": "code",
      "metadata": {
        "colab": {
          "base_uri": "https://localhost:8080/"
        },
        "id": "dR8VOC2zks-c",
        "outputId": "4b09ed89-fbb3-435b-ab1a-dea0719bb106"
      },
      "source": [
        "i, m = 0, []\n",
        "while i<5:\n",
        "    m.append(i**2)\n",
        "    i+=1\n",
        "else:\n",
        "    print(m)"
      ],
      "execution_count": 92,
      "outputs": [
        {
          "output_type": "stream",
          "text": [
            "[0, 1, 4, 9, 16]\n"
          ],
          "name": "stdout"
        }
      ]
    },
    {
      "cell_type": "markdown",
      "metadata": {
        "id": "gNibrXYnks-e"
      },
      "source": [
        "#### Цикл for <a name='for'></a>"
      ]
    },
    {
      "cell_type": "code",
      "metadata": {
        "colab": {
          "base_uri": "https://localhost:8080/"
        },
        "id": "4MvKYc2Dks-e",
        "outputId": "80cb438b-389c-45db-bae9-2a662655651f"
      },
      "source": [
        "for i in range(10):\n",
        "    print(i**2, end=\" \")"
      ],
      "execution_count": 93,
      "outputs": [
        {
          "output_type": "stream",
          "text": [
            "0 1 4 9 16 25 36 49 64 81 "
          ],
          "name": "stdout"
        }
      ]
    },
    {
      "cell_type": "code",
      "metadata": {
        "colab": {
          "base_uri": "https://localhost:8080/"
        },
        "id": "-e_4C7tz9WjL",
        "outputId": "5af6023f-0fc3-42ea-b5f0-6add6a233e19"
      },
      "source": [
        "for i in [\"один\", \"два\", \"три\"]:\n",
        "  print(i)"
      ],
      "execution_count": 94,
      "outputs": [
        {
          "output_type": "stream",
          "text": [
            "один\n",
            "два\n",
            "три\n"
          ],
          "name": "stdout"
        }
      ]
    },
    {
      "cell_type": "markdown",
      "metadata": {
        "id": "A5wJr7yGks-e"
      },
      "source": [
        "#### Обработка исключений (конструкция try-except)"
      ]
    },
    {
      "cell_type": "code",
      "metadata": {
        "colab": {
          "base_uri": "https://localhost:8080/"
        },
        "id": "r7EO2Rihks-e",
        "outputId": "45ad471f-55aa-402d-aaac-f4ad8c32ecb6"
      },
      "source": [
        "try:\n",
        "    print(1/0)\n",
        "except:\n",
        "    print(\"problem\")"
      ],
      "execution_count": 95,
      "outputs": [
        {
          "output_type": "stream",
          "text": [
            "problem\n"
          ],
          "name": "stdout"
        }
      ]
    },
    {
      "cell_type": "code",
      "metadata": {
        "colab": {
          "base_uri": "https://localhost:8080/"
        },
        "id": "2XsAH9thks-e",
        "outputId": "bd6726ba-ddb1-4127-c5db-6e06badc2c17"
      },
      "source": [
        "a = list(range(0,11))[::-1]\n",
        "print(a)"
      ],
      "execution_count": 96,
      "outputs": [
        {
          "output_type": "stream",
          "text": [
            "[10, 9, 8, 7, 6, 5, 4, 3, 2, 1, 0]\n"
          ],
          "name": "stdout"
        }
      ]
    },
    {
      "cell_type": "code",
      "metadata": {
        "colab": {
          "base_uri": "https://localhost:8080/"
        },
        "id": "CLWmDminks-e",
        "outputId": "c0fcd090-9673-44ad-8abe-c961e123a459"
      },
      "source": [
        "for d in a:\n",
        "    try:\n",
        "        print(round(10/d,2), end=\" \")\n",
        "    except ZeroDivisionError:\n",
        "        print(\"Zero Division error\")"
      ],
      "execution_count": 97,
      "outputs": [
        {
          "output_type": "stream",
          "text": [
            "1.0 1.11 1.25 1.43 1.67 2.0 2.5 3.33 5.0 10.0 Zero Division error\n"
          ],
          "name": "stdout"
        }
      ]
    },
    {
      "cell_type": "code",
      "metadata": {
        "id": "-xhVXbSyks-f"
      },
      "source": [
        "class MyException(Exception):\n",
        "    pass"
      ],
      "execution_count": 98,
      "outputs": []
    },
    {
      "cell_type": "markdown",
      "metadata": {
        "id": "tUrfCq_Rks-f"
      },
      "source": [
        "#### Проверка выполнения условия (оператор assert) <a name='assert'></a>"
      ]
    },
    {
      "cell_type": "code",
      "metadata": {
        "colab": {
          "base_uri": "https://localhost:8080/"
        },
        "id": "zpSA5zXMks-f",
        "outputId": "dece5812-a046-4eea-ddb6-ef496a32554a"
      },
      "source": [
        "for i in range(10):\n",
        "    print(i)\n",
        "    try:\n",
        "        assert(i!=5)\n",
        "    except:\n",
        "        print(\"Проблема\")"
      ],
      "execution_count": 99,
      "outputs": [
        {
          "output_type": "stream",
          "text": [
            "0\n",
            "1\n",
            "2\n",
            "3\n",
            "4\n",
            "5\n",
            "Проблема\n",
            "6\n",
            "7\n",
            "8\n",
            "9\n"
          ],
          "name": "stdout"
        }
      ]
    },
    {
      "cell_type": "markdown",
      "metadata": {
        "id": "B9GaExJXks-f"
      },
      "source": [
        "<a href='#content'>Назад к Оглавлению</a>"
      ]
    },
    {
      "cell_type": "markdown",
      "metadata": {
        "id": "dXOTs4zTks-f"
      },
      "source": [
        "## Ввод и вывод данных <a name='io'></a>"
      ]
    },
    {
      "cell_type": "markdown",
      "metadata": {
        "id": "0aY2OODDks-f"
      },
      "source": [
        "#### Работа с консолью"
      ]
    },
    {
      "cell_type": "code",
      "metadata": {
        "colab": {
          "base_uri": "https://localhost:8080/"
        },
        "id": "5M1R0zxOks-f",
        "outputId": "2b6aacde-d42a-4e3a-9cb5-fe61a0ce1fb9"
      },
      "source": [
        "print(\"{:.4f}\".format(1.111))"
      ],
      "execution_count": 100,
      "outputs": [
        {
          "output_type": "stream",
          "text": [
            "1.1110\n"
          ],
          "name": "stdout"
        }
      ]
    },
    {
      "cell_type": "code",
      "metadata": {
        "colab": {
          "base_uri": "https://localhost:8080/"
        },
        "id": "WZTwVtoxks-g",
        "outputId": "ec24036f-abc7-4a3b-c088-7d3133ce1160"
      },
      "source": [
        "a = \"\\'text\\'\"\n",
        "print(a)\n",
        "print(\"--{}--\".format(a))\n",
        "print(\"--{!r}--\".format(a))"
      ],
      "execution_count": 101,
      "outputs": [
        {
          "output_type": "stream",
          "text": [
            "'text'\n",
            "--'text'--\n",
            "--\"'text'\"--\n"
          ],
          "name": "stdout"
        }
      ]
    },
    {
      "cell_type": "markdown",
      "metadata": {
        "id": "R5eQQ4vAks-g"
      },
      "source": [
        "#### Запись в файл"
      ]
    },
    {
      "cell_type": "code",
      "metadata": {
        "id": "NFmr1txqks-h"
      },
      "source": [
        "with open('a.out', 'w') as f:\n",
        "    f.write(\"hello\")\n",
        "f.close()"
      ],
      "execution_count": 102,
      "outputs": []
    },
    {
      "cell_type": "markdown",
      "metadata": {
        "id": "ATdwwhq7ks-h"
      },
      "source": [
        "#### Чтение из файла"
      ]
    },
    {
      "cell_type": "code",
      "metadata": {
        "colab": {
          "base_uri": "https://localhost:8080/"
        },
        "id": "Dlg3VMViks-h",
        "outputId": "8109ba7d-6e46-4c59-f1e7-1d3d6b5242ad"
      },
      "source": [
        "with open('a.out', 'r') as f:\n",
        "    print(f.read())\n",
        "f.close()"
      ],
      "execution_count": 103,
      "outputs": [
        {
          "output_type": "stream",
          "text": [
            "hello\n"
          ],
          "name": "stdout"
        }
      ]
    },
    {
      "cell_type": "markdown",
      "metadata": {
        "id": "FQ4sKhzWks-i"
      },
      "source": [
        "# Объектно-ориентированное программирование <a name='oop'></a>"
      ]
    },
    {
      "cell_type": "markdown",
      "metadata": {
        "id": "DMg1_22lks-j"
      },
      "source": [
        "#### Описание классов"
      ]
    },
    {
      "cell_type": "code",
      "metadata": {
        "id": "758Juuxkks-j"
      },
      "source": [
        "class A():\n",
        "    def __init__(self, name, number):\n",
        "        self.name = name\n",
        "        self.number = number\n",
        "        self.skill = 0\n",
        "    def __str__(self):\n",
        "        return(\"I am \\\"{}\\\", my number is: {}, skill is {}\".format(self.name, self.number, self.skill))\n",
        "    def setSkill(self, skill):\n",
        "        self.skill = skill\n",
        "    def speak(self, phrase):\n",
        "        print(\"I am \\\"{}\\\", and I want to tell you \\\"{}\\\"\".format(self.name, phrase))"
      ],
      "execution_count": 104,
      "outputs": []
    },
    {
      "cell_type": "code",
      "metadata": {
        "colab": {
          "base_uri": "https://localhost:8080/"
        },
        "id": "pOeVlJ87ks-j",
        "outputId": "82d31113-32f5-4366-8959-d79bb74b66f5"
      },
      "source": [
        "a = A('Ivan',1)\n",
        "print(a)"
      ],
      "execution_count": 105,
      "outputs": [
        {
          "output_type": "stream",
          "text": [
            "I am \"Ivan\", my number is: 1, skill is 0\n"
          ],
          "name": "stdout"
        }
      ]
    },
    {
      "cell_type": "markdown",
      "metadata": {
        "id": "7_f_wYs4ks-5"
      },
      "source": [
        "# Магические команды <a name='magic'></a>"
      ]
    },
    {
      "cell_type": "markdown",
      "metadata": {
        "id": "Pu3w0bK2ks-6"
      },
      "source": [
        "Команды, привязанные к строке, начинаются с %. Команды, привязанные к ячейке, начинаются с %%."
      ]
    },
    {
      "cell_type": "markdown",
      "metadata": {
        "id": "fA7oQqh6ks-6"
      },
      "source": [
        "#### Список всех магических команд"
      ]
    },
    {
      "cell_type": "code",
      "metadata": {
        "colab": {
          "base_uri": "https://localhost:8080/",
          "height": 161
        },
        "id": "GvDF-yBCks-6",
        "outputId": "eebe853b-e793-43d8-90d3-cff259b8297c"
      },
      "source": [
        "%lsmagic"
      ],
      "execution_count": 106,
      "outputs": [
        {
          "output_type": "execute_result",
          "data": {
            "application/json": {
              "cell": {
                "prun": "ExecutionMagics",
                "file": "Other",
                "!": "OSMagics",
                "capture": "ExecutionMagics",
                "timeit": "ExecutionMagics",
                "script": "ScriptMagics",
                "pypy": "Other",
                "system": "OSMagics",
                "perl": "Other",
                "html": "DisplayMagics",
                "bash": "Other",
                "shell": "Other",
                "HTML": "Other",
                "python": "Other",
                "SVG": "Other",
                "javascript": "DisplayMagics",
                "bigquery": "Other",
                "js": "DisplayMagics",
                "writefile": "OSMagics",
                "ruby": "Other",
                "python3": "Other",
                "python2": "Other",
                "latex": "DisplayMagics",
                "sx": "OSMagics",
                "svg": "DisplayMagics",
                "sh": "Other",
                "time": "ExecutionMagics",
                "debug": "ExecutionMagics"
              },
              "line": {
                "psource": "NamespaceMagics",
                "logstart": "LoggingMagics",
                "popd": "OSMagics",
                "tensorflow_version": "Other",
                "loadpy": "CodeMagics",
                "colors": "BasicMagics",
                "who_ls": "NamespaceMagics",
                "lf": "Other",
                "ll": "Other",
                "pprint": "BasicMagics",
                "lk": "Other",
                "ls": "Other",
                "save": "CodeMagics",
                "tb": "ExecutionMagics",
                "lx": "Other",
                "pylab": "PylabMagics",
                "killbgscripts": "ScriptMagics",
                "quickref": "BasicMagics",
                "magic": "BasicMagics",
                "dhist": "OSMagics",
                "edit": "KernelMagics",
                "logstop": "LoggingMagics",
                "gui": "BasicMagics",
                "prun": "ExecutionMagics",
                "debug": "ExecutionMagics",
                "page": "BasicMagics",
                "logstate": "LoggingMagics",
                "ed": "Other",
                "pushd": "OSMagics",
                "timeit": "ExecutionMagics",
                "set_env": "OSMagics",
                "rehashx": "OSMagics",
                "hist": "Other",
                "qtconsole": "KernelMagics",
                "rm": "Other",
                "dirs": "OSMagics",
                "run": "ExecutionMagics",
                "reset_selective": "NamespaceMagics",
                "pinfo2": "NamespaceMagics",
                "matplotlib": "PylabMagics",
                "unload_ext": "ExtensionMagics",
                "doctest_mode": "BasicMagics",
                "logoff": "LoggingMagics",
                "reload_ext": "ExtensionMagics",
                "pdb": "ExecutionMagics",
                "load": "CodeMagics",
                "lsmagic": "BasicMagics",
                "autosave": "KernelMagics",
                "cd": "OSMagics",
                "pastebin": "CodeMagics",
                "alias_magic": "BasicMagics",
                "cp": "Other",
                "autocall": "AutoMagics",
                "ldir": "Other",
                "bookmark": "OSMagics",
                "connect_info": "KernelMagics",
                "mkdir": "Other",
                "system": "OSMagics",
                "whos": "NamespaceMagics",
                "rmdir": "Other",
                "automagic": "AutoMagics",
                "store": "StoreMagics",
                "more": "KernelMagics",
                "shell": "Other",
                "pdef": "NamespaceMagics",
                "precision": "BasicMagics",
                "pinfo": "NamespaceMagics",
                "pwd": "OSMagics",
                "psearch": "NamespaceMagics",
                "reset": "NamespaceMagics",
                "recall": "HistoryMagics",
                "xdel": "NamespaceMagics",
                "xmode": "BasicMagics",
                "cat": "Other",
                "mv": "Other",
                "rerun": "HistoryMagics",
                "logon": "LoggingMagics",
                "history": "HistoryMagics",
                "pycat": "OSMagics",
                "pip": "Other",
                "unalias": "OSMagics",
                "env": "OSMagics",
                "load_ext": "ExtensionMagics",
                "config": "ConfigMagics",
                "profile": "BasicMagics",
                "pfile": "NamespaceMagics",
                "less": "KernelMagics",
                "who": "NamespaceMagics",
                "notebook": "BasicMagics",
                "man": "KernelMagics",
                "sx": "OSMagics",
                "macro": "ExecutionMagics",
                "clear": "KernelMagics",
                "alias": "OSMagics",
                "time": "ExecutionMagics",
                "sc": "OSMagics",
                "rep": "Other",
                "pdoc": "NamespaceMagics"
              }
            },
            "text/plain": [
              "Available line magics:\n",
              "%alias  %alias_magic  %autocall  %automagic  %autosave  %bookmark  %cat  %cd  %clear  %colors  %config  %connect_info  %cp  %debug  %dhist  %dirs  %doctest_mode  %ed  %edit  %env  %gui  %hist  %history  %killbgscripts  %ldir  %less  %lf  %lk  %ll  %load  %load_ext  %loadpy  %logoff  %logon  %logstart  %logstate  %logstop  %ls  %lsmagic  %lx  %macro  %magic  %man  %matplotlib  %mkdir  %more  %mv  %notebook  %page  %pastebin  %pdb  %pdef  %pdoc  %pfile  %pinfo  %pinfo2  %pip  %popd  %pprint  %precision  %profile  %prun  %psearch  %psource  %pushd  %pwd  %pycat  %pylab  %qtconsole  %quickref  %recall  %rehashx  %reload_ext  %rep  %rerun  %reset  %reset_selective  %rm  %rmdir  %run  %save  %sc  %set_env  %shell  %store  %sx  %system  %tb  %tensorflow_version  %time  %timeit  %unalias  %unload_ext  %who  %who_ls  %whos  %xdel  %xmode\n",
              "\n",
              "Available cell magics:\n",
              "%%!  %%HTML  %%SVG  %%bash  %%bigquery  %%capture  %%debug  %%file  %%html  %%javascript  %%js  %%latex  %%perl  %%prun  %%pypy  %%python  %%python2  %%python3  %%ruby  %%script  %%sh  %%shell  %%svg  %%sx  %%system  %%time  %%timeit  %%writefile\n",
              "\n",
              "Automagic is ON, % prefix IS NOT needed for line magics."
            ]
          },
          "metadata": {
            "tags": []
          },
          "execution_count": 106
        }
      ]
    },
    {
      "cell_type": "markdown",
      "metadata": {
        "id": "SK-tYo1oks-7"
      },
      "source": [
        "#### Выполнение скрипта из внешнего файла"
      ]
    },
    {
      "cell_type": "code",
      "metadata": {
        "colab": {
          "base_uri": "https://localhost:8080/",
          "height": 52
        },
        "id": "SOQbJ516ks-8",
        "outputId": "1dd44b11-75dd-4fbe-ed80-25faae28193f"
      },
      "source": [
        "with open('script.py', 'w') as f:\n",
        "    f.write(\"print('Hello')\")\n",
        "f.close()\n",
        "%run script.py"
      ],
      "execution_count": 107,
      "outputs": [
        {
          "output_type": "stream",
          "text": [
            "Hello\n"
          ],
          "name": "stdout"
        },
        {
          "output_type": "display_data",
          "data": {
            "text/plain": [
              "<Figure size 432x288 with 0 Axes>"
            ]
          },
          "metadata": {
            "tags": []
          }
        }
      ]
    },
    {
      "cell_type": "markdown",
      "metadata": {
        "id": "AOcwWnLGks-9"
      },
      "source": [
        "#### Оценка времени выполнения строки кода"
      ]
    },
    {
      "cell_type": "code",
      "metadata": {
        "colab": {
          "base_uri": "https://localhost:8080/"
        },
        "id": "CY_RHZjwks--",
        "outputId": "8727c3bb-9579-404f-a0b1-3b2ab010b56c"
      },
      "source": [
        "%time sum([i**5 for i in range(100000)])"
      ],
      "execution_count": 108,
      "outputs": [
        {
          "output_type": "stream",
          "text": [
            "CPU times: user 47.6 ms, sys: 6.27 ms, total: 53.9 ms\n",
            "Wall time: 60.9 ms\n"
          ],
          "name": "stdout"
        },
        {
          "output_type": "execute_result",
          "data": {
            "text/plain": [
              "166661666708333333332500000000"
            ]
          },
          "metadata": {
            "tags": []
          },
          "execution_count": 108
        }
      ]
    },
    {
      "cell_type": "code",
      "metadata": {
        "colab": {
          "base_uri": "https://localhost:8080/"
        },
        "id": "CocFSPl-ks-_",
        "outputId": "dd2b5215-c1eb-4928-e678-f50fd6862a0a"
      },
      "source": [
        "%timeit 7 in [i**5 for i in range(100000)]"
      ],
      "execution_count": 109,
      "outputs": [
        {
          "output_type": "stream",
          "text": [
            "10 loops, best of 5: 38.8 ms per loop\n"
          ],
          "name": "stdout"
        }
      ]
    },
    {
      "cell_type": "code",
      "metadata": {
        "colab": {
          "base_uri": "https://localhost:8080/",
          "height": 185
        },
        "id": "H_0e4pMkks-_",
        "outputId": "bf1288f1-c0f3-48f8-829b-30a3541092b0"
      },
      "source": [
        "a = np.array([i**5 for i in range(100000)])\n",
        "%timeit 7 in a"
      ],
      "execution_count": 110,
      "outputs": [
        {
          "output_type": "error",
          "ename": "NameError",
          "evalue": "ignored",
          "traceback": [
            "\u001b[0;31m---------------------------------------------------------------------------\u001b[0m",
            "\u001b[0;31mNameError\u001b[0m                                 Traceback (most recent call last)",
            "\u001b[0;32m<ipython-input-110-8f1a75f20603>\u001b[0m in \u001b[0;36m<module>\u001b[0;34m()\u001b[0m\n\u001b[0;32m----> 1\u001b[0;31m \u001b[0ma\u001b[0m \u001b[0;34m=\u001b[0m \u001b[0mnp\u001b[0m\u001b[0;34m.\u001b[0m\u001b[0marray\u001b[0m\u001b[0;34m(\u001b[0m\u001b[0;34m[\u001b[0m\u001b[0mi\u001b[0m\u001b[0;34m**\u001b[0m\u001b[0;36m5\u001b[0m \u001b[0;32mfor\u001b[0m \u001b[0mi\u001b[0m \u001b[0;32min\u001b[0m \u001b[0mrange\u001b[0m\u001b[0;34m(\u001b[0m\u001b[0;36m100000\u001b[0m\u001b[0;34m)\u001b[0m\u001b[0;34m]\u001b[0m\u001b[0;34m)\u001b[0m\u001b[0;34m\u001b[0m\u001b[0;34m\u001b[0m\u001b[0m\n\u001b[0m\u001b[1;32m      2\u001b[0m \u001b[0mget_ipython\u001b[0m\u001b[0;34m(\u001b[0m\u001b[0;34m)\u001b[0m\u001b[0;34m.\u001b[0m\u001b[0mmagic\u001b[0m\u001b[0;34m(\u001b[0m\u001b[0;34m'timeit 7 in a'\u001b[0m\u001b[0;34m)\u001b[0m\u001b[0;34m\u001b[0m\u001b[0;34m\u001b[0m\u001b[0m\n",
            "\u001b[0;31mNameError\u001b[0m: name 'np' is not defined"
          ]
        }
      ]
    },
    {
      "cell_type": "markdown",
      "metadata": {
        "id": "TSip52dgks_A"
      },
      "source": [
        "#### Оценка времени выполнения кода в ячейке"
      ]
    },
    {
      "cell_type": "code",
      "metadata": {
        "id": "YrVgcfWpks_B"
      },
      "source": [
        "%%time\n",
        "s = 0\n",
        "a = [i for i in range(1000000)]\n",
        "b = [i for i in range(1000000)]\n",
        "for i in range(len(a)):\n",
        "    s += a[i]*b[i]\n",
        "print(s)    "
      ],
      "execution_count": null,
      "outputs": []
    },
    {
      "cell_type": "markdown",
      "metadata": {
        "id": "3tfW0Qkiks_B"
      },
      "source": [
        "#### Запись в файл"
      ]
    },
    {
      "cell_type": "code",
      "metadata": {
        "id": "60WHCwZjks_B"
      },
      "source": [
        "%%writefile script.py\n",
        "\n",
        "def f(a):\n",
        "    print(a**2)\n",
        "f(2)"
      ],
      "execution_count": null,
      "outputs": []
    },
    {
      "cell_type": "code",
      "metadata": {
        "id": "8Sz6G1zgks_B"
      },
      "source": [
        "%run script.py"
      ],
      "execution_count": null,
      "outputs": []
    },
    {
      "cell_type": "markdown",
      "metadata": {
        "id": "e0TUkhYcks_B"
      },
      "source": [
        "#### Просмотр содержимого файла"
      ]
    },
    {
      "cell_type": "code",
      "metadata": {
        "id": "E-aFSq37ks_C"
      },
      "source": [
        "%pycat script.py"
      ],
      "execution_count": null,
      "outputs": []
    },
    {
      "cell_type": "markdown",
      "metadata": {
        "id": "K-AUyX9Qks_C"
      },
      "source": [
        "#### Получение информации обо всех используемых глобальных переменных"
      ]
    },
    {
      "cell_type": "code",
      "metadata": {
        "id": "uHW7RcAQks_E"
      },
      "source": [
        "%who"
      ],
      "execution_count": null,
      "outputs": []
    },
    {
      "cell_type": "code",
      "metadata": {
        "id": "SVtaFDh3ks_E"
      },
      "source": [
        "%who str"
      ],
      "execution_count": null,
      "outputs": []
    },
    {
      "cell_type": "code",
      "metadata": {
        "id": "-Vjau-tGks_F"
      },
      "source": [
        "%who int"
      ],
      "execution_count": null,
      "outputs": []
    },
    {
      "cell_type": "code",
      "metadata": {
        "id": "yIqZsp20ks_F"
      },
      "source": [
        "%who float"
      ],
      "execution_count": null,
      "outputs": []
    },
    {
      "cell_type": "code",
      "metadata": {
        "id": "DT3INgQDks_F"
      },
      "source": [
        "%who list"
      ],
      "execution_count": null,
      "outputs": []
    },
    {
      "cell_type": "code",
      "metadata": {
        "id": "siV_uO_Mks_F"
      },
      "source": [
        "%who dict"
      ],
      "execution_count": null,
      "outputs": []
    },
    {
      "cell_type": "code",
      "metadata": {
        "id": "_5xOWKdDks_G"
      },
      "source": [
        "%who function"
      ],
      "execution_count": null,
      "outputs": []
    },
    {
      "cell_type": "markdown",
      "metadata": {
        "id": "YAGwZbWeks_I"
      },
      "source": [
        "#### Переменные среды"
      ]
    },
    {
      "cell_type": "code",
      "metadata": {
        "id": "WN48Q7DKks_I"
      },
      "source": [
        "%env PATH"
      ],
      "execution_count": null,
      "outputs": []
    },
    {
      "cell_type": "markdown",
      "metadata": {
        "id": "V3ZpLQIuks_J"
      },
      "source": [
        "<a href='#content'>Назад к Оглавлению</a>"
      ]
    },
    {
      "cell_type": "markdown",
      "metadata": {
        "id": "Kt6kaBuEks9c"
      },
      "source": [
        "# 10 типовых примеров использования python <a name='10ops'></a>"
      ]
    },
    {
      "cell_type": "markdown",
      "metadata": {
        "id": "HuMAruOgks9c"
      },
      "source": [
        "#### Создание переменной"
      ]
    },
    {
      "cell_type": "code",
      "metadata": {
        "id": "4skZ_Gt7ks9c"
      },
      "source": [
        "a = 10"
      ],
      "execution_count": null,
      "outputs": []
    },
    {
      "cell_type": "markdown",
      "metadata": {
        "id": "RZZlbznQks9d"
      },
      "source": [
        "#### Как создать список"
      ]
    },
    {
      "cell_type": "code",
      "metadata": {
        "id": "aIoFdYjxks9d"
      },
      "source": [
        "[i**2 for i in range(5)]"
      ],
      "execution_count": null,
      "outputs": []
    },
    {
      "cell_type": "markdown",
      "metadata": {
        "id": "pMrFCr7Yks9d"
      },
      "source": [
        "#### Как создать функцию"
      ]
    },
    {
      "cell_type": "code",
      "metadata": {
        "id": "pp70O4nyks9d"
      },
      "source": [
        "def f(x):\n",
        "  return x**2\n",
        "f(5)"
      ],
      "execution_count": null,
      "outputs": []
    },
    {
      "cell_type": "markdown",
      "metadata": {
        "id": "5iOffel9ks9d"
      },
      "source": [
        "#### Как подключить библиотеку"
      ]
    },
    {
      "cell_type": "code",
      "metadata": {
        "id": "J1f2xkwCks9e"
      },
      "source": [
        "import math\n",
        "print(math.pi)"
      ],
      "execution_count": null,
      "outputs": []
    },
    {
      "cell_type": "markdown",
      "metadata": {
        "id": "doennYCOks9e"
      },
      "source": [
        "#### Hello, world"
      ]
    },
    {
      "cell_type": "code",
      "metadata": {
        "id": "iMsXqYlWks9e"
      },
      "source": [
        "print(\"Hello, world!\")"
      ],
      "execution_count": null,
      "outputs": []
    },
    {
      "cell_type": "markdown",
      "metadata": {
        "id": "Ihb3kfmZks9e"
      },
      "source": [
        "####Как развернуть строку"
      ]
    },
    {
      "cell_type": "code",
      "metadata": {
        "id": "Z1xd4sndks9e"
      },
      "source": [
        "\"12345\"[::-1]"
      ],
      "execution_count": null,
      "outputs": []
    },
    {
      "cell_type": "markdown",
      "metadata": {
        "id": "o7JcByyqks9e"
      },
      "source": [
        "####Как прочитать информацию из файла и записать в файл"
      ]
    },
    {
      "cell_type": "code",
      "metadata": {
        "id": "kVOHRi7uks9f"
      },
      "source": [
        "s = \"Текст для записи в файл\"\n",
        "with open(\"data.txt\", \"w\") as f:\n",
        "  f.write(s)\n",
        "  f.close"
      ],
      "execution_count": null,
      "outputs": []
    },
    {
      "cell_type": "code",
      "metadata": {
        "id": "oFQCEwao-qOe"
      },
      "source": [
        "!cat data.txt"
      ],
      "execution_count": null,
      "outputs": []
    },
    {
      "cell_type": "code",
      "metadata": {
        "id": "_BcHoo2j-wXy"
      },
      "source": [
        "with open(\"data.txt\", \"r\") as f:\n",
        "  s = f.read()\n",
        "  f.close\n",
        "print(s)"
      ],
      "execution_count": null,
      "outputs": []
    },
    {
      "cell_type": "markdown",
      "metadata": {
        "id": "p92FyxB6ks9f"
      },
      "source": [
        "####Как посчитать частотность букв в тексте"
      ]
    },
    {
      "cell_type": "code",
      "metadata": {
        "id": "QnupNy2xks9f"
      },
      "source": [
        "d = dict()\n",
        "s = \"съешь ещё этих мягких французских булок, да выпей же чаю\"\n",
        "for letter in s:\n",
        "  if letter in d.keys():\n",
        "    d[letter] += 1\n",
        "  else:\n",
        "    d[letter] = 1\n",
        "print(sorted(d), end=\" \")"
      ],
      "execution_count": null,
      "outputs": []
    },
    {
      "cell_type": "markdown",
      "metadata": {
        "id": "RNVZYTSPks9f"
      },
      "source": [
        "#### Найти уникальные значения в массиве"
      ]
    },
    {
      "cell_type": "code",
      "metadata": {
        "id": "_D0SLmg0ks9f"
      },
      "source": [
        "a = \"asdfashjfpawuhfpaweihfpavdf;ajb;vuiba\"\n",
        "\n",
        "set(a)"
      ],
      "execution_count": null,
      "outputs": []
    },
    {
      "cell_type": "markdown",
      "metadata": {
        "id": "0-v4y-hFks9f"
      },
      "source": [
        "####Как нарисовать график функции $y(x)=x^2$"
      ]
    },
    {
      "cell_type": "code",
      "metadata": {
        "id": "n3e11tFvks9f"
      },
      "source": [
        "import matplotlib.pyplot as plt\n",
        "plt.plot([1,2,3,4], [1,4,9,16])\n",
        "plt.show()"
      ],
      "execution_count": null,
      "outputs": []
    },
    {
      "cell_type": "markdown",
      "metadata": {
        "id": "TjCBcnhZks9g"
      },
      "source": [
        "<a href='#content'>Назад к Оглавлению</a>"
      ]
    },
    {
      "cell_type": "markdown",
      "metadata": {
        "id": "Pe0XSIQpks_V"
      },
      "source": [
        "# Полезные ссылки <a name='links'></a>"
      ]
    },
    {
      "cell_type": "markdown",
      "metadata": {
        "id": "45Ao4DURks_V"
      },
      "source": [
        "- python.org\n",
        "\n",
        "- colab.research.google.com"
      ]
    },
    {
      "cell_type": "markdown",
      "metadata": {
        "id": "BM9cksAaks_V"
      },
      "source": [
        "<a href='#content'>Назад к Оглавлению</a>"
      ]
    },
    {
      "cell_type": "markdown",
      "metadata": {
        "id": "qPoiVg_ynRmj"
      },
      "source": [
        "#Практические задания\n",
        "\n"
      ]
    },
    {
      "cell_type": "markdown",
      "metadata": {
        "id": "t7wFZnFRAUiL"
      },
      "source": [
        "1. Посчитать какой символ чаще всего встречается в файле hosts"
      ]
    },
    {
      "cell_type": "code",
      "metadata": {
        "id": "Gn3mWtzanUSf"
      },
      "source": [
        "!cat /etc/hosts"
      ],
      "execution_count": null,
      "outputs": []
    },
    {
      "cell_type": "markdown",
      "metadata": {
        "id": "DlKzuFLjAaPQ"
      },
      "source": [
        "2. Посчитать какое слово встречается чаще всего в тексте.\n",
        "\n"
      ]
    },
    {
      "cell_type": "code",
      "metadata": {
        "id": "X_b1zl2JljxN"
      },
      "source": [
        "!wget http://lib.ru/LITRA/PUSHKIN/p4.txt"
      ],
      "execution_count": null,
      "outputs": []
    },
    {
      "cell_type": "code",
      "metadata": {
        "id": "vCbnyJRVlnO7"
      },
      "source": [
        "!ls"
      ],
      "execution_count": null,
      "outputs": []
    },
    {
      "cell_type": "markdown",
      "metadata": {
        "id": "XYLcsIUGAmAy"
      },
      "source": [
        "<a href='#content'>Назад к Оглавлению</a>"
      ]
    },
    {
      "cell_type": "code",
      "metadata": {
        "id": "SJts2Y7GlW2s"
      },
      "source": [
        ""
      ],
      "execution_count": null,
      "outputs": []
    }
  ]
}