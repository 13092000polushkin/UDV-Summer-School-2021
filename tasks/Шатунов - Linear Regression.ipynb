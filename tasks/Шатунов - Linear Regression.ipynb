{
  "nbformat": 4,
  "nbformat_minor": 0,
  "metadata": {
    "colab": {
      "name": "Шатунов - Linear Regression.ipynb",
      "provenance": [],
      "collapsed_sections": []
    },
    "kernelspec": {
      "name": "python3",
      "display_name": "Python 3"
    },
    "language_info": {
      "name": "python"
    }
  },
  "cells": [
    {
      "cell_type": "markdown",
      "metadata": {
        "id": "BrfC27S25vkD"
      },
      "source": [
        "#Линейная регрессия\n",
        "\n",
        "**Линейная регрессия (англ. linear regression)** – метод восстановления зависимости одной (объясняемой, зависимой) переменной **y** от другой или нескольких других переменных (факторов, регрессоров, независимых переменных) **x** с линейной функцией зависимости. Это одна из важнейших и широко используемых техник регрессии. Одним из её достоинств является лёгкость интерпретации результатов.\n",
        "\n",
        "Линейная регрессия применяется для анализа данных и в машинном обучении. Регрессия полезна для прогнозирования ответа на новые условия."
      ]
    },
    {
      "cell_type": "markdown",
      "metadata": {
        "id": "ZbeDjo7K8mvl"
      },
      "source": [
        "##Пример линейной регрессии с простыми данными из массивов"
      ]
    },
    {
      "cell_type": "markdown",
      "metadata": {
        "id": "_-shIUokD2Nw"
      },
      "source": [
        "Импортирование библиотек"
      ]
    },
    {
      "cell_type": "code",
      "metadata": {
        "id": "zf8MSaIX9LBc"
      },
      "source": [
        "import numpy as np\n",
        "from sklearn.linear_model import LinearRegression\n",
        "import matplotlib.pyplot as plt"
      ],
      "execution_count": null,
      "outputs": []
    },
    {
      "cell_type": "markdown",
      "metadata": {
        "id": "OiZC1tlVD5JA"
      },
      "source": [
        "Входные данные:"
      ]
    },
    {
      "cell_type": "code",
      "metadata": {
        "colab": {
          "base_uri": "https://localhost:8080/"
        },
        "id": "nz_jTwIN9Lm8",
        "outputId": "6ab7dfaf-f149-4b60-a3fd-2114799a02f3"
      },
      "source": [
        "x = np.array([5, 15, 25, 35, 45, 55]).reshape((-1, 1))\n",
        "y = np.array([5, 13, 21, 38, 45, 60])\n",
        "print(\"x:\")\n",
        "print(x)\n",
        "print(\"y:\")\n",
        "print(y)"
      ],
      "execution_count": null,
      "outputs": [
        {
          "output_type": "stream",
          "text": [
            "x:\n",
            "[[ 5]\n",
            " [15]\n",
            " [25]\n",
            " [35]\n",
            " [45]\n",
            " [55]]\n",
            "y:\n",
            "[ 5 13 21 38 45 60]\n"
          ],
          "name": "stdout"
        }
      ]
    },
    {
      "cell_type": "markdown",
      "metadata": {
        "id": "ceRkORvZD9Bf"
      },
      "source": [
        "Создание модели и тренировка на наших начальных данных:"
      ]
    },
    {
      "cell_type": "code",
      "metadata": {
        "colab": {
          "base_uri": "https://localhost:8080/"
        },
        "id": "w9VRXbGu_Dbw",
        "outputId": "351444df-9f5b-428a-ba26-322ab76dbe34"
      },
      "source": [
        "model = LinearRegression()\n",
        "model.fit(x, y)"
      ],
      "execution_count": null,
      "outputs": [
        {
          "output_type": "execute_result",
          "data": {
            "text/plain": [
              "LinearRegression(copy_X=True, fit_intercept=True, n_jobs=None, normalize=False)"
            ]
          },
          "metadata": {
            "tags": []
          },
          "execution_count": 72
        }
      ]
    },
    {
      "cell_type": "markdown",
      "metadata": {
        "id": "orPskYNGES--"
      },
      "source": [
        "График линейной регрессии (точки - начальные данные, а прямая построена на наших x и предсказанных y)"
      ]
    },
    {
      "cell_type": "code",
      "metadata": {
        "colab": {
          "base_uri": "https://localhost:8080/"
        },
        "id": "XKBVWb4DBC-l",
        "outputId": "5ef3a4ab-8b4e-4db6-f0b8-a496ec84848b"
      },
      "source": [
        "plt.scatter(x, y);\n",
        "plt.plot(x,model.predict(x));"
      ],
      "execution_count": null,
      "outputs": [
        {
          "output_type": "display_data",
          "data": {
            "image/png": "[encoded data removed]",
            "text/plain": [
              "<Figure size 432x288 with 1 Axes>"
            ]
          },
          "metadata": {
            "tags": [],
            "needs_background": "light"
          }
        }
      ]
    },
    {
      "cell_type": "markdown",
      "metadata": {
        "id": "Qw5J_TXDIYRp"
      },
      "source": [
        "##Пример линейной регрессии на датасете Бостонской недвижимости"
      ]
    },
    {
      "cell_type": "markdown",
      "metadata": {
        "id": "zAEisyO6LORj"
      },
      "source": [
        "Импортирование библиотек"
      ]
    },
    {
      "cell_type": "code",
      "metadata": {
        "id": "J0xsQjkWIpeb"
      },
      "source": [
        "from sklearn.datasets import load_boston\n",
        "import pandas as pd\n",
        "import numpy as np\n",
        "from sklearn.linear_model import LinearRegression\n",
        "import matplotlib.pyplot as plt"
      ],
      "execution_count": null,
      "outputs": []
    },
    {
      "cell_type": "markdown",
      "metadata": {
        "id": "Zs5P6rOyLPMp"
      },
      "source": [
        "Загрузка датасета"
      ]
    },
    {
      "cell_type": "code",
      "metadata": {
        "id": "lniJvyBAItJW"
      },
      "source": [
        "boston_data = load_boston() \n",
        "boston_df = pd.DataFrame(boston_data.data, columns=boston_data.feature_names) \n",
        "target = boston_data.target"
      ],
      "execution_count": null,
      "outputs": []
    },
    {
      "cell_type": "markdown",
      "metadata": {
        "id": "9cGKp5sNLT7A"
      },
      "source": [
        "График входных данных\n",
        "\n",
        "x - RM - среднее количество комнат в доме\n",
        "\n",
        "y - TARGET - медианное значение стоимости занимаемых домов в тысячах долларов США."
      ]
    },
    {
      "cell_type": "code",
      "metadata": {
        "colab": {
          "base_uri": "https://localhost:8080/"
        },
        "id": "9-t-JT3MIvOV",
        "outputId": "66639a3e-99c9-46dc-8b16-028a33695648"
      },
      "source": [
        "x = np.array(boston_df['RM']).reshape((-1, 1))\n",
        "y = target\n",
        "plt.scatter(x, y)"
      ],
      "execution_count": null,
      "outputs": [
        {
          "output_type": "execute_result",
          "data": {
            "text/plain": [
              "<matplotlib.collections.PathCollection at 0x7f70c1ed0750>"
            ]
          },
          "metadata": {
            "tags": []
          },
          "execution_count": 76
        },
        {
          "output_type": "display_data",
          "data": {
            "image/png": "[encoded data removed]",
            "text/plain": [
              "<Figure size 432x288 with 1 Axes>"
            ]
          },
          "metadata": {
            "tags": [],
            "needs_background": "light"
          }
        }
      ]
    },
    {
      "cell_type": "markdown",
      "metadata": {
        "id": "PFtvtcnuMgzZ"
      },
      "source": [
        "Создание модели и тренировка на наших начальных данных:"
      ]
    },
    {
      "cell_type": "code",
      "metadata": {
        "colab": {
          "base_uri": "https://localhost:8080/"
        },
        "id": "3Dt_-wYhKBJV",
        "outputId": "99d03940-0878-4f93-b0cb-3638ed24bad9"
      },
      "source": [
        "model = LinearRegression()\n",
        "model.fit(x, y)"
      ],
      "execution_count": null,
      "outputs": [
        {
          "output_type": "execute_result",
          "data": {
            "text/plain": [
              "LinearRegression(copy_X=True, fit_intercept=True, n_jobs=None, normalize=False)"
            ]
          },
          "metadata": {
            "tags": []
          },
          "execution_count": 77
        }
      ]
    },
    {
      "cell_type": "markdown",
      "metadata": {
        "id": "nMSQ2rImMh-f"
      },
      "source": [
        "График линейной регрессии (точки - начальные данные, а прямая построена на наших x и предсказанных y)"
      ]
    },
    {
      "cell_type": "code",
      "metadata": {
        "colab": {
          "base_uri": "https://localhost:8080/"
        },
        "id": "6wF61VpaIwuP",
        "outputId": "efbd7cac-aef2-41be-e938-dff2b76eaca8"
      },
      "source": [
        "plt.scatter(x, y)\n",
        "plt.plot(x, model.predict(x))"
      ],
      "execution_count": null,
      "outputs": [
        {
          "output_type": "execute_result",
          "data": {
            "text/plain": [
              "[<matplotlib.lines.Line2D at 0x7f70c1ec4e50>]"
            ]
          },
          "metadata": {
            "tags": []
          },
          "execution_count": 78
        },
        {
          "output_type": "display_data",
          "data": {
            "image/png": "[encoded data removed]",
            "text/plain": [
              "<Figure size 432x288 with 1 Axes>"
            ]
          },
          "metadata": {
            "tags": [],
            "needs_background": "light"
          }
        }
      ]
    }
  ]
}